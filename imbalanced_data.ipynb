{
 "cells": [
  {
   "cell_type": "markdown",
   "metadata": {
    "id": "dUeKVCYTbcyT"
   },
   "source": [
    "#### Copyright 2019 The TensorFlow Authors."
   ]
  },
  {
   "cell_type": "code",
   "execution_count": 1,
   "metadata": {
    "cellView": "form",
    "execution": {
     "iopub.execute_input": "2023-07-27T04:52:26.245942Z",
     "iopub.status.busy": "2023-07-27T04:52:26.245718Z",
     "iopub.status.idle": "2023-07-27T04:52:26.249405Z",
     "shell.execute_reply": "2023-07-27T04:52:26.248783Z"
    },
    "id": "4ellrPx7tdxq"
   },
   "outputs": [],
   "source": [
    "#@title Licensed under the Apache License, Version 2.0 (the \"License\");\n",
    "# you may not use this file except in compliance with the License.\n",
    "# You may obtain a copy of the License at\n",
    "#\n",
    "# https://www.apache.org/licenses/LICENSE-2.0\n",
    "#\n",
    "# Unless required by applicable law or agreed to in writing, software\n",
    "# distributed under the License is distributed on an \"AS IS\" BASIS,\n",
    "# WITHOUT WARRANTIES OR CONDITIONS OF ANY KIND, either express or implied.\n",
    "# See the License for the specific language governing permissions and\n",
    "# limitations under the License."
   ]
  },
  {
   "cell_type": "markdown",
   "metadata": {
    "id": "7JfLUlawto_D"
   },
   "source": [
    "# Classification on imbalanced data"
   ]
  },
  {
   "cell_type": "markdown",
   "metadata": {
    "id": "DwdpaTKJOoPu"
   },
   "source": [
    "<table class=\"tfo-notebook-buttons\" align=\"left\">\n",
    "  <td>\n",
    "    <a target=\"_blank\" href=\"https://www.tensorflow.org/tutorials/structured_data/imbalanced_data\"><img src=\"https://www.tensorflow.org/images/tf_logo_32px.png\" />View on TensorFlow.org</a>\n",
    "  </td>\n",
    "  <td>\n",
    "    <a target=\"_blank\" href=\"https://colab.research.google.com/github/tensorflow/docs/blob/master/site/en/tutorials/structured_data/imbalanced_data.ipynb\"><img src=\"https://www.tensorflow.org/images/colab_logo_32px.png\" />Run in Google Colab</a>\n",
    "  </td>\n",
    "  <td>\n",
    "    <a target=\"_blank\" href=\"https://github.com/tensorflow/docs/blob/master/site/en/tutorials/structured_data/imbalanced_data.ipynb\"><img src=\"https://www.tensorflow.org/images/GitHub-Mark-32px.png\" />View source on GitHub</a>\n",
    "  </td>\n",
    "  <td>\n",
    "    <a href=\"https://storage.googleapis.com/tensorflow_docs/docs/site/en/tutorials/structured_data/imbalanced_data.ipynb\"><img src=\"https://www.tensorflow.org/images/download_logo_32px.png\" />Download notebook</a>\n",
    "  </td>\n",
    "</table>"
   ]
  },
  {
   "cell_type": "markdown",
   "metadata": {
    "id": "mthoSGBAOoX-"
   },
   "source": [
    "This tutorial demonstrates how to classify a highly imbalanced dataset in which the number of examples in one class greatly outnumbers the examples in another. You will work with the [Credit Card Fraud Detection](https://www.kaggle.com/mlg-ulb/creditcardfraud) dataset hosted on Kaggle. The aim is to detect a mere 492 fraudulent transactions from 284,807 transactions in total. You will use [Keras](https://www.tensorflow.org/guide/keras/overview) to define the model and [class weights](https://www.tensorflow.org/versions/r2.0/api_docs/python/tf/keras/Model) to help the model learn from the imbalanced data. .\n",
    "\n",
    "This tutorial contains complete code to:\n",
    "\n",
    "* Load a CSV file using Pandas.\n",
    "* Create train, validation, and test sets.\n",
    "* Define and train a model using Keras (including setting class weights).\n",
    "* Evaluate the model using various metrics (including precision and recall).\n",
    "* Select a threshold for a probabilistic classifier to get a deterministic classifier.\n",
    "* Try and compare with class weighted modelling and oversampling."
   ]
  },
  {
   "cell_type": "markdown",
   "metadata": {
    "id": "kRHmSyHxEIhN"
   },
   "source": [
    "## Setup"
   ]
  },
  {
   "cell_type": "code",
   "execution_count": 2,
   "metadata": {
    "execution": {
     "iopub.execute_input": "2023-07-27T04:52:26.252994Z",
     "iopub.status.busy": "2023-07-27T04:52:26.252751Z",
     "iopub.status.idle": "2023-07-27T04:52:29.109039Z",
     "shell.execute_reply": "2023-07-27T04:52:29.108330Z"
    },
    "id": "JM7hDSNClfoK"
   },
   "outputs": [],
   "source": [
    "import tensorflow as tf\n",
    "from tensorflow import keras\n",
    "\n",
    "import os\n",
    "import tempfile\n",
    "\n",
    "import matplotlib as mpl\n",
    "import matplotlib.pyplot as plt\n",
    "import numpy as np\n",
    "import pandas as pd\n",
    "import seaborn as sns\n",
    "\n",
    "import sklearn\n",
    "from sklearn.metrics import confusion_matrix\n",
    "from sklearn.model_selection import train_test_split\n",
    "from sklearn.preprocessing import StandardScaler"
   ]
  },
  {
   "cell_type": "code",
   "execution_count": 3,
   "metadata": {
    "execution": {
     "iopub.execute_input": "2023-07-27T04:52:29.114877Z",
     "iopub.status.busy": "2023-07-27T04:52:29.114443Z",
     "iopub.status.idle": "2023-07-27T04:52:29.118196Z",
     "shell.execute_reply": "2023-07-27T04:52:29.117608Z"
    },
    "id": "c8o1FHzD-_y_"
   },
   "outputs": [],
   "source": [
    "mpl.rcParams['figure.figsize'] = (12, 10)\n",
    "colors = plt.rcParams['axes.prop_cycle'].by_key()['color']"
   ]
  },
  {
   "cell_type": "markdown",
   "metadata": {
    "id": "Z3iZVjziKHmX"
   },
   "source": [
    "## Data processing and exploration"
   ]
  },
  {
   "cell_type": "markdown",
   "metadata": {
    "id": "4sA9WOcmzH2D"
   },
   "source": [
    "### Download the Kaggle Credit Card Fraud data set\n",
    "\n",
    "Pandas is a Python library with many helpful utilities for loading and working with structured data. It can be used to download CSVs into a Pandas [DataFrame](https://pandas.pydata.org/docs/reference/api/pandas.DataFrame.html#pandas.DataFrame).\n",
    "\n",
    "Note: This dataset has been collected and analysed during a research collaboration of Worldline and the [Machine Learning Group](http://mlg.ulb.ac.be) of ULB (Université Libre de Bruxelles) on big data mining and fraud detection. More details on current and past projects on related topics are available [here](https://www.researchgate.net/project/Fraud-detection-5) and the page of the [DefeatFraud](https://mlg.ulb.ac.be/wordpress/portfolio_page/defeatfraud-assessment-and-validation-of-deep-feature-engineering-and-learning-solutions-for-fraud-detection/) project"
   ]
  },
  {
   "cell_type": "code",
   "execution_count": 4,
   "metadata": {
    "execution": {
     "iopub.execute_input": "2023-07-27T04:52:29.121276Z",
     "iopub.status.busy": "2023-07-27T04:52:29.121042Z",
     "iopub.status.idle": "2023-07-27T04:52:32.041672Z",
     "shell.execute_reply": "2023-07-27T04:52:32.041080Z"
    },
    "id": "pR_SnbMArXr7"
   },
   "outputs": [
    {
     "data": {
      "text/html": [
       "<div>\n",
       "<style scoped>\n",
       "    .dataframe tbody tr th:only-of-type {\n",
       "        vertical-align: middle;\n",
       "    }\n",
       "\n",
       "    .dataframe tbody tr th {\n",
       "        vertical-align: top;\n",
       "    }\n",
       "\n",
       "    .dataframe thead th {\n",
       "        text-align: right;\n",
       "    }\n",
       "</style>\n",
       "<table border=\"1\" class=\"dataframe\">\n",
       "  <thead>\n",
       "    <tr style=\"text-align: right;\">\n",
       "      <th></th>\n",
       "      <th>Time</th>\n",
       "      <th>V1</th>\n",
       "      <th>V2</th>\n",
       "      <th>V3</th>\n",
       "      <th>V4</th>\n",
       "      <th>V5</th>\n",
       "      <th>V6</th>\n",
       "      <th>V7</th>\n",
       "      <th>V8</th>\n",
       "      <th>V9</th>\n",
       "      <th>...</th>\n",
       "      <th>V21</th>\n",
       "      <th>V22</th>\n",
       "      <th>V23</th>\n",
       "      <th>V24</th>\n",
       "      <th>V25</th>\n",
       "      <th>V26</th>\n",
       "      <th>V27</th>\n",
       "      <th>V28</th>\n",
       "      <th>Amount</th>\n",
       "      <th>Class</th>\n",
       "    </tr>\n",
       "  </thead>\n",
       "  <tbody>\n",
       "    <tr>\n",
       "      <th>0</th>\n",
       "      <td>0.0</td>\n",
       "      <td>-1.359807</td>\n",
       "      <td>-0.072781</td>\n",
       "      <td>2.536347</td>\n",
       "      <td>1.378155</td>\n",
       "      <td>-0.338321</td>\n",
       "      <td>0.462388</td>\n",
       "      <td>0.239599</td>\n",
       "      <td>0.098698</td>\n",
       "      <td>0.363787</td>\n",
       "      <td>...</td>\n",
       "      <td>-0.018307</td>\n",
       "      <td>0.277838</td>\n",
       "      <td>-0.110474</td>\n",
       "      <td>0.066928</td>\n",
       "      <td>0.128539</td>\n",
       "      <td>-0.189115</td>\n",
       "      <td>0.133558</td>\n",
       "      <td>-0.021053</td>\n",
       "      <td>149.62</td>\n",
       "      <td>0</td>\n",
       "    </tr>\n",
       "    <tr>\n",
       "      <th>1</th>\n",
       "      <td>0.0</td>\n",
       "      <td>1.191857</td>\n",
       "      <td>0.266151</td>\n",
       "      <td>0.166480</td>\n",
       "      <td>0.448154</td>\n",
       "      <td>0.060018</td>\n",
       "      <td>-0.082361</td>\n",
       "      <td>-0.078803</td>\n",
       "      <td>0.085102</td>\n",
       "      <td>-0.255425</td>\n",
       "      <td>...</td>\n",
       "      <td>-0.225775</td>\n",
       "      <td>-0.638672</td>\n",
       "      <td>0.101288</td>\n",
       "      <td>-0.339846</td>\n",
       "      <td>0.167170</td>\n",
       "      <td>0.125895</td>\n",
       "      <td>-0.008983</td>\n",
       "      <td>0.014724</td>\n",
       "      <td>2.69</td>\n",
       "      <td>0</td>\n",
       "    </tr>\n",
       "    <tr>\n",
       "      <th>2</th>\n",
       "      <td>1.0</td>\n",
       "      <td>-1.358354</td>\n",
       "      <td>-1.340163</td>\n",
       "      <td>1.773209</td>\n",
       "      <td>0.379780</td>\n",
       "      <td>-0.503198</td>\n",
       "      <td>1.800499</td>\n",
       "      <td>0.791461</td>\n",
       "      <td>0.247676</td>\n",
       "      <td>-1.514654</td>\n",
       "      <td>...</td>\n",
       "      <td>0.247998</td>\n",
       "      <td>0.771679</td>\n",
       "      <td>0.909412</td>\n",
       "      <td>-0.689281</td>\n",
       "      <td>-0.327642</td>\n",
       "      <td>-0.139097</td>\n",
       "      <td>-0.055353</td>\n",
       "      <td>-0.059752</td>\n",
       "      <td>378.66</td>\n",
       "      <td>0</td>\n",
       "    </tr>\n",
       "    <tr>\n",
       "      <th>3</th>\n",
       "      <td>1.0</td>\n",
       "      <td>-0.966272</td>\n",
       "      <td>-0.185226</td>\n",
       "      <td>1.792993</td>\n",
       "      <td>-0.863291</td>\n",
       "      <td>-0.010309</td>\n",
       "      <td>1.247203</td>\n",
       "      <td>0.237609</td>\n",
       "      <td>0.377436</td>\n",
       "      <td>-1.387024</td>\n",
       "      <td>...</td>\n",
       "      <td>-0.108300</td>\n",
       "      <td>0.005274</td>\n",
       "      <td>-0.190321</td>\n",
       "      <td>-1.175575</td>\n",
       "      <td>0.647376</td>\n",
       "      <td>-0.221929</td>\n",
       "      <td>0.062723</td>\n",
       "      <td>0.061458</td>\n",
       "      <td>123.50</td>\n",
       "      <td>0</td>\n",
       "    </tr>\n",
       "    <tr>\n",
       "      <th>4</th>\n",
       "      <td>2.0</td>\n",
       "      <td>-1.158233</td>\n",
       "      <td>0.877737</td>\n",
       "      <td>1.548718</td>\n",
       "      <td>0.403034</td>\n",
       "      <td>-0.407193</td>\n",
       "      <td>0.095921</td>\n",
       "      <td>0.592941</td>\n",
       "      <td>-0.270533</td>\n",
       "      <td>0.817739</td>\n",
       "      <td>...</td>\n",
       "      <td>-0.009431</td>\n",
       "      <td>0.798278</td>\n",
       "      <td>-0.137458</td>\n",
       "      <td>0.141267</td>\n",
       "      <td>-0.206010</td>\n",
       "      <td>0.502292</td>\n",
       "      <td>0.219422</td>\n",
       "      <td>0.215153</td>\n",
       "      <td>69.99</td>\n",
       "      <td>0</td>\n",
       "    </tr>\n",
       "  </tbody>\n",
       "</table>\n",
       "<p>5 rows × 31 columns</p>\n",
       "</div>"
      ],
      "text/plain": [
       "   Time        V1        V2        V3        V4        V5        V6        V7  \\\n",
       "0   0.0 -1.359807 -0.072781  2.536347  1.378155 -0.338321  0.462388  0.239599   \n",
       "1   0.0  1.191857  0.266151  0.166480  0.448154  0.060018 -0.082361 -0.078803   \n",
       "2   1.0 -1.358354 -1.340163  1.773209  0.379780 -0.503198  1.800499  0.791461   \n",
       "3   1.0 -0.966272 -0.185226  1.792993 -0.863291 -0.010309  1.247203  0.237609   \n",
       "4   2.0 -1.158233  0.877737  1.548718  0.403034 -0.407193  0.095921  0.592941   \n",
       "\n",
       "         V8        V9  ...       V21       V22       V23       V24       V25  \\\n",
       "0  0.098698  0.363787  ... -0.018307  0.277838 -0.110474  0.066928  0.128539   \n",
       "1  0.085102 -0.255425  ... -0.225775 -0.638672  0.101288 -0.339846  0.167170   \n",
       "2  0.247676 -1.514654  ...  0.247998  0.771679  0.909412 -0.689281 -0.327642   \n",
       "3  0.377436 -1.387024  ... -0.108300  0.005274 -0.190321 -1.175575  0.647376   \n",
       "4 -0.270533  0.817739  ... -0.009431  0.798278 -0.137458  0.141267 -0.206010   \n",
       "\n",
       "        V26       V27       V28  Amount  Class  \n",
       "0 -0.189115  0.133558 -0.021053  149.62      0  \n",
       "1  0.125895 -0.008983  0.014724    2.69      0  \n",
       "2 -0.139097 -0.055353 -0.059752  378.66      0  \n",
       "3 -0.221929  0.062723  0.061458  123.50      0  \n",
       "4  0.502292  0.219422  0.215153   69.99      0  \n",
       "\n",
       "[5 rows x 31 columns]"
      ]
     },
     "execution_count": 4,
     "metadata": {},
     "output_type": "execute_result"
    }
   ],
   "source": [
    "file = tf.keras.utils\n",
    "raw_df = pd.read_csv('https://storage.googleapis.com/download.tensorflow.org/data/creditcard.csv')\n",
    "raw_df.head()"
   ]
  },
  {
   "cell_type": "code",
   "execution_count": 5,
   "metadata": {
    "execution": {
     "iopub.execute_input": "2023-07-27T04:52:32.081175Z",
     "iopub.status.busy": "2023-07-27T04:52:32.080932Z",
     "iopub.status.idle": "2023-07-27T04:52:32.222164Z",
     "shell.execute_reply": "2023-07-27T04:52:32.221530Z"
    },
    "id": "-fgdQgmwUFuj"
   },
   "outputs": [
    {
     "data": {
      "text/html": [
       "<div>\n",
       "<style scoped>\n",
       "    .dataframe tbody tr th:only-of-type {\n",
       "        vertical-align: middle;\n",
       "    }\n",
       "\n",
       "    .dataframe tbody tr th {\n",
       "        vertical-align: top;\n",
       "    }\n",
       "\n",
       "    .dataframe thead th {\n",
       "        text-align: right;\n",
       "    }\n",
       "</style>\n",
       "<table border=\"1\" class=\"dataframe\">\n",
       "  <thead>\n",
       "    <tr style=\"text-align: right;\">\n",
       "      <th></th>\n",
       "      <th>Time</th>\n",
       "      <th>V1</th>\n",
       "      <th>V2</th>\n",
       "      <th>V3</th>\n",
       "      <th>V4</th>\n",
       "      <th>V5</th>\n",
       "      <th>V26</th>\n",
       "      <th>V27</th>\n",
       "      <th>V28</th>\n",
       "      <th>Amount</th>\n",
       "      <th>Class</th>\n",
       "    </tr>\n",
       "  </thead>\n",
       "  <tbody>\n",
       "    <tr>\n",
       "      <th>count</th>\n",
       "      <td>284807.000000</td>\n",
       "      <td>2.848070e+05</td>\n",
       "      <td>2.848070e+05</td>\n",
       "      <td>2.848070e+05</td>\n",
       "      <td>2.848070e+05</td>\n",
       "      <td>2.848070e+05</td>\n",
       "      <td>2.848070e+05</td>\n",
       "      <td>2.848070e+05</td>\n",
       "      <td>2.848070e+05</td>\n",
       "      <td>284807.000000</td>\n",
       "      <td>284807.000000</td>\n",
       "    </tr>\n",
       "    <tr>\n",
       "      <th>mean</th>\n",
       "      <td>94813.859575</td>\n",
       "      <td>3.918649e-15</td>\n",
       "      <td>5.682686e-16</td>\n",
       "      <td>-8.761736e-15</td>\n",
       "      <td>2.811118e-15</td>\n",
       "      <td>-1.552103e-15</td>\n",
       "      <td>1.701640e-15</td>\n",
       "      <td>-3.662252e-16</td>\n",
       "      <td>-1.217809e-16</td>\n",
       "      <td>88.349619</td>\n",
       "      <td>0.001727</td>\n",
       "    </tr>\n",
       "    <tr>\n",
       "      <th>std</th>\n",
       "      <td>47488.145955</td>\n",
       "      <td>1.958696e+00</td>\n",
       "      <td>1.651309e+00</td>\n",
       "      <td>1.516255e+00</td>\n",
       "      <td>1.415869e+00</td>\n",
       "      <td>1.380247e+00</td>\n",
       "      <td>4.822270e-01</td>\n",
       "      <td>4.036325e-01</td>\n",
       "      <td>3.300833e-01</td>\n",
       "      <td>250.120109</td>\n",
       "      <td>0.041527</td>\n",
       "    </tr>\n",
       "    <tr>\n",
       "      <th>min</th>\n",
       "      <td>0.000000</td>\n",
       "      <td>-5.640751e+01</td>\n",
       "      <td>-7.271573e+01</td>\n",
       "      <td>-4.832559e+01</td>\n",
       "      <td>-5.683171e+00</td>\n",
       "      <td>-1.137433e+02</td>\n",
       "      <td>-2.604551e+00</td>\n",
       "      <td>-2.256568e+01</td>\n",
       "      <td>-1.543008e+01</td>\n",
       "      <td>0.000000</td>\n",
       "      <td>0.000000</td>\n",
       "    </tr>\n",
       "    <tr>\n",
       "      <th>25%</th>\n",
       "      <td>54201.500000</td>\n",
       "      <td>-9.203734e-01</td>\n",
       "      <td>-5.985499e-01</td>\n",
       "      <td>-8.903648e-01</td>\n",
       "      <td>-8.486401e-01</td>\n",
       "      <td>-6.915971e-01</td>\n",
       "      <td>-3.269839e-01</td>\n",
       "      <td>-7.083953e-02</td>\n",
       "      <td>-5.295979e-02</td>\n",
       "      <td>5.600000</td>\n",
       "      <td>0.000000</td>\n",
       "    </tr>\n",
       "    <tr>\n",
       "      <th>50%</th>\n",
       "      <td>84692.000000</td>\n",
       "      <td>1.810880e-02</td>\n",
       "      <td>6.548556e-02</td>\n",
       "      <td>1.798463e-01</td>\n",
       "      <td>-1.984653e-02</td>\n",
       "      <td>-5.433583e-02</td>\n",
       "      <td>-5.213911e-02</td>\n",
       "      <td>1.342146e-03</td>\n",
       "      <td>1.124383e-02</td>\n",
       "      <td>22.000000</td>\n",
       "      <td>0.000000</td>\n",
       "    </tr>\n",
       "    <tr>\n",
       "      <th>75%</th>\n",
       "      <td>139320.500000</td>\n",
       "      <td>1.315642e+00</td>\n",
       "      <td>8.037239e-01</td>\n",
       "      <td>1.027196e+00</td>\n",
       "      <td>7.433413e-01</td>\n",
       "      <td>6.119264e-01</td>\n",
       "      <td>2.409522e-01</td>\n",
       "      <td>9.104512e-02</td>\n",
       "      <td>7.827995e-02</td>\n",
       "      <td>77.165000</td>\n",
       "      <td>0.000000</td>\n",
       "    </tr>\n",
       "    <tr>\n",
       "      <th>max</th>\n",
       "      <td>172792.000000</td>\n",
       "      <td>2.454930e+00</td>\n",
       "      <td>2.205773e+01</td>\n",
       "      <td>9.382558e+00</td>\n",
       "      <td>1.687534e+01</td>\n",
       "      <td>3.480167e+01</td>\n",
       "      <td>3.517346e+00</td>\n",
       "      <td>3.161220e+01</td>\n",
       "      <td>3.384781e+01</td>\n",
       "      <td>25691.160000</td>\n",
       "      <td>1.000000</td>\n",
       "    </tr>\n",
       "  </tbody>\n",
       "</table>\n",
       "</div>"
      ],
      "text/plain": [
       "                Time            V1            V2            V3            V4  \\\n",
       "count  284807.000000  2.848070e+05  2.848070e+05  2.848070e+05  2.848070e+05   \n",
       "mean    94813.859575  3.918649e-15  5.682686e-16 -8.761736e-15  2.811118e-15   \n",
       "std     47488.145955  1.958696e+00  1.651309e+00  1.516255e+00  1.415869e+00   \n",
       "min         0.000000 -5.640751e+01 -7.271573e+01 -4.832559e+01 -5.683171e+00   \n",
       "25%     54201.500000 -9.203734e-01 -5.985499e-01 -8.903648e-01 -8.486401e-01   \n",
       "50%     84692.000000  1.810880e-02  6.548556e-02  1.798463e-01 -1.984653e-02   \n",
       "75%    139320.500000  1.315642e+00  8.037239e-01  1.027196e+00  7.433413e-01   \n",
       "max    172792.000000  2.454930e+00  2.205773e+01  9.382558e+00  1.687534e+01   \n",
       "\n",
       "                 V5           V26           V27           V28         Amount  \\\n",
       "count  2.848070e+05  2.848070e+05  2.848070e+05  2.848070e+05  284807.000000   \n",
       "mean  -1.552103e-15  1.701640e-15 -3.662252e-16 -1.217809e-16      88.349619   \n",
       "std    1.380247e+00  4.822270e-01  4.036325e-01  3.300833e-01     250.120109   \n",
       "min   -1.137433e+02 -2.604551e+00 -2.256568e+01 -1.543008e+01       0.000000   \n",
       "25%   -6.915971e-01 -3.269839e-01 -7.083953e-02 -5.295979e-02       5.600000   \n",
       "50%   -5.433583e-02 -5.213911e-02  1.342146e-03  1.124383e-02      22.000000   \n",
       "75%    6.119264e-01  2.409522e-01  9.104512e-02  7.827995e-02      77.165000   \n",
       "max    3.480167e+01  3.517346e+00  3.161220e+01  3.384781e+01   25691.160000   \n",
       "\n",
       "               Class  \n",
       "count  284807.000000  \n",
       "mean        0.001727  \n",
       "std         0.041527  \n",
       "min         0.000000  \n",
       "25%         0.000000  \n",
       "50%         0.000000  \n",
       "75%         0.000000  \n",
       "max         1.000000  "
      ]
     },
     "execution_count": 5,
     "metadata": {},
     "output_type": "execute_result"
    }
   ],
   "source": [
    "raw_df[['Time', 'V1', 'V2', 'V3', 'V4', 'V5', 'V26', 'V27', 'V28', 'Amount', 'Class']].describe()"
   ]
  },
  {
   "cell_type": "markdown",
   "metadata": {
    "id": "xWKB_CVZFLpB"
   },
   "source": [
    "### Examine the class label imbalance\n",
    "\n",
    "Let's look at the dataset imbalance:"
   ]
  },
  {
   "cell_type": "code",
   "execution_count": 6,
   "metadata": {
    "execution": {
     "iopub.execute_input": "2023-07-27T04:52:32.226252Z",
     "iopub.status.busy": "2023-07-27T04:52:32.225609Z",
     "iopub.status.idle": "2023-07-27T04:52:32.230748Z",
     "shell.execute_reply": "2023-07-27T04:52:32.230141Z"
    },
    "id": "HCJFrtuY2iLF"
   },
   "outputs": [
    {
     "name": "stdout",
     "output_type": "stream",
     "text": [
      "Examples:\n",
      "    Total: 284807\n",
      "    Positive: 492 (0.17% of total)\n",
      "\n"
     ]
    }
   ],
   "source": [
    "neg, pos = np.bincount(raw_df['Class'])\n",
    "total = neg + pos\n",
    "print('Examples:\\n    Total: {}\\n    Positive: {} ({:.2f}% of total)\\n'.format(\n",
    "    total, pos, 100 * pos / total))"
   ]
  },
  {
   "cell_type": "markdown",
   "metadata": {
    "id": "KnLKFQDsCBUg"
   },
   "source": [
    "This shows the small fraction of positive samples."
   ]
  },
  {
   "cell_type": "markdown",
   "metadata": {
    "id": "6qox6ryyzwdr"
   },
   "source": [
    "### Clean, split and normalize the data\n",
    "\n",
    "The raw data has a few issues. First the `Time` and `Amount` columns are too variable to use directly. Drop the `Time` column (since it's not clear what it means) and take the log of the `Amount` column to reduce its range."
   ]
  },
  {
   "cell_type": "code",
   "execution_count": 7,
   "metadata": {
    "execution": {
     "iopub.execute_input": "2023-07-27T04:52:32.234078Z",
     "iopub.status.busy": "2023-07-27T04:52:32.233620Z",
     "iopub.status.idle": "2023-07-27T04:52:32.273223Z",
     "shell.execute_reply": "2023-07-27T04:52:32.272622Z"
    },
    "id": "Ef42jTuxEjnj"
   },
   "outputs": [],
   "source": [
    "cleaned_df = raw_df.copy()\n",
    "\n",
    "# You don't want the `Time` column.\n",
    "cleaned_df.pop('Time')\n",
    "\n",
    "# The `Amount` column covers a huge range. Convert to log-space.\n",
    "eps = 0.001 # 0 => 0.1¢\n",
    "cleaned_df['Log Amount'] = np.log(cleaned_df.pop('Amount')+eps)"
   ]
  },
  {
   "cell_type": "markdown",
   "metadata": {
    "id": "uSNgdQFFFQ6u"
   },
   "source": [
    "Split the dataset into train, validation, and test sets. The validation set is used during the model fitting to evaluate the loss and any metrics, however the model is not fit with this data. The test set is completely unused during the training phase and is only used at the end to evaluate how well the model generalizes to new data. This is especially important with imbalanced datasets where [overfitting](https://developers.google.com/machine-learning/crash-course/generalization/peril-of-overfitting) is a significant concern from the lack of training data."
   ]
  },
  {
   "cell_type": "code",
   "execution_count": 8,
   "metadata": {
    "execution": {
     "iopub.execute_input": "2023-07-27T04:52:32.276435Z",
     "iopub.status.busy": "2023-07-27T04:52:32.276215Z",
     "iopub.status.idle": "2023-07-27T04:52:32.486567Z",
     "shell.execute_reply": "2023-07-27T04:52:32.485774Z"
    },
    "id": "xfxhKg7Yr1-b"
   },
   "outputs": [],
   "source": [
    "# Use a utility from sklearn to split and shuffle your dataset.\n",
    "train_df, test_df = train_test_split(cleaned_df, test_size=0.2)\n",
    "train_df, val_df = train_test_split(train_df, test_size=0.2)\n",
    "\n",
    "# Form np arrays of labels and features.\n",
    "train_labels = np.array(train_df.pop('Class'))\n",
    "bool_train_labels = train_labels != 0\n",
    "val_labels = np.array(val_df.pop('Class'))\n",
    "test_labels = np.array(test_df.pop('Class'))\n",
    "\n",
    "train_features = np.array(train_df)\n",
    "val_features = np.array(val_df)\n",
    "test_features = np.array(test_df)"
   ]
  },
  {
   "cell_type": "markdown",
   "metadata": {
    "id": "8a_Z_kBmr7Oh"
   },
   "source": [
    "We check whether the distribution of the classes in the three sets is about the same or not."
   ]
  },
  {
   "cell_type": "code",
   "execution_count": 9,
   "metadata": {
    "execution": {
     "iopub.execute_input": "2023-07-27T04:52:32.490786Z",
     "iopub.status.busy": "2023-07-27T04:52:32.490286Z",
     "iopub.status.idle": "2023-07-27T04:52:32.494531Z",
     "shell.execute_reply": "2023-07-27T04:52:32.493905Z"
    },
    "id": "96520cffee66"
   },
   "outputs": [
    {
     "name": "stdout",
     "output_type": "stream",
     "text": [
      "Average class probability in training set:   0.0017\n",
      "Average class probability in validation set: 0.0018\n",
      "Average class probability in test set:       0.0016\n"
     ]
    }
   ],
   "source": [
    "print(f'Average class probability in training set:   {train_labels.mean():.4f}')\n",
    "print(f'Average class probability in validation set: {val_labels.mean():.4f}')\n",
    "print(f'Average class probability in test set:       {test_labels.mean():.4f}')"
   ]
  },
  {
   "cell_type": "markdown",
   "metadata": {
    "id": "8a_Z_kBmr7Oh"
   },
   "source": [
    "Given the small number of positive labels, this seems about right.\n",
    "\n",
    "Normalize the input features using the sklearn StandardScaler.\n",
    "This will set the mean to 0 and standard deviation to 1.\n",
    "\n",
    "Note: The `StandardScaler` is only fit using the `train_features` to be sure the model is not peeking at the validation or test sets. "
   ]
  },
  {
   "cell_type": "code",
   "execution_count": 10,
   "metadata": {
    "execution": {
     "iopub.execute_input": "2023-07-27T04:52:32.497916Z",
     "iopub.status.busy": "2023-07-27T04:52:32.497389Z",
     "iopub.status.idle": "2023-07-27T04:52:32.607809Z",
     "shell.execute_reply": "2023-07-27T04:52:32.607143Z"
    },
    "id": "IO-qEUmJ5JQg"
   },
   "outputs": [
    {
     "name": "stdout",
     "output_type": "stream",
     "text": [
      "Training labels shape: (182276,)\n",
      "Validation labels shape: (45569,)\n",
      "Test labels shape: (56962,)\n",
      "Training features shape: (182276, 29)\n",
      "Validation features shape: (45569, 29)\n",
      "Test features shape: (56962, 29)\n"
     ]
    }
   ],
   "source": [
    "scaler = StandardScaler()\n",
    "train_features = scaler.fit_transform(train_features)\n",
    "\n",
    "val_features = scaler.transform(val_features)\n",
    "test_features = scaler.transform(test_features)\n",
    "\n",
    "train_features = np.clip(train_features, -5, 5)\n",
    "val_features = np.clip(val_features, -5, 5)\n",
    "test_features = np.clip(test_features, -5, 5)\n",
    "\n",
    "\n",
    "print('Training labels shape:', train_labels.shape)\n",
    "print('Validation labels shape:', val_labels.shape)\n",
    "print('Test labels shape:', test_labels.shape)\n",
    "\n",
    "print('Training features shape:', train_features.shape)\n",
    "print('Validation features shape:', val_features.shape)\n",
    "print('Test features shape:', test_features.shape)\n"
   ]
  },
  {
   "cell_type": "markdown",
   "metadata": {
    "id": "XF2nNfWKJ33w"
   },
   "source": [
    "Caution: If you want to deploy a model, it's critical that you preserve the preprocessing calculations. The easiest way to implement them as layers, and attach them to your model before export.\n"
   ]
  },
  {
   "cell_type": "markdown",
   "metadata": {
    "id": "uQ7m9nqDC3W6"
   },
   "source": [
    "### Look at the data distribution\n",
    "\n",
    "Next compare the distributions of the positive and negative examples over a few features. Good questions to ask yourself at this point are:\n",
    "\n",
    "* Do these distributions make sense? \n",
    "    * Yes. You've normalized the input and these are mostly concentrated in the `+/- 2` range.\n",
    "* Can you see the difference between the distributions?\n",
    "    * Yes the positive examples contain a much higher rate of extreme values."
   ]
  },
  {
   "cell_type": "code",
   "execution_count": 11,
   "metadata": {
    "execution": {
     "iopub.execute_input": "2023-07-27T04:52:32.611492Z",
     "iopub.status.busy": "2023-07-27T04:52:32.611239Z",
     "iopub.status.idle": "2023-07-27T04:52:34.540220Z",
     "shell.execute_reply": "2023-07-27T04:52:34.539542Z"
    },
    "id": "raK7hyjd_vf6"
   },
   "outputs": [],
   "source": [
    "pos_df = pd.DataFrame(train_features[ bool_train_labels], columns=train_df.columns)\n",
    "neg_df = pd.DataFrame(train_features[~bool_train_labels], columns=train_df.columns)\n",
    "\n",
    "sns.jointplot(x=pos_df['V5'], y=pos_df['V6'],\n",
    "              kind='hex', xlim=(-5,5), ylim=(-5,5))\n",
    "plt.suptitle(\"Positive distribution\")\n",
    "\n",
    "sns.jointplot(x=neg_df['V5'], y=neg_df['V6'],\n",
    "              kind='hex', xlim=(-5,5), ylim=(-5,5))\n",
    "_ = plt.suptitle(\"Negative distribution\")"
   ]
  },
  {
   "cell_type": "markdown",
   "metadata": {
    "id": "qFK1u4JX16D8"
   },
   "source": [
    "## Define the model and metrics\n",
    "\n",
    "Define a function that creates a simple neural network with a densly connected hidden layer, a [dropout](https://developers.google.com/machine-learning/glossary/#dropout_regularization) layer to reduce overfitting, and an output sigmoid layer that returns the probability of a transaction being fraudulent: "
   ]
  },
  {
   "cell_type": "code",
   "execution_count": 12,
   "metadata": {
    "execution": {
     "iopub.execute_input": "2023-07-27T04:52:34.543878Z",
     "iopub.status.busy": "2023-07-27T04:52:34.543340Z",
     "iopub.status.idle": "2023-07-27T04:52:37.944324Z",
     "shell.execute_reply": "2023-07-27T04:52:37.943478Z"
    },
    "id": "3JQDzUqT3UYG"
   },
   "outputs": [],
   "source": [
    "METRICS = [\n",
    "      keras.metrics.BinaryCrossentropy(name='cross entropy'),  # same as model's loss\n",
    "      keras.metrics.MeanSquaredError(name='Brier score'),\n",
    "      keras.metrics.TruePositives(name='tp'),\n",
    "      keras.metrics.FalsePositives(name='fp'),\n",
    "      keras.metrics.TrueNegatives(name='tn'),\n",
    "      keras.metrics.FalseNegatives(name='fn'), \n",
    "      keras.metrics.BinaryAccuracy(name='accuracy'),\n",
    "      keras.metrics.Precision(name='precision'),\n",
    "      keras.metrics.Recall(name='recall'),\n",
    "      keras.metrics.AUC(name='auc'),\n",
    "      keras.metrics.AUC(name='prc', curve='PR'), # precision-recall curve\n",
    "]\n",
    "\n",
    "def make_model(metrics=METRICS, output_bias=None):\n",
    "  if output_bias is not None:\n",
    "    output_bias = tf.keras.initializers.Constant(output_bias)\n",
    "  model = keras.Sequential([\n",
    "      keras.layers.Dense(\n",
    "          16, activation='relu',\n",
    "          input_shape=(train_features.shape[-1],)),\n",
    "      keras.layers.Dropout(0.5),\n",
    "      keras.layers.Dense(1, activation='sigmoid',\n",
    "                         bias_initializer=output_bias),\n",
    "  ])\n",
    "\n",
    "  model.compile(\n",
    "      optimizer=keras.optimizers.Adam(learning_rate=1e-3),\n",
    "      loss=keras.losses.BinaryCrossentropy(),\n",
    "      metrics=metrics)\n",
    "\n",
    "  return model"
   ]
  },
  {
   "cell_type": "markdown",
   "metadata": {
    "id": "SU0GX6E6mieP"
   },
   "source": [
    "### Understanding useful metrics\n",
    "\n",
    "Notice that there are a few metrics defined above that can be computed by the model that will be helpful when evaluating the performance.\n",
    "These can be divided into three groups.\n",
    "\n",
    "#### Metrics for probability predictions\n",
    "\n",
    "As we train our network with the cross entropy as a loss function, it is fully capable of predicting class probabilities, i.e. it is a probabilistic classifier.\n",
    "Good metrics to assess probabilistic predictions are, in fact, **proper scoring rules**. Their key property is that predicting the true probability is optimal. We give two well-known examples:\n",
    "\n",
    "*   **cross entropy** also known as log loss\n",
    "*   **Mean squared error** also known as the Brier score\n",
    "\n",
    "#### Metrics for deterministic 0/1 predictions\n",
    "\n",
    "In the end, one often wants to predict a class label, 0 or 1, *no fraud* or *fraud*.\n",
    "This is called a deterministic classifier.\n",
    "To get a label prediction from our probabilistic classifier, one needs to choose a probability threshold $t$.\n",
    "The default is to predict label 1 (fraud) if the predicted probability is larger than $t=50\\%$ and all the following metrics implicitly use this default. \n",
    "\n",
    "*   **False** negatives and **false** positives are samples that were **incorrectly** classified\n",
    "*   **True** negatives and **true** positives are samples that were **correctly** classified\n",
    "*   **Accuracy** is the percentage of examples correctly classified\n",
    ">   $\\frac{\\text{true samples}}{\\text{total samples}}$\n",
    "*   **Precision** is the percentage of **predicted** positives that were correctly classified\n",
    ">   $\\frac{\\text{true positives}}{\\text{true positives + false positives}}$\n",
    "*   **Recall** is the percentage of **actual** positives that were correctly classified\n",
    ">   $\\frac{\\text{true positives}}{\\text{true positives + false negatives}}$\n",
    "\n",
    "**Note:** Accuracy is not a helpful metric for this task. You can have 99.8%+ accuracy on this task by predicting False all the time.  \n",
    "\n",
    "#### Other metrices\n",
    "\n",
    "The following metrics take into account all possible choices of thresholds $t$.\n",
    "\n",
    "*   **AUC** refers to the Area Under the Curve of a Receiver Operating Characteristic curve (ROC-AUC). This metric is equal to the probability that a classifier will rank a random positive sample higher than a random negative sample.\n",
    "*   **AUPRC** refers to Area Under the Curve of the Precision-Recall Curve. This metric computes precision-recall pairs for different probability thresholds. \n",
    "\n",
    "\n",
    "#### Read more:\n",
    "*   [Strictly Proper Scoring Rules, Prediction, and Estimation](https://www.stat.washington.edu/people/raftery/Research/PDF/Gneiting2007jasa.pdf)\n",
    "*   [True vs. False and Positive vs. Negative](https://developers.google.com/machine-learning/crash-course/classification/true-false-positive-negative)\n",
    "*   [Accuracy](https://developers.google.com/machine-learning/crash-course/classification/accuracy)\n",
    "*   [Precision and Recall](https://developers.google.com/machine-learning/crash-course/classification/precision-and-recall)\n",
    "*   [ROC-AUC](https://developers.google.com/machine-learning/crash-course/classification/roc-and-auc)\n",
    "*   [Relationship between Precision-Recall and ROC Curves](https://www.biostat.wisc.edu/~page/rocpr.pdf)"
   ]
  },
  {
   "cell_type": "markdown",
   "metadata": {
    "id": "FYdhSAoaF_TK"
   },
   "source": [
    "## Baseline model"
   ]
  },
  {
   "cell_type": "markdown",
   "metadata": {
    "id": "IDbltVPg2m2q"
   },
   "source": [
    "### Build the model\n",
    "\n",
    "Now create and train your model using the function that was defined earlier. Notice that the model is fit using a larger than default batch size of 2048, this is important to ensure that each batch has a decent chance of containing a few positive samples. If the batch size was too small, they would likely have no fraudulent transactions to learn from.\n",
    "\n",
    "\n",
    "Note: Fitting this model will not handle the class imbalance efficiently. You will improve it later in this tutorial."
   ]
  },
  {
   "cell_type": "code",
   "execution_count": 13,
   "metadata": {
    "execution": {
     "iopub.execute_input": "2023-07-27T04:52:37.948787Z",
     "iopub.status.busy": "2023-07-27T04:52:37.948535Z",
     "iopub.status.idle": "2023-07-27T04:52:37.952122Z",
     "shell.execute_reply": "2023-07-27T04:52:37.951548Z"
    },
    "id": "ouUkwPcGQsy3"
   },
   "outputs": [],
   "source": [
    "EPOCHS = 100\n",
    "BATCH_SIZE = 2048\n",
    "\n",
    "early_stopping = tf.keras.callbacks.EarlyStopping(\n",
    "    monitor='val_prc', \n",
    "    verbose=1,\n",
    "    patience=10,\n",
    "    mode='max',\n",
    "    restore_best_weights=True)"
   ]
  },
  {
   "cell_type": "code",
   "execution_count": 14,
   "metadata": {
    "execution": {
     "iopub.execute_input": "2023-07-27T04:52:37.955378Z",
     "iopub.status.busy": "2023-07-27T04:52:37.954834Z",
     "iopub.status.idle": "2023-07-27T04:52:38.017309Z",
     "shell.execute_reply": "2023-07-27T04:52:38.016738Z"
    },
    "id": "1xlR_dekzw7C"
   },
   "outputs": [
    {
     "name": "stdout",
     "output_type": "stream",
     "text": [
      "Model: \"sequential\"\n",
      "_________________________________________________________________\n",
      " Layer (type)                Output Shape              Param #   \n",
      "=================================================================\n",
      " dense (Dense)               (None, 16)                480       \n",
      "                                                                 \n",
      " dropout (Dropout)           (None, 16)                0         \n",
      "                                                                 \n",
      " dense_1 (Dense)             (None, 1)                 17        \n",
      "                                                                 \n",
      "=================================================================\n",
      "Total params: 497\n",
      "Trainable params: 497\n",
      "Non-trainable params: 0\n",
      "_________________________________________________________________\n"
     ]
    }
   ],
   "source": [
    "model = make_model()\n",
    "model.summary()"
   ]
  },
  {
   "cell_type": "markdown",
   "metadata": {
    "id": "Wx7ND3_SqckO"
   },
   "source": [
    "Test run the model:"
   ]
  },
  {
   "cell_type": "code",
   "execution_count": 15,
   "metadata": {
    "execution": {
     "iopub.execute_input": "2023-07-27T04:52:38.023988Z",
     "iopub.status.busy": "2023-07-27T04:52:38.023487Z",
     "iopub.status.idle": "2023-07-27T04:52:38.483768Z",
     "shell.execute_reply": "2023-07-27T04:52:38.483115Z"
    },
    "id": "LopSd-yQqO3a"
   },
   "outputs": [
    {
     "data": {
      "text/plain": [
       "array([[0.50997794],\n",
       "       [0.62515503],\n",
       "       [0.378168  ],\n",
       "       [0.39337552],\n",
       "       [0.44794932],\n",
       "       [0.342995  ],\n",
       "       [0.73021626],\n",
       "       [0.23297414],\n",
       "       [0.31692412],\n",
       "       [0.5156288 ]], dtype=float32)"
      ]
     },
     "execution_count": 15,
     "metadata": {},
     "output_type": "execute_result"
    }
   ],
   "source": [
    "model.predict(train_features[:10])"
   ]
  },
  {
   "cell_type": "markdown",
   "metadata": {
    "id": "YKIgWqHms_03"
   },
   "source": [
    "### Optional: Set the correct initial bias."
   ]
  },
  {
   "cell_type": "markdown",
   "metadata": {
    "id": "qk_3Ry6EoYDq"
   },
   "source": [
    "These initial guesses are not great. You know the dataset is imbalanced. Set the output layer's bias to reflect that, see [A Recipe for Training Neural Networks: \"init well\"](http://karpathy.github.io/2019/04/25/recipe/#2-set-up-the-end-to-end-trainingevaluation-skeleton--get-dumb-baselines). This can help with initial convergence."
   ]
  },
  {
   "cell_type": "markdown",
   "metadata": {
    "id": "PdbfWDuVpo6k"
   },
   "source": [
    "With the default bias initialization the loss should be about `math.log(2) = 0.69314` "
   ]
  },
  {
   "cell_type": "code",
   "execution_count": 16,
   "metadata": {
    "execution": {
     "iopub.execute_input": "2023-07-27T04:52:38.487533Z",
     "iopub.status.busy": "2023-07-27T04:52:38.487006Z",
     "iopub.status.idle": "2023-07-27T04:52:39.317152Z",
     "shell.execute_reply": "2023-07-27T04:52:39.316443Z"
    },
    "id": "H-oPqh3SoGXk"
   },
   "outputs": [
    {
     "name": "stdout",
     "output_type": "stream",
     "text": [
      "Loss: 0.6551\n"
     ]
    }
   ],
   "source": [
    "results = model.evaluate(train_features, train_labels, batch_size=BATCH_SIZE, verbose=0)\n",
    "print(\"Loss: {:0.4f}\".format(results[0]))"
   ]
  },
  {
   "cell_type": "markdown",
   "metadata": {
    "id": "hE-JRzfKqfhB"
   },
   "source": [
    "The correct bias to set can be derived from:\n",
    "\n",
    "$$ p_0 = pos/(pos + neg) = 1/(1+e^{-b_0}) $$\n",
    "$$ b_0 = -log_e(1/p_0 - 1) $$\n",
    "$$ b_0 = log_e(pos/neg)$$"
   ]
  },
  {
   "cell_type": "code",
   "execution_count": 17,
   "metadata": {
    "execution": {
     "iopub.execute_input": "2023-07-27T04:52:39.320881Z",
     "iopub.status.busy": "2023-07-27T04:52:39.320606Z",
     "iopub.status.idle": "2023-07-27T04:52:39.325507Z",
     "shell.execute_reply": "2023-07-27T04:52:39.324859Z"
    },
    "id": "F5KWPSjjstUS"
   },
   "outputs": [
    {
     "data": {
      "text/plain": [
       "array([-6.35935934])"
      ]
     },
     "execution_count": 17,
     "metadata": {},
     "output_type": "execute_result"
    }
   ],
   "source": [
    "initial_bias = np.log([pos/neg])\n",
    "initial_bias"
   ]
  },
  {
   "cell_type": "markdown",
   "metadata": {
    "id": "d1juXI9yY1KD"
   },
   "source": [
    "Set that as the initial bias, and the model will give much more reasonable initial guesses. \n",
    "\n",
    "It should be near: `pos/total = 0.0018`"
   ]
  },
  {
   "cell_type": "code",
   "execution_count": 18,
   "metadata": {
    "execution": {
     "iopub.execute_input": "2023-07-27T04:52:39.329002Z",
     "iopub.status.busy": "2023-07-27T04:52:39.328468Z",
     "iopub.status.idle": "2023-07-27T04:52:39.437069Z",
     "shell.execute_reply": "2023-07-27T04:52:39.436492Z"
    },
    "id": "50oyu1uss0i-"
   },
   "outputs": [
    {
     "data": {
      "text/plain": [
       "array([[0.00132579],\n",
       "       [0.00113416],\n",
       "       [0.00108147],\n",
       "       [0.00237271],\n",
       "       [0.00526974],\n",
       "       [0.00612941],\n",
       "       [0.00056845],\n",
       "       [0.00146925],\n",
       "       [0.00179932],\n",
       "       [0.0157423 ]], dtype=float32)"
      ]
     },
     "execution_count": 18,
     "metadata": {},
     "output_type": "execute_result"
    }
   ],
   "source": [
    "model = make_model(output_bias=initial_bias)\n",
    "model.predict(train_features[:10])"
   ]
  },
  {
   "cell_type": "markdown",
   "metadata": {
    "id": "4xqFYb2KqRHQ"
   },
   "source": [
    "With this initialization the initial loss should be approximately:\n",
    "\n",
    "$$-p_0log(p_0)-(1-p_0)log(1-p_0) = 0.01317$$"
   ]
  },
  {
   "cell_type": "code",
   "execution_count": 19,
   "metadata": {
    "execution": {
     "iopub.execute_input": "2023-07-27T04:52:39.440378Z",
     "iopub.status.busy": "2023-07-27T04:52:39.439899Z",
     "iopub.status.idle": "2023-07-27T04:52:40.207232Z",
     "shell.execute_reply": "2023-07-27T04:52:40.206435Z"
    },
    "id": "xVDqCWXDqHSc"
   },
   "outputs": [
    {
     "name": "stdout",
     "output_type": "stream",
     "text": [
      "Loss: 0.0118\n"
     ]
    }
   ],
   "source": [
    "results = model.evaluate(train_features, train_labels, batch_size=BATCH_SIZE, verbose=0)\n",
    "print(\"Loss: {:0.4f}\".format(results[0]))"
   ]
  },
  {
   "cell_type": "markdown",
   "metadata": {
    "id": "FrDC8hvNr9yw"
   },
   "source": [
    "This initial loss is about 50 times less than it would have been with naive initialization.\n",
    "\n",
    "This way the model doesn't need to spend the first few epochs just learning that positive examples are unlikely. It also makes it easier to read plots of the loss during training."
   ]
  },
  {
   "cell_type": "markdown",
   "metadata": {
    "id": "0EJj9ixKVBMT"
   },
   "source": [
    "### Checkpoint the initial weights\n",
    "\n",
    "To make the various training runs more comparable, keep this initial model's weights in a checkpoint file, and load them into each model before training:"
   ]
  },
  {
   "cell_type": "code",
   "execution_count": 20,
   "metadata": {
    "execution": {
     "iopub.execute_input": "2023-07-27T04:52:40.210618Z",
     "iopub.status.busy": "2023-07-27T04:52:40.210155Z",
     "iopub.status.idle": "2023-07-27T04:52:40.245548Z",
     "shell.execute_reply": "2023-07-27T04:52:40.244848Z"
    },
    "id": "_tSUm4yAVIif"
   },
   "outputs": [],
   "source": [
    "initial_weights = os.path.join(tempfile.mkdtemp(), 'initial_weights')\n",
    "model.save_weights(initial_weights)"
   ]
  },
  {
   "cell_type": "markdown",
   "metadata": {
    "id": "EVXiLyqyZ8AX"
   },
   "source": [
    "### Confirm that the bias fix helps\n",
    "\n",
    "Before moving on, confirm quick that the careful bias initialization actually helped.\n",
    "\n",
    "Train the model for 20 epochs, with and without this careful initialization, and compare the losses: "
   ]
  },
  {
   "cell_type": "code",
   "execution_count": 21,
   "metadata": {
    "execution": {
     "iopub.execute_input": "2023-07-27T04:52:40.248974Z",
     "iopub.status.busy": "2023-07-27T04:52:40.248530Z",
     "iopub.status.idle": "2023-07-27T04:52:50.279612Z",
     "shell.execute_reply": "2023-07-27T04:52:50.278770Z"
    },
    "id": "Dm4-4K5RZ63Q"
   },
   "outputs": [],
   "source": [
    "model = make_model()\n",
    "model.load_weights(initial_weights)\n",
    "model.layers[-1].bias.assign([0.0])\n",
    "zero_bias_history = model.fit(\n",
    "    train_features,\n",
    "    train_labels,\n",
    "    batch_size=BATCH_SIZE,\n",
    "    epochs=20,\n",
    "    validation_data=(val_features, val_labels), \n",
    "    verbose=0)"
   ]
  },
  {
   "cell_type": "code",
   "execution_count": 22,
   "metadata": {
    "execution": {
     "iopub.execute_input": "2023-07-27T04:52:50.283514Z",
     "iopub.status.busy": "2023-07-27T04:52:50.282885Z",
     "iopub.status.idle": "2023-07-27T04:53:00.173624Z",
     "shell.execute_reply": "2023-07-27T04:53:00.172789Z"
    },
    "id": "j8DsLXHQaSql"
   },
   "outputs": [],
   "source": [
    "model = make_model()\n",
    "model.load_weights(initial_weights)\n",
    "careful_bias_history = model.fit(\n",
    "    train_features,\n",
    "    train_labels,\n",
    "    batch_size=BATCH_SIZE,\n",
    "    epochs=20,\n",
    "    validation_data=(val_features, val_labels), \n",
    "    verbose=0)"
   ]
  },
  {
   "cell_type": "code",
   "execution_count": 23,
   "metadata": {
    "execution": {
     "iopub.execute_input": "2023-07-27T04:53:00.177792Z",
     "iopub.status.busy": "2023-07-27T04:53:00.177186Z",
     "iopub.status.idle": "2023-07-27T04:53:00.181762Z",
     "shell.execute_reply": "2023-07-27T04:53:00.181191Z"
    },
    "id": "E3XsMBjhauFV"
   },
   "outputs": [],
   "source": [
    "def plot_loss(history, label, n):\n",
    "  # Use a log scale on y-axis to show the wide range of values.\n",
    "  plt.semilogy(history.epoch, history.history['loss'],\n",
    "               color=colors[n], label='Train ' + label)\n",
    "  plt.semilogy(history.epoch, history.history['val_loss'],\n",
    "               color=colors[n], label='Val ' + label,\n",
    "               linestyle=\"--\")\n",
    "  plt.xlabel('Epoch')\n",
    "  plt.ylabel('Loss')\n",
    "  plt.legend()"
   ]
  },
  {
   "cell_type": "code",
   "execution_count": 24,
   "metadata": {
    "execution": {
     "iopub.execute_input": "2023-07-27T04:53:00.184914Z",
     "iopub.status.busy": "2023-07-27T04:53:00.184651Z",
     "iopub.status.idle": "2023-07-27T04:53:00.573662Z",
     "shell.execute_reply": "2023-07-27T04:53:00.573032Z"
    },
    "id": "dxFaskm7beC7"
   },
   "outputs": [],
   "source": [
    "plot_loss(zero_bias_history, \"Zero Bias\", 0)\n",
    "plot_loss(careful_bias_history, \"Careful Bias\", 1)"
   ]
  },
  {
   "cell_type": "markdown",
   "metadata": {
    "id": "fKMioV0ddG3R"
   },
   "source": [
    "The above figure makes it clear: In terms of validation loss, on this problem, this careful initialization gives a clear advantage. "
   ]
  },
  {
   "cell_type": "markdown",
   "metadata": {
    "id": "RsA_7SEntRaV"
   },
   "source": [
    "### Train the model"
   ]
  },
  {
   "cell_type": "code",
   "execution_count": 25,
   "metadata": {
    "execution": {
     "iopub.execute_input": "2023-07-27T04:53:00.577533Z",
     "iopub.status.busy": "2023-07-27T04:53:00.576963Z",
     "iopub.status.idle": "2023-07-27T04:53:13.362671Z",
     "shell.execute_reply": "2023-07-27T04:53:13.361766Z"
    },
    "id": "yZKAc8NCDnoR"
   },
   "outputs": [
    {
     "name": "stdout",
     "output_type": "stream",
     "text": [
      "Epoch 1/100\n",
      "90/90 [==============================] - 3s 13ms/step - loss: 0.0111 - cross entropy: 0.0096 - Brier score: 0.0015 - tp: 105.0000 - fp: 88.0000 - tn: 227358.0000 - fn: 294.0000 - accuracy: 0.9983 - precision: 0.5440 - recall: 0.2632 - auc: 0.8705 - prc: 0.2804 - val_loss: 0.0068 - val_cross entropy: 0.0068 - val_Brier score: 0.0013 - val_tp: 19.0000 - val_fp: 11.0000 - val_tn: 45474.0000 - val_fn: 65.0000 - val_accuracy: 0.9983 - val_precision: 0.6333 - val_recall: 0.2262 - val_auc: 0.9146 - val_prc: 0.5694\n",
      "Epoch 2/100\n",
      "90/90 [==============================] - 0s 5ms/step - loss: 0.0070 - cross entropy: 0.0070 - Brier score: 0.0011 - tp: 128.0000 - fp: 35.0000 - tn: 181926.0000 - fn: 187.0000 - accuracy: 0.9988 - precision: 0.7853 - recall: 0.4063 - auc: 0.9018 - prc: 0.5057 - val_loss: 0.0058 - val_cross entropy: 0.0058 - val_Brier score: 0.0010 - val_tp: 42.0000 - val_fp: 11.0000 - val_tn: 45474.0000 - val_fn: 42.0000 - val_accuracy: 0.9988 - val_precision: 0.7925 - val_recall: 0.5000 - val_auc: 0.9162 - val_prc: 0.5907\n",
      "Epoch 3/100\n",
      "90/90 [==============================] - 0s 3ms/step - loss: 0.0061 - cross entropy: 0.0061 - Brier score: 9.5445e-04 - tp: 145.0000 - fp: 27.0000 - tn: 181934.0000 - fn: 170.0000 - accuracy: 0.9989 - precision: 0.8430 - recall: 0.4603 - auc: 0.9161 - prc: 0.5768 - val_loss: 0.0053 - val_cross entropy: 0.0053 - val_Brier score: 8.7282e-04 - val_tp: 46.0000 - val_fp: 12.0000 - val_tn: 45473.0000 - val_fn: 38.0000 - val_accuracy: 0.9989 - val_precision: 0.7931 - val_recall: 0.5476 - val_auc: 0.9163 - val_prc: 0.5900\n",
      "Epoch 4/100\n",
      "90/90 [==============================] - 0s 3ms/step - loss: 0.0054 - cross entropy: 0.0054 - Brier score: 8.3805e-04 - tp: 163.0000 - fp: 30.0000 - tn: 181931.0000 - fn: 152.0000 - accuracy: 0.9990 - precision: 0.8446 - recall: 0.5175 - auc: 0.9150 - prc: 0.6456 - val_loss: 0.0051 - val_cross entropy: 0.0051 - val_Brier score: 8.1414e-04 - val_tp: 54.0000 - val_fp: 12.0000 - val_tn: 45473.0000 - val_fn: 30.0000 - val_accuracy: 0.9991 - val_precision: 0.8182 - val_recall: 0.6429 - val_auc: 0.9164 - val_prc: 0.6012\n",
      "Epoch 5/100\n",
      "90/90 [==============================] - 0s 3ms/step - loss: 0.0054 - cross entropy: 0.0054 - Brier score: 8.3832e-04 - tp: 171.0000 - fp: 28.0000 - tn: 181933.0000 - fn: 144.0000 - accuracy: 0.9991 - precision: 0.8593 - recall: 0.5429 - auc: 0.9140 - prc: 0.6435 - val_loss: 0.0048 - val_cross entropy: 0.0048 - val_Brier score: 8.0772e-04 - val_tp: 52.0000 - val_fp: 12.0000 - val_tn: 45473.0000 - val_fn: 32.0000 - val_accuracy: 0.9990 - val_precision: 0.8125 - val_recall: 0.6190 - val_auc: 0.9164 - val_prc: 0.6141\n",
      "Epoch 6/100\n",
      "90/90 [==============================] - 0s 3ms/step - loss: 0.0050 - cross entropy: 0.0050 - Brier score: 8.1047e-04 - tp: 174.0000 - fp: 29.0000 - tn: 181932.0000 - fn: 141.0000 - accuracy: 0.9991 - precision: 0.8571 - recall: 0.5524 - auc: 0.9254 - prc: 0.6742 - val_loss: 0.0047 - val_cross entropy: 0.0047 - val_Brier score: 7.6964e-04 - val_tp: 58.0000 - val_fp: 12.0000 - val_tn: 45473.0000 - val_fn: 26.0000 - val_accuracy: 0.9992 - val_precision: 0.8286 - val_recall: 0.6905 - val_auc: 0.9163 - val_prc: 0.6248\n",
      "Epoch 7/100\n",
      "90/90 [==============================] - 0s 3ms/step - loss: 0.0049 - cross entropy: 0.0049 - Brier score: 7.9130e-04 - tp: 183.0000 - fp: 31.0000 - tn: 181930.0000 - fn: 132.0000 - accuracy: 0.9991 - precision: 0.8551 - recall: 0.5810 - auc: 0.9241 - prc: 0.6705 - val_loss: 0.0045 - val_cross entropy: 0.0045 - val_Brier score: 7.7701e-04 - val_tp: 56.0000 - val_fp: 12.0000 - val_tn: 45473.0000 - val_fn: 28.0000 - val_accuracy: 0.9991 - val_precision: 0.8235 - val_recall: 0.6667 - val_auc: 0.9163 - val_prc: 0.6748\n",
      "Epoch 8/100\n",
      "90/90 [==============================] - 0s 3ms/step - loss: 0.0043 - cross entropy: 0.0043 - Brier score: 7.2615e-04 - tp: 191.0000 - fp: 27.0000 - tn: 181934.0000 - fn: 124.0000 - accuracy: 0.9992 - precision: 0.8761 - recall: 0.6063 - auc: 0.9291 - prc: 0.7194 - val_loss: 0.0045 - val_cross entropy: 0.0045 - val_Brier score: 7.5246e-04 - val_tp: 58.0000 - val_fp: 12.0000 - val_tn: 45473.0000 - val_fn: 26.0000 - val_accuracy: 0.9992 - val_precision: 0.8286 - val_recall: 0.6905 - val_auc: 0.9163 - val_prc: 0.6843\n",
      "Epoch 9/100\n",
      "90/90 [==============================] - 0s 3ms/step - loss: 0.0047 - cross entropy: 0.0047 - Brier score: 7.8775e-04 - tp: 182.0000 - fp: 30.0000 - tn: 181931.0000 - fn: 133.0000 - accuracy: 0.9991 - precision: 0.8585 - recall: 0.5778 - auc: 0.9179 - prc: 0.6697 - val_loss: 0.0043 - val_cross entropy: 0.0043 - val_Brier score: 7.4508e-04 - val_tp: 58.0000 - val_fp: 12.0000 - val_tn: 45473.0000 - val_fn: 26.0000 - val_accuracy: 0.9992 - val_precision: 0.8286 - val_recall: 0.6905 - val_auc: 0.9163 - val_prc: 0.6924\n",
      "Epoch 10/100\n",
      "90/90 [==============================] - 0s 3ms/step - loss: 0.0045 - cross entropy: 0.0045 - Brier score: 7.5733e-04 - tp: 187.0000 - fp: 32.0000 - tn: 181929.0000 - fn: 128.0000 - accuracy: 0.9991 - precision: 0.8539 - recall: 0.5937 - auc: 0.9228 - prc: 0.6966 - val_loss: 0.0042 - val_cross entropy: 0.0042 - val_Brier score: 7.4549e-04 - val_tp: 58.0000 - val_fp: 12.0000 - val_tn: 45473.0000 - val_fn: 26.0000 - val_accuracy: 0.9992 - val_precision: 0.8286 - val_recall: 0.6905 - val_auc: 0.9163 - val_prc: 0.7108\n",
      "Epoch 11/100\n",
      "90/90 [==============================] - 0s 3ms/step - loss: 0.0043 - cross entropy: 0.0043 - Brier score: 7.4423e-04 - tp: 189.0000 - fp: 30.0000 - tn: 181931.0000 - fn: 126.0000 - accuracy: 0.9991 - precision: 0.8630 - recall: 0.6000 - auc: 0.9276 - prc: 0.7057 - val_loss: 0.0041 - val_cross entropy: 0.0041 - val_Brier score: 7.3185e-04 - val_tp: 58.0000 - val_fp: 13.0000 - val_tn: 45472.0000 - val_fn: 26.0000 - val_accuracy: 0.9991 - val_precision: 0.8169 - val_recall: 0.6905 - val_auc: 0.9164 - val_prc: 0.7203\n",
      "Epoch 12/100\n",
      "90/90 [==============================] - 0s 3ms/step - loss: 0.0043 - cross entropy: 0.0043 - Brier score: 7.3563e-04 - tp: 188.0000 - fp: 27.0000 - tn: 181934.0000 - fn: 127.0000 - accuracy: 0.9992 - precision: 0.8744 - recall: 0.5968 - auc: 0.9261 - prc: 0.7106 - val_loss: 0.0041 - val_cross entropy: 0.0041 - val_Brier score: 7.2351e-04 - val_tp: 59.0000 - val_fp: 13.0000 - val_tn: 45472.0000 - val_fn: 25.0000 - val_accuracy: 0.9992 - val_precision: 0.8194 - val_recall: 0.7024 - val_auc: 0.9164 - val_prc: 0.7284\n",
      "Epoch 13/100\n",
      "90/90 [==============================] - 0s 4ms/step - loss: 0.0039 - cross entropy: 0.0039 - Brier score: 6.6435e-04 - tp: 202.0000 - fp: 28.0000 - tn: 181933.0000 - fn: 113.0000 - accuracy: 0.9992 - precision: 0.8783 - recall: 0.6413 - auc: 0.9293 - prc: 0.7388 - val_loss: 0.0040 - val_cross entropy: 0.0040 - val_Brier score: 7.1695e-04 - val_tp: 58.0000 - val_fp: 13.0000 - val_tn: 45472.0000 - val_fn: 26.0000 - val_accuracy: 0.9991 - val_precision: 0.8169 - val_recall: 0.6905 - val_auc: 0.9163 - val_prc: 0.7409\n",
      "Epoch 14/100\n",
      "90/90 [==============================] - 0s 3ms/step - loss: 0.0043 - cross entropy: 0.0043 - Brier score: 7.6018e-04 - tp: 182.0000 - fp: 29.0000 - tn: 181932.0000 - fn: 133.0000 - accuracy: 0.9991 - precision: 0.8626 - recall: 0.5778 - auc: 0.9307 - prc: 0.7113 - val_loss: 0.0038 - val_cross entropy: 0.0038 - val_Brier score: 6.9921e-04 - val_tp: 58.0000 - val_fp: 12.0000 - val_tn: 45473.0000 - val_fn: 26.0000 - val_accuracy: 0.9992 - val_precision: 0.8286 - val_recall: 0.6905 - val_auc: 0.9223 - val_prc: 0.7632\n",
      "Epoch 15/100\n",
      "90/90 [==============================] - 0s 3ms/step - loss: 0.0044 - cross entropy: 0.0044 - Brier score: 8.1156e-04 - tp: 181.0000 - fp: 36.0000 - tn: 181925.0000 - fn: 134.0000 - accuracy: 0.9991 - precision: 0.8341 - recall: 0.5746 - auc: 0.9260 - prc: 0.6689 - val_loss: 0.0037 - val_cross entropy: 0.0037 - val_Brier score: 6.8029e-04 - val_tp: 58.0000 - val_fp: 12.0000 - val_tn: 45473.0000 - val_fn: 26.0000 - val_accuracy: 0.9992 - val_precision: 0.8286 - val_recall: 0.6905 - val_auc: 0.9223 - val_prc: 0.7742\n",
      "Epoch 16/100\n"
     ]
    },
    {
     "name": "stdout",
     "output_type": "stream",
     "text": [
      "90/90 [==============================] - 0s 4ms/step - loss: 0.0041 - cross entropy: 0.0041 - Brier score: 7.4007e-04 - tp: 190.0000 - fp: 31.0000 - tn: 181930.0000 - fn: 125.0000 - accuracy: 0.9991 - precision: 0.8597 - recall: 0.6032 - auc: 0.9292 - prc: 0.7104 - val_loss: 0.0037 - val_cross entropy: 0.0037 - val_Brier score: 6.6922e-04 - val_tp: 60.0000 - val_fp: 13.0000 - val_tn: 45472.0000 - val_fn: 24.0000 - val_accuracy: 0.9992 - val_precision: 0.8219 - val_recall: 0.7143 - val_auc: 0.9223 - val_prc: 0.7737\n",
      "Epoch 17/100\n",
      "90/90 [==============================] - 0s 3ms/step - loss: 0.0041 - cross entropy: 0.0041 - Brier score: 7.1414e-04 - tp: 194.0000 - fp: 29.0000 - tn: 181932.0000 - fn: 121.0000 - accuracy: 0.9992 - precision: 0.8700 - recall: 0.6159 - auc: 0.9245 - prc: 0.7122 - val_loss: 0.0036 - val_cross entropy: 0.0036 - val_Brier score: 6.5553e-04 - val_tp: 60.0000 - val_fp: 13.0000 - val_tn: 45472.0000 - val_fn: 24.0000 - val_accuracy: 0.9992 - val_precision: 0.8219 - val_recall: 0.7143 - val_auc: 0.9223 - val_prc: 0.7787\n",
      "Epoch 18/100\n",
      "90/90 [==============================] - 0s 3ms/step - loss: 0.0044 - cross entropy: 0.0044 - Brier score: 7.9324e-04 - tp: 177.0000 - fp: 31.0000 - tn: 181930.0000 - fn: 138.0000 - accuracy: 0.9991 - precision: 0.8510 - recall: 0.5619 - auc: 0.9212 - prc: 0.6956 - val_loss: 0.0036 - val_cross entropy: 0.0036 - val_Brier score: 6.4798e-04 - val_tp: 61.0000 - val_fp: 13.0000 - val_tn: 45472.0000 - val_fn: 23.0000 - val_accuracy: 0.9992 - val_precision: 0.8243 - val_recall: 0.7262 - val_auc: 0.9223 - val_prc: 0.7805\n",
      "Epoch 19/100\n",
      "90/90 [==============================] - 0s 3ms/step - loss: 0.0042 - cross entropy: 0.0042 - Brier score: 7.6299e-04 - tp: 179.0000 - fp: 28.0000 - tn: 181933.0000 - fn: 136.0000 - accuracy: 0.9991 - precision: 0.8647 - recall: 0.5683 - auc: 0.9244 - prc: 0.7051 - val_loss: 0.0036 - val_cross entropy: 0.0036 - val_Brier score: 6.4066e-04 - val_tp: 64.0000 - val_fp: 13.0000 - val_tn: 45472.0000 - val_fn: 20.0000 - val_accuracy: 0.9993 - val_precision: 0.8312 - val_recall: 0.7619 - val_auc: 0.9222 - val_prc: 0.7821\n",
      "Epoch 20/100\n",
      "90/90 [==============================] - 0s 3ms/step - loss: 0.0040 - cross entropy: 0.0040 - Brier score: 7.1816e-04 - tp: 198.0000 - fp: 37.0000 - tn: 181924.0000 - fn: 117.0000 - accuracy: 0.9992 - precision: 0.8426 - recall: 0.6286 - auc: 0.9339 - prc: 0.7184 - val_loss: 0.0035 - val_cross entropy: 0.0035 - val_Brier score: 6.2098e-04 - val_tp: 61.0000 - val_fp: 12.0000 - val_tn: 45473.0000 - val_fn: 23.0000 - val_accuracy: 0.9992 - val_precision: 0.8356 - val_recall: 0.7262 - val_auc: 0.9223 - val_prc: 0.7878\n",
      "Epoch 21/100\n",
      "90/90 [==============================] - 0s 3ms/step - loss: 0.0038 - cross entropy: 0.0038 - Brier score: 7.0127e-04 - tp: 195.0000 - fp: 35.0000 - tn: 181926.0000 - fn: 120.0000 - accuracy: 0.9991 - precision: 0.8478 - recall: 0.6190 - auc: 0.9325 - prc: 0.7352 - val_loss: 0.0035 - val_cross entropy: 0.0035 - val_Brier score: 6.1953e-04 - val_tp: 65.0000 - val_fp: 12.0000 - val_tn: 45473.0000 - val_fn: 19.0000 - val_accuracy: 0.9993 - val_precision: 0.8442 - val_recall: 0.7738 - val_auc: 0.9223 - val_prc: 0.7884\n",
      "Epoch 22/100\n",
      "90/90 [==============================] - 0s 3ms/step - loss: 0.0039 - cross entropy: 0.0039 - Brier score: 7.3295e-04 - tp: 188.0000 - fp: 29.0000 - tn: 181932.0000 - fn: 127.0000 - accuracy: 0.9991 - precision: 0.8664 - recall: 0.5968 - auc: 0.9261 - prc: 0.7330 - val_loss: 0.0036 - val_cross entropy: 0.0036 - val_Brier score: 6.3375e-04 - val_tp: 66.0000 - val_fp: 14.0000 - val_tn: 45471.0000 - val_fn: 18.0000 - val_accuracy: 0.9993 - val_precision: 0.8250 - val_recall: 0.7857 - val_auc: 0.9223 - val_prc: 0.7851\n",
      "Epoch 23/100\n",
      "90/90 [==============================] - 0s 3ms/step - loss: 0.0039 - cross entropy: 0.0039 - Brier score: 6.9955e-04 - tp: 200.0000 - fp: 32.0000 - tn: 181929.0000 - fn: 115.0000 - accuracy: 0.9992 - precision: 0.8621 - recall: 0.6349 - auc: 0.9308 - prc: 0.7321 - val_loss: 0.0035 - val_cross entropy: 0.0035 - val_Brier score: 6.2055e-04 - val_tp: 66.0000 - val_fp: 13.0000 - val_tn: 45472.0000 - val_fn: 18.0000 - val_accuracy: 0.9993 - val_precision: 0.8354 - val_recall: 0.7857 - val_auc: 0.9282 - val_prc: 0.7924\n",
      "Epoch 24/100\n",
      "90/90 [==============================] - 0s 3ms/step - loss: 0.0037 - cross entropy: 0.0037 - Brier score: 6.7611e-04 - tp: 202.0000 - fp: 34.0000 - tn: 181927.0000 - fn: 113.0000 - accuracy: 0.9992 - precision: 0.8559 - recall: 0.6413 - auc: 0.9389 - prc: 0.7364 - val_loss: 0.0034 - val_cross entropy: 0.0034 - val_Brier score: 5.9150e-04 - val_tp: 62.0000 - val_fp: 10.0000 - val_tn: 45475.0000 - val_fn: 22.0000 - val_accuracy: 0.9993 - val_precision: 0.8611 - val_recall: 0.7381 - val_auc: 0.9223 - val_prc: 0.7972\n",
      "Epoch 25/100\n",
      "90/90 [==============================] - 0s 3ms/step - loss: 0.0039 - cross entropy: 0.0039 - Brier score: 7.1473e-04 - tp: 189.0000 - fp: 25.0000 - tn: 181936.0000 - fn: 126.0000 - accuracy: 0.9992 - precision: 0.8832 - recall: 0.6000 - auc: 0.9326 - prc: 0.7351 - val_loss: 0.0035 - val_cross entropy: 0.0035 - val_Brier score: 6.2219e-04 - val_tp: 66.0000 - val_fp: 13.0000 - val_tn: 45472.0000 - val_fn: 18.0000 - val_accuracy: 0.9993 - val_precision: 0.8354 - val_recall: 0.7857 - val_auc: 0.9223 - val_prc: 0.7892\n",
      "Epoch 26/100\n",
      "90/90 [==============================] - 0s 3ms/step - loss: 0.0039 - cross entropy: 0.0039 - Brier score: 6.8803e-04 - tp: 206.0000 - fp: 32.0000 - tn: 181929.0000 - fn: 109.0000 - accuracy: 0.9992 - precision: 0.8655 - recall: 0.6540 - auc: 0.9277 - prc: 0.7262 - val_loss: 0.0033 - val_cross entropy: 0.0033 - val_Brier score: 5.8488e-04 - val_tp: 63.0000 - val_fp: 11.0000 - val_tn: 45474.0000 - val_fn: 21.0000 - val_accuracy: 0.9993 - val_precision: 0.8514 - val_recall: 0.7500 - val_auc: 0.9283 - val_prc: 0.8038\n",
      "Epoch 27/100\n",
      "90/90 [==============================] - 0s 3ms/step - loss: 0.0038 - cross entropy: 0.0038 - Brier score: 7.3095e-04 - tp: 189.0000 - fp: 32.0000 - tn: 181929.0000 - fn: 126.0000 - accuracy: 0.9991 - precision: 0.8552 - recall: 0.6000 - auc: 0.9374 - prc: 0.7247 - val_loss: 0.0033 - val_cross entropy: 0.0033 - val_Brier score: 5.8143e-04 - val_tp: 65.0000 - val_fp: 11.0000 - val_tn: 45474.0000 - val_fn: 19.0000 - val_accuracy: 0.9993 - val_precision: 0.8553 - val_recall: 0.7738 - val_auc: 0.9283 - val_prc: 0.8050\n",
      "Epoch 28/100\n",
      "90/90 [==============================] - 0s 3ms/step - loss: 0.0039 - cross entropy: 0.0039 - Brier score: 7.3331e-04 - tp: 188.0000 - fp: 33.0000 - tn: 181928.0000 - fn: 127.0000 - accuracy: 0.9991 - precision: 0.8507 - recall: 0.5968 - auc: 0.9357 - prc: 0.7350 - val_loss: 0.0033 - val_cross entropy: 0.0033 - val_Brier score: 5.8243e-04 - val_tp: 66.0000 - val_fp: 12.0000 - val_tn: 45473.0000 - val_fn: 18.0000 - val_accuracy: 0.9993 - val_precision: 0.8462 - val_recall: 0.7857 - val_auc: 0.9282 - val_prc: 0.8051\n",
      "Epoch 29/100\n",
      "90/90 [==============================] - 0s 3ms/step - loss: 0.0038 - cross entropy: 0.0038 - Brier score: 6.8951e-04 - tp: 194.0000 - fp: 26.0000 - tn: 181935.0000 - fn: 121.0000 - accuracy: 0.9992 - precision: 0.8818 - recall: 0.6159 - auc: 0.9356 - prc: 0.7467 - val_loss: 0.0033 - val_cross entropy: 0.0033 - val_Brier score: 5.8699e-04 - val_tp: 67.0000 - val_fp: 12.0000 - val_tn: 45473.0000 - val_fn: 17.0000 - val_accuracy: 0.9994 - val_precision: 0.8481 - val_recall: 0.7976 - val_auc: 0.9342 - val_prc: 0.8111\n",
      "Epoch 30/100\n",
      "90/90 [==============================] - 0s 3ms/step - loss: 0.0037 - cross entropy: 0.0037 - Brier score: 6.9032e-04 - tp: 201.0000 - fp: 31.0000 - tn: 181930.0000 - fn: 114.0000 - accuracy: 0.9992 - precision: 0.8664 - recall: 0.6381 - auc: 0.9388 - prc: 0.7428 - val_loss: 0.0033 - val_cross entropy: 0.0033 - val_Brier score: 5.8475e-04 - val_tp: 67.0000 - val_fp: 12.0000 - val_tn: 45473.0000 - val_fn: 17.0000 - val_accuracy: 0.9994 - val_precision: 0.8481 - val_recall: 0.7976 - val_auc: 0.9342 - val_prc: 0.8114\n",
      "Epoch 31/100\n"
     ]
    },
    {
     "name": "stdout",
     "output_type": "stream",
     "text": [
      "90/90 [==============================] - 0s 5ms/step - loss: 0.0036 - cross entropy: 0.0036 - Brier score: 6.7562e-04 - tp: 197.0000 - fp: 26.0000 - tn: 181935.0000 - fn: 118.0000 - accuracy: 0.9992 - precision: 0.8834 - recall: 0.6254 - auc: 0.9389 - prc: 0.7584 - val_loss: 0.0033 - val_cross entropy: 0.0033 - val_Brier score: 5.8060e-04 - val_tp: 67.0000 - val_fp: 12.0000 - val_tn: 45473.0000 - val_fn: 17.0000 - val_accuracy: 0.9994 - val_precision: 0.8481 - val_recall: 0.7976 - val_auc: 0.9342 - val_prc: 0.8124\n",
      "Epoch 32/100\n",
      "90/90 [==============================] - 0s 4ms/step - loss: 0.0034 - cross entropy: 0.0034 - Brier score: 6.3956e-04 - tp: 197.0000 - fp: 27.0000 - tn: 181934.0000 - fn: 118.0000 - accuracy: 0.9992 - precision: 0.8795 - recall: 0.6254 - auc: 0.9374 - prc: 0.7705 - val_loss: 0.0034 - val_cross entropy: 0.0034 - val_Brier score: 5.8471e-04 - val_tp: 67.0000 - val_fp: 12.0000 - val_tn: 45473.0000 - val_fn: 17.0000 - val_accuracy: 0.9994 - val_precision: 0.8481 - val_recall: 0.7976 - val_auc: 0.9342 - val_prc: 0.8127\n",
      "Epoch 33/100\n",
      "90/90 [==============================] - 0s 4ms/step - loss: 0.0039 - cross entropy: 0.0039 - Brier score: 7.0337e-04 - tp: 199.0000 - fp: 31.0000 - tn: 181930.0000 - fn: 116.0000 - accuracy: 0.9992 - precision: 0.8652 - recall: 0.6317 - auc: 0.9404 - prc: 0.7327 - val_loss: 0.0032 - val_cross entropy: 0.0032 - val_Brier score: 5.5334e-04 - val_tp: 67.0000 - val_fp: 11.0000 - val_tn: 45474.0000 - val_fn: 17.0000 - val_accuracy: 0.9994 - val_precision: 0.8590 - val_recall: 0.7976 - val_auc: 0.9342 - val_prc: 0.8189\n",
      "Epoch 34/100\n",
      "90/90 [==============================] - 0s 4ms/step - loss: 0.0038 - cross entropy: 0.0038 - Brier score: 7.0543e-04 - tp: 192.0000 - fp: 31.0000 - tn: 181930.0000 - fn: 123.0000 - accuracy: 0.9992 - precision: 0.8610 - recall: 0.6095 - auc: 0.9340 - prc: 0.7432 - val_loss: 0.0033 - val_cross entropy: 0.0033 - val_Brier score: 5.8026e-04 - val_tp: 67.0000 - val_fp: 12.0000 - val_tn: 45473.0000 - val_fn: 17.0000 - val_accuracy: 0.9994 - val_precision: 0.8481 - val_recall: 0.7976 - val_auc: 0.9342 - val_prc: 0.8160\n",
      "Epoch 35/100\n",
      "90/90 [==============================] - 0s 3ms/step - loss: 0.0037 - cross entropy: 0.0037 - Brier score: 6.5374e-04 - tp: 212.0000 - fp: 34.0000 - tn: 181927.0000 - fn: 103.0000 - accuracy: 0.9992 - precision: 0.8618 - recall: 0.6730 - auc: 0.9374 - prc: 0.7467 - val_loss: 0.0032 - val_cross entropy: 0.0032 - val_Brier score: 5.3144e-04 - val_tp: 63.0000 - val_fp: 6.0000 - val_tn: 45479.0000 - val_fn: 21.0000 - val_accuracy: 0.9994 - val_precision: 0.9130 - val_recall: 0.7500 - val_auc: 0.9342 - val_prc: 0.8237\n",
      "Epoch 36/100\n",
      "90/90 [==============================] - 0s 3ms/step - loss: 0.0038 - cross entropy: 0.0038 - Brier score: 7.0237e-04 - tp: 193.0000 - fp: 31.0000 - tn: 181930.0000 - fn: 122.0000 - accuracy: 0.9992 - precision: 0.8616 - recall: 0.6127 - auc: 0.9341 - prc: 0.7299 - val_loss: 0.0032 - val_cross entropy: 0.0032 - val_Brier score: 5.2615e-04 - val_tp: 66.0000 - val_fp: 7.0000 - val_tn: 45478.0000 - val_fn: 18.0000 - val_accuracy: 0.9995 - val_precision: 0.9041 - val_recall: 0.7857 - val_auc: 0.9342 - val_prc: 0.8247\n",
      "Epoch 37/100\n",
      "90/90 [==============================] - 0s 3ms/step - loss: 0.0040 - cross entropy: 0.0040 - Brier score: 7.1788e-04 - tp: 199.0000 - fp: 31.0000 - tn: 181930.0000 - fn: 116.0000 - accuracy: 0.9992 - precision: 0.8652 - recall: 0.6317 - auc: 0.9372 - prc: 0.7146 - val_loss: 0.0032 - val_cross entropy: 0.0032 - val_Brier score: 5.3118e-04 - val_tp: 65.0000 - val_fp: 7.0000 - val_tn: 45478.0000 - val_fn: 19.0000 - val_accuracy: 0.9994 - val_precision: 0.9028 - val_recall: 0.7738 - val_auc: 0.9283 - val_prc: 0.8202\n",
      "Epoch 38/100\n",
      "90/90 [==============================] - 0s 3ms/step - loss: 0.0039 - cross entropy: 0.0039 - Brier score: 7.2824e-04 - tp: 189.0000 - fp: 30.0000 - tn: 181931.0000 - fn: 126.0000 - accuracy: 0.9991 - precision: 0.8630 - recall: 0.6000 - auc: 0.9372 - prc: 0.7080 - val_loss: 0.0032 - val_cross entropy: 0.0032 - val_Brier score: 5.2945e-04 - val_tp: 66.0000 - val_fp: 9.0000 - val_tn: 45476.0000 - val_fn: 18.0000 - val_accuracy: 0.9994 - val_precision: 0.8800 - val_recall: 0.7857 - val_auc: 0.9342 - val_prc: 0.8247\n",
      "Epoch 39/100\n",
      "90/90 [==============================] - 0s 3ms/step - loss: 0.0036 - cross entropy: 0.0036 - Brier score: 6.6909e-04 - tp: 204.0000 - fp: 29.0000 - tn: 181932.0000 - fn: 111.0000 - accuracy: 0.9992 - precision: 0.8755 - recall: 0.6476 - auc: 0.9326 - prc: 0.7531 - val_loss: 0.0032 - val_cross entropy: 0.0032 - val_Brier score: 5.4212e-04 - val_tp: 66.0000 - val_fp: 11.0000 - val_tn: 45474.0000 - val_fn: 18.0000 - val_accuracy: 0.9994 - val_precision: 0.8571 - val_recall: 0.7857 - val_auc: 0.9342 - val_prc: 0.8221\n",
      "Epoch 40/100\n",
      "90/90 [==============================] - 0s 3ms/step - loss: 0.0037 - cross entropy: 0.0037 - Brier score: 6.7874e-04 - tp: 204.0000 - fp: 32.0000 - tn: 181929.0000 - fn: 111.0000 - accuracy: 0.9992 - precision: 0.8644 - recall: 0.6476 - auc: 0.9374 - prc: 0.7518 - val_loss: 0.0031 - val_cross entropy: 0.0031 - val_Brier score: 5.1825e-04 - val_tp: 63.0000 - val_fp: 6.0000 - val_tn: 45479.0000 - val_fn: 21.0000 - val_accuracy: 0.9994 - val_precision: 0.9130 - val_recall: 0.7500 - val_auc: 0.9342 - val_prc: 0.8270\n",
      "Epoch 41/100\n",
      "90/90 [==============================] - 0s 3ms/step - loss: 0.0037 - cross entropy: 0.0037 - Brier score: 7.1698e-04 - tp: 194.0000 - fp: 38.0000 - tn: 181923.0000 - fn: 121.0000 - accuracy: 0.9991 - precision: 0.8362 - recall: 0.6159 - auc: 0.9373 - prc: 0.7376 - val_loss: 0.0032 - val_cross entropy: 0.0032 - val_Brier score: 5.2531e-04 - val_tp: 67.0000 - val_fp: 9.0000 - val_tn: 45476.0000 - val_fn: 17.0000 - val_accuracy: 0.9994 - val_precision: 0.8816 - val_recall: 0.7976 - val_auc: 0.9342 - val_prc: 0.8244\n",
      "Epoch 42/100\n",
      "90/90 [==============================] - 0s 3ms/step - loss: 0.0037 - cross entropy: 0.0037 - Brier score: 7.1770e-04 - tp: 192.0000 - fp: 33.0000 - tn: 181928.0000 - fn: 123.0000 - accuracy: 0.9991 - precision: 0.8533 - recall: 0.6095 - auc: 0.9325 - prc: 0.7354 - val_loss: 0.0032 - val_cross entropy: 0.0032 - val_Brier score: 5.2474e-04 - val_tp: 66.0000 - val_fp: 8.0000 - val_tn: 45477.0000 - val_fn: 18.0000 - val_accuracy: 0.9994 - val_precision: 0.8919 - val_recall: 0.7857 - val_auc: 0.9283 - val_prc: 0.8212\n",
      "Epoch 43/100\n",
      "90/90 [==============================] - 0s 3ms/step - loss: 0.0036 - cross entropy: 0.0036 - Brier score: 6.9157e-04 - tp: 192.0000 - fp: 30.0000 - tn: 181931.0000 - fn: 123.0000 - accuracy: 0.9992 - precision: 0.8649 - recall: 0.6095 - auc: 0.9421 - prc: 0.7535 - val_loss: 0.0033 - val_cross entropy: 0.0033 - val_Brier score: 5.6795e-04 - val_tp: 67.0000 - val_fp: 12.0000 - val_tn: 45473.0000 - val_fn: 17.0000 - val_accuracy: 0.9994 - val_precision: 0.8481 - val_recall: 0.7976 - val_auc: 0.9283 - val_prc: 0.8171\n",
      "Epoch 44/100\n",
      "90/90 [==============================] - 0s 3ms/step - loss: 0.0037 - cross entropy: 0.0037 - Brier score: 6.8980e-04 - tp: 202.0000 - fp: 35.0000 - tn: 181926.0000 - fn: 113.0000 - accuracy: 0.9992 - precision: 0.8523 - recall: 0.6413 - auc: 0.9374 - prc: 0.7503 - val_loss: 0.0032 - val_cross entropy: 0.0032 - val_Brier score: 5.2730e-04 - val_tp: 67.0000 - val_fp: 9.0000 - val_tn: 45476.0000 - val_fn: 17.0000 - val_accuracy: 0.9994 - val_precision: 0.8816 - val_recall: 0.7976 - val_auc: 0.9283 - val_prc: 0.8209\n",
      "Epoch 45/100\n",
      "90/90 [==============================] - 0s 4ms/step - loss: 0.0037 - cross entropy: 0.0037 - Brier score: 6.8264e-04 - tp: 194.0000 - fp: 29.0000 - tn: 181932.0000 - fn: 121.0000 - accuracy: 0.9992 - precision: 0.8700 - recall: 0.6159 - auc: 0.9342 - prc: 0.7492 - val_loss: 0.0033 - val_cross entropy: 0.0033 - val_Brier score: 5.6806e-04 - val_tp: 67.0000 - val_fp: 13.0000 - val_tn: 45472.0000 - val_fn: 17.0000 - val_accuracy: 0.9993 - val_precision: 0.8375 - val_recall: 0.7976 - val_auc: 0.9342 - val_prc: 0.8215\n",
      "Epoch 46/100\n"
     ]
    },
    {
     "name": "stdout",
     "output_type": "stream",
     "text": [
      "90/90 [==============================] - 0s 5ms/step - loss: 0.0035 - cross entropy: 0.0035 - Brier score: 6.5028e-04 - tp: 201.0000 - fp: 28.0000 - tn: 181933.0000 - fn: 114.0000 - accuracy: 0.9992 - precision: 0.8777 - recall: 0.6381 - auc: 0.9325 - prc: 0.7575 - val_loss: 0.0033 - val_cross entropy: 0.0033 - val_Brier score: 5.5558e-04 - val_tp: 67.0000 - val_fp: 12.0000 - val_tn: 45473.0000 - val_fn: 17.0000 - val_accuracy: 0.9994 - val_precision: 0.8481 - val_recall: 0.7976 - val_auc: 0.9283 - val_prc: 0.8188\n",
      "Epoch 47/100\n",
      "90/90 [==============================] - 0s 4ms/step - loss: 0.0035 - cross entropy: 0.0035 - Brier score: 6.5789e-04 - tp: 208.0000 - fp: 27.0000 - tn: 181934.0000 - fn: 107.0000 - accuracy: 0.9993 - precision: 0.8851 - recall: 0.6603 - auc: 0.9406 - prc: 0.7626 - val_loss: 0.0032 - val_cross entropy: 0.0032 - val_Brier score: 5.3554e-04 - val_tp: 67.0000 - val_fp: 11.0000 - val_tn: 45474.0000 - val_fn: 17.0000 - val_accuracy: 0.9994 - val_precision: 0.8590 - val_recall: 0.7976 - val_auc: 0.9282 - val_prc: 0.8199\n",
      "Epoch 48/100\n",
      "90/90 [==============================] - 0s 3ms/step - loss: 0.0034 - cross entropy: 0.0034 - Brier score: 6.4727e-04 - tp: 200.0000 - fp: 28.0000 - tn: 181933.0000 - fn: 115.0000 - accuracy: 0.9992 - precision: 0.8772 - recall: 0.6349 - auc: 0.9391 - prc: 0.7695 - val_loss: 0.0033 - val_cross entropy: 0.0033 - val_Brier score: 5.6116e-04 - val_tp: 67.0000 - val_fp: 13.0000 - val_tn: 45472.0000 - val_fn: 17.0000 - val_accuracy: 0.9993 - val_precision: 0.8375 - val_recall: 0.7976 - val_auc: 0.9282 - val_prc: 0.8165\n",
      "Epoch 49/100\n",
      "90/90 [==============================] - 0s 3ms/step - loss: 0.0033 - cross entropy: 0.0033 - Brier score: 6.0763e-04 - tp: 218.0000 - fp: 25.0000 - tn: 181936.0000 - fn: 97.0000 - accuracy: 0.9993 - precision: 0.8971 - recall: 0.6921 - auc: 0.9438 - prc: 0.7883 - val_loss: 0.0032 - val_cross entropy: 0.0032 - val_Brier score: 5.3788e-04 - val_tp: 67.0000 - val_fp: 11.0000 - val_tn: 45474.0000 - val_fn: 17.0000 - val_accuracy: 0.9994 - val_precision: 0.8590 - val_recall: 0.7976 - val_auc: 0.9282 - val_prc: 0.8198\n",
      "Epoch 50/100\n",
      "78/90 [=========================>....] - ETA: 0s - loss: 0.0036 - cross entropy: 0.0036 - Brier score: 6.6272e-04 - tp: 161.0000 - fp: 31.0000 - tn: 159449.0000 - fn: 103.0000 - accuracy: 0.9992 - precision: 0.8385 - recall: 0.6098 - auc: 0.9405 - prc: 0.7489Restoring model weights from the end of the best epoch: 40.\n",
      "90/90 [==============================] - 0s 3ms/step - loss: 0.0036 - cross entropy: 0.0036 - Brier score: 6.7204e-04 - tp: 193.0000 - fp: 31.0000 - tn: 181930.0000 - fn: 122.0000 - accuracy: 0.9992 - precision: 0.8616 - recall: 0.6127 - auc: 0.9389 - prc: 0.7628 - val_loss: 0.0032 - val_cross entropy: 0.0032 - val_Brier score: 5.5066e-04 - val_tp: 67.0000 - val_fp: 12.0000 - val_tn: 45473.0000 - val_fn: 17.0000 - val_accuracy: 0.9994 - val_precision: 0.8481 - val_recall: 0.7976 - val_auc: 0.9282 - val_prc: 0.8193\n",
      "Epoch 50: early stopping\n"
     ]
    }
   ],
   "source": [
    "model = make_model()\n",
    "model.load_weights(initial_weights)\n",
    "baseline_history = model.fit(\n",
    "    train_features,\n",
    "    train_labels,\n",
    "    batch_size=BATCH_SIZE,\n",
    "    epochs=EPOCHS,\n",
    "    callbacks=[early_stopping],\n",
    "    validation_data=(val_features, val_labels))"
   ]
  },
  {
   "cell_type": "markdown",
   "metadata": {
    "id": "iSaDBYU9xtP6"
   },
   "source": [
    "### Check training history\n",
    "\n",
    "In this section, you will produce plots of your model's accuracy and loss on the training and validation set. These are useful to check for overfitting, which you can learn more about in the [Overfit and underfit](https://www.tensorflow.org/tutorials/keras/overfit_and_underfit) tutorial.\n",
    "\n",
    "Additionally, you can produce these plots for any of the metrics you created above. False negatives are included as an example."
   ]
  },
  {
   "cell_type": "code",
   "execution_count": 26,
   "metadata": {
    "execution": {
     "iopub.execute_input": "2023-07-27T04:53:13.366249Z",
     "iopub.status.busy": "2023-07-27T04:53:13.365951Z",
     "iopub.status.idle": "2023-07-27T04:53:13.372128Z",
     "shell.execute_reply": "2023-07-27T04:53:13.371345Z"
    },
    "id": "WTSkhT1jyGu6"
   },
   "outputs": [],
   "source": [
    "def plot_metrics(history):\n",
    "  metrics = ['loss', 'prc', 'precision', 'recall']\n",
    "  for n, metric in enumerate(metrics):\n",
    "    name = metric.replace(\"_\",\" \").capitalize()\n",
    "    plt.subplot(2,2,n+1)\n",
    "    plt.plot(history.epoch, history.history[metric], color=colors[0], label='Train')\n",
    "    plt.plot(history.epoch, history.history['val_'+metric],\n",
    "             color=colors[0], linestyle=\"--\", label='Val')\n",
    "    plt.xlabel('Epoch')\n",
    "    plt.ylabel(name)\n",
    "    if metric == 'loss':\n",
    "      plt.ylim([0, plt.ylim()[1]])\n",
    "    elif metric == 'auc':\n",
    "      plt.ylim([0.8,1])\n",
    "    else:\n",
    "      plt.ylim([0,1])\n",
    "\n",
    "    plt.legend()"
   ]
  },
  {
   "cell_type": "code",
   "execution_count": 27,
   "metadata": {
    "execution": {
     "iopub.execute_input": "2023-07-27T04:53:13.375112Z",
     "iopub.status.busy": "2023-07-27T04:53:13.374863Z",
     "iopub.status.idle": "2023-07-27T04:53:13.961103Z",
     "shell.execute_reply": "2023-07-27T04:53:13.960412Z"
    },
    "id": "u6LReDsqlZlk"
   },
   "outputs": [],
   "source": [
    "plot_metrics(baseline_history)"
   ]
  },
  {
   "cell_type": "markdown",
   "metadata": {
    "id": "UCa4iWo6WDKR"
   },
   "source": [
    "Note: That the validation curve generally performs better than the training curve. This is mainly caused by the fact that the dropout layer is not active when evaluating the model."
   ]
  },
  {
   "cell_type": "markdown",
   "metadata": {
    "id": "aJC1booryouo"
   },
   "source": [
    "### Evaluate metrics\n",
    "\n",
    "You can use a [confusion matrix](https://developers.google.com/machine-learning/glossary/#confusion_matrix) to summarize the actual vs. predicted labels, where the X axis is the predicted label and the Y axis is the actual label:"
   ]
  },
  {
   "cell_type": "code",
   "execution_count": 28,
   "metadata": {
    "execution": {
     "iopub.execute_input": "2023-07-27T04:53:13.965085Z",
     "iopub.status.busy": "2023-07-27T04:53:13.964845Z",
     "iopub.status.idle": "2023-07-27T04:53:14.384573Z",
     "shell.execute_reply": "2023-07-27T04:53:14.383891Z"
    },
    "id": "aNS796IJKrev"
   },
   "outputs": [],
   "source": [
    "train_predictions_baseline = model.predict(train_features, batch_size=BATCH_SIZE)\n",
    "test_predictions_baseline = model.predict(test_features, batch_size=BATCH_SIZE)"
   ]
  },
  {
   "cell_type": "code",
   "execution_count": 29,
   "metadata": {
    "execution": {
     "iopub.execute_input": "2023-07-27T04:53:14.388308Z",
     "iopub.status.busy": "2023-07-27T04:53:14.387667Z",
     "iopub.status.idle": "2023-07-27T04:53:14.393021Z",
     "shell.execute_reply": "2023-07-27T04:53:14.392448Z"
    },
    "id": "MVWBGfADwbWI"
   },
   "outputs": [],
   "source": [
    "def plot_cm(labels, predictions, threshold=0.5):\n",
    "  cm = confusion_matrix(labels, predictions > threshold)\n",
    "  plt.figure(figsize=(5,5))\n",
    "  sns.heatmap(cm, annot=True, fmt=\"d\")\n",
    "  plt.title('Confusion matrix @{:.2f}'.format(threshold))\n",
    "  plt.ylabel('Actual label')\n",
    "  plt.xlabel('Predicted label')\n",
    "\n",
    "  print('Legitimate Transactions Detected (True Negatives): ', cm[0][0])\n",
    "  print('Legitimate Transactions Incorrectly Detected (False Positives): ', cm[0][1])\n",
    "  print('Fraudulent Transactions Missed (False Negatives): ', cm[1][0])\n",
    "  print('Fraudulent Transactions Detected (True Positives): ', cm[1][1])\n",
    "  print('Total Fraudulent Transactions: ', np.sum(cm[1]))"
   ]
  },
  {
   "cell_type": "markdown",
   "metadata": {
    "id": "nOTjD5Z5Wp1U"
   },
   "source": [
    "Evaluate your model on the test dataset and display the results for the metrics you created above:"
   ]
  },
  {
   "cell_type": "code",
   "execution_count": 30,
   "metadata": {
    "execution": {
     "iopub.execute_input": "2023-07-27T04:53:14.396287Z",
     "iopub.status.busy": "2023-07-27T04:53:14.395818Z",
     "iopub.status.idle": "2023-07-27T04:53:14.734769Z",
     "shell.execute_reply": "2023-07-27T04:53:14.734137Z"
    },
    "id": "poh_hZngt2_9"
   },
   "outputs": [
    {
     "name": "stdout",
     "output_type": "stream",
     "text": [
      "loss :  0.002670189831405878\n",
      "cross entropy :  0.002670189831405878\n",
      "Brier score :  0.00046626615221612155\n",
      "tp :  68.0\n",
      "fp :  5.0\n",
      "tn :  56864.0\n",
      "fn :  25.0\n",
      "accuracy :  0.9994733333587646\n",
      "precision :  0.931506872177124\n",
      "recall :  0.7311828136444092\n",
      "auc :  0.9406165480613708\n",
      "prc :  0.8213942646980286\n",
      "\n",
      "Legitimate Transactions Detected (True Negatives):  56864\n",
      "Legitimate Transactions Incorrectly Detected (False Positives):  5\n",
      "Fraudulent Transactions Missed (False Negatives):  25\n",
      "Fraudulent Transactions Detected (True Positives):  68\n",
      "Total Fraudulent Transactions:  93\n"
     ]
    }
   ],
   "source": [
    "baseline_results = model.evaluate(test_features, test_labels,\n",
    "                                  batch_size=BATCH_SIZE, verbose=0)\n",
    "for name, value in zip(model.metrics_names, baseline_results):\n",
    "  print(name, ': ', value)\n",
    "print()\n",
    "\n",
    "plot_cm(test_labels, test_predictions_baseline)"
   ]
  },
  {
   "cell_type": "markdown",
   "metadata": {
    "id": "PyZtSr1v6L4t"
   },
   "source": [
    "If the model had predicted everything perfectly (impossible with true randomness), this would be a [diagonal matrix](https://en.wikipedia.org/wiki/Diagonal_matrix) where values off the main diagonal, indicating incorrect predictions, would be zero. In this case, the matrix shows that you have relatively few false positives, meaning that there were relatively few legitimate transactions that were incorrectly flagged."
   ]
  },
  {
   "cell_type": "markdown",
   "metadata": {
    "id": "P-QpQsip_F2Q"
   },
   "source": [
    "### Changing the threshold\n",
    "\n",
    "The default threshold of $t=50\\%$ corresponds to equal costs of false negatives and false positives.\n",
    "In the case of fraud detection, however, you would likely associate higher costs to false negatives than to false positives.\n",
    "This trade off may be preferable because false negatives would allow fraudulent transactions to go through, whereas false positives may cause an email to be sent to a customer to ask them to verify their card activity.\n",
    "\n",
    "By decreasing the threshold, we attribute higher cost to false negatives, thereby increasing missed transactions at the price of more false positives.\n",
    "We test thresholds at 10% and at 1%."
   ]
  },
  {
   "cell_type": "code",
   "execution_count": 31,
   "metadata": {
    "execution": {
     "iopub.execute_input": "2023-07-27T04:53:14.738184Z",
     "iopub.status.busy": "2023-07-27T04:53:14.737593Z",
     "iopub.status.idle": "2023-07-27T04:53:15.088686Z",
     "shell.execute_reply": "2023-07-27T04:53:15.088149Z"
    },
    "id": "52bd793e04bb"
   },
   "outputs": [
    {
     "name": "stdout",
     "output_type": "stream",
     "text": [
      "Legitimate Transactions Detected (True Negatives):  56855\n",
      "Legitimate Transactions Incorrectly Detected (False Positives):  14\n",
      "Fraudulent Transactions Missed (False Negatives):  18\n",
      "Fraudulent Transactions Detected (True Positives):  75\n",
      "Total Fraudulent Transactions:  93\n",
      "Legitimate Transactions Detected (True Negatives):  56800\n",
      "Legitimate Transactions Incorrectly Detected (False Positives):  69\n",
      "Fraudulent Transactions Missed (False Negatives):  12\n",
      "Fraudulent Transactions Detected (True Positives):  81\n",
      "Total Fraudulent Transactions:  93\n"
     ]
    }
   ],
   "source": [
    "plot_cm(test_labels, test_predictions_baseline, threshold=0.1)\n",
    "plot_cm(test_labels, test_predictions_baseline, threshold=0.01)"
   ]
  },
  {
   "cell_type": "markdown",
   "metadata": {
    "id": "P-QpQsip_F2Q"
   },
   "source": [
    "### Plot the ROC\n",
    "\n",
    "Now plot the [ROC](https://developers.google.com/machine-learning/glossary#ROC). This plot is useful because it shows, at a glance, the range of performance the model can reach by tuning the output threshold over its full range (0 to 1). So each point corresponds to a single value of the threshold."
   ]
  },
  {
   "cell_type": "code",
   "execution_count": 32,
   "metadata": {
    "execution": {
     "iopub.execute_input": "2023-07-27T04:53:15.091727Z",
     "iopub.status.busy": "2023-07-27T04:53:15.091501Z",
     "iopub.status.idle": "2023-07-27T04:53:15.095958Z",
     "shell.execute_reply": "2023-07-27T04:53:15.095356Z"
    },
    "id": "lhaxsLSvANF9"
   },
   "outputs": [],
   "source": [
    "def plot_roc(name, labels, predictions, **kwargs):\n",
    "  fp, tp, _ = sklearn.metrics.roc_curve(labels, predictions)\n",
    "\n",
    "  plt.plot(100*fp, 100*tp, label=name, linewidth=2, **kwargs)\n",
    "  plt.xlabel('False positives [%]')\n",
    "  plt.ylabel('True positives [%]')\n",
    "  plt.xlim([-0.5,20])\n",
    "  plt.ylim([80,100.5])\n",
    "  plt.grid(True)\n",
    "  ax = plt.gca()\n",
    "  ax.set_aspect('equal')"
   ]
  },
  {
   "cell_type": "code",
   "execution_count": 33,
   "metadata": {
    "execution": {
     "iopub.execute_input": "2023-07-27T04:53:15.099025Z",
     "iopub.status.busy": "2023-07-27T04:53:15.098453Z",
     "iopub.status.idle": "2023-07-27T04:53:15.357356Z",
     "shell.execute_reply": "2023-07-27T04:53:15.356637Z"
    },
    "id": "DfHHspttKJE0"
   },
   "outputs": [],
   "source": [
    "plot_roc(\"Train Baseline\", train_labels, train_predictions_baseline, color=colors[0])\n",
    "plot_roc(\"Test Baseline\", test_labels, test_predictions_baseline, color=colors[0], linestyle='--')\n",
    "plt.legend(loc='lower right');"
   ]
  },
  {
   "cell_type": "markdown",
   "metadata": {
    "id": "Y5twGRLfNwmO"
   },
   "source": [
    "### Plot the PRC\n",
    "\n",
    "Now plot the [AUPRC](https://developers.google.com/machine-learning/glossary?hl=en#PR_AUC). Area under the interpolated precision-recall curve, obtained by plotting (recall, precision) points for different values of the classification threshold. Depending on how it's calculated, PR AUC may be equivalent to the average precision of the model.\n"
   ]
  },
  {
   "cell_type": "code",
   "execution_count": 34,
   "metadata": {
    "execution": {
     "iopub.execute_input": "2023-07-27T04:53:15.361481Z",
     "iopub.status.busy": "2023-07-27T04:53:15.360847Z",
     "iopub.status.idle": "2023-07-27T04:53:15.365164Z",
     "shell.execute_reply": "2023-07-27T04:53:15.364513Z"
    },
    "id": "XV6JSlFGEqGI"
   },
   "outputs": [],
   "source": [
    "def plot_prc(name, labels, predictions, **kwargs):\n",
    "    precision, recall, _ = sklearn.metrics.precision_recall_curve(labels, predictions)\n",
    "\n",
    "    plt.plot(precision, recall, label=name, linewidth=2, **kwargs)\n",
    "    plt.xlabel('Precision')\n",
    "    plt.ylabel('Recall')\n",
    "    plt.grid(True)\n",
    "    ax = plt.gca()\n",
    "    ax.set_aspect('equal')"
   ]
  },
  {
   "cell_type": "code",
   "execution_count": 35,
   "metadata": {
    "execution": {
     "iopub.execute_input": "2023-07-27T04:53:15.368267Z",
     "iopub.status.busy": "2023-07-27T04:53:15.367836Z",
     "iopub.status.idle": "2023-07-27T04:53:15.620227Z",
     "shell.execute_reply": "2023-07-27T04:53:15.619585Z"
    },
    "id": "FdQs_PcqEsiL"
   },
   "outputs": [],
   "source": [
    "plot_prc(\"Train Baseline\", train_labels, train_predictions_baseline, color=colors[0])\n",
    "plot_prc(\"Test Baseline\", test_labels, test_predictions_baseline, color=colors[0], linestyle='--')\n",
    "plt.legend(loc='lower right');"
   ]
  },
  {
   "cell_type": "markdown",
   "metadata": {
    "id": "gpdsFyp64DhY"
   },
   "source": [
    "It looks like the precision is relatively high, but the recall and the area under the ROC curve (AUC) aren't as high as you might like. Classifiers often face challenges when trying to maximize both precision and recall, which is especially true when working with imbalanced datasets. It is important to consider the costs of different types of errors in the context of the problem you care about. In this example, a false negative (a fraudulent transaction is missed) may have a financial cost, while a false positive (a transaction is incorrectly flagged as fraudulent) may decrease user happiness."
   ]
  },
  {
   "cell_type": "markdown",
   "metadata": {
    "id": "cveQoiMyGQCo"
   },
   "source": [
    "## Class weights"
   ]
  },
  {
   "cell_type": "markdown",
   "metadata": {
    "id": "ePGp6GUE1WfH"
   },
   "source": [
    "### Calculate class weights\n",
    "\n",
    "The goal is to identify fraudulent transactions, but you don't have very many of those positive samples to work with, so you would want to have the classifier heavily weight the few examples that are available. You can do this by passing Keras weights for each class through a parameter. These will cause the model to \"pay more attention\" to examples from an under-represented class. Note, however, that this does not increase in any way the amount of information of your dataset. In the end, using class weights is more or less equivalent to changing the output bias or to changing the threshold. Let's see how it works out."
   ]
  },
  {
   "cell_type": "code",
   "execution_count": 36,
   "metadata": {
    "execution": {
     "iopub.execute_input": "2023-07-27T04:53:15.623984Z",
     "iopub.status.busy": "2023-07-27T04:53:15.623400Z",
     "iopub.status.idle": "2023-07-27T04:53:15.627729Z",
     "shell.execute_reply": "2023-07-27T04:53:15.627129Z"
    },
    "id": "qjGWErngGny7"
   },
   "outputs": [
    {
     "name": "stdout",
     "output_type": "stream",
     "text": [
      "Weight for class 0: 0.50\n",
      "Weight for class 1: 289.44\n"
     ]
    }
   ],
   "source": [
    "# Scaling by total/2 helps keep the loss to a similar magnitude.\n",
    "# The sum of the weights of all examples stays the same.\n",
    "weight_for_0 = (1 / neg) * (total / 2.0)\n",
    "weight_for_1 = (1 / pos) * (total / 2.0)\n",
    "\n",
    "class_weight = {0: weight_for_0, 1: weight_for_1}\n",
    "\n",
    "print('Weight for class 0: {:.2f}'.format(weight_for_0))\n",
    "print('Weight for class 1: {:.2f}'.format(weight_for_1))"
   ]
  },
  {
   "cell_type": "markdown",
   "metadata": {
    "id": "Mk1OOE2ZSHzy"
   },
   "source": [
    "### Train a model with class weights\n",
    "\n",
    "Now try re-training and evaluating the model with class weights to see how that affects the predictions.\n",
    "\n",
    "Note: Using `class_weights` changes the range of the loss. This may affect the stability of the training depending on the optimizer. Optimizers whose step size is dependent on the magnitude of the gradient, like `tf.keras.optimizers.SGD`, may fail. The optimizer used here, `tf.keras.optimizers.Adam`, is unaffected by the scaling change. Also note that because of the weighting, the total losses are not comparable between the two models."
   ]
  },
  {
   "cell_type": "code",
   "execution_count": 37,
   "metadata": {
    "execution": {
     "iopub.execute_input": "2023-07-27T04:53:15.630589Z",
     "iopub.status.busy": "2023-07-27T04:53:15.630333Z",
     "iopub.status.idle": "2023-07-27T04:53:23.316824Z",
     "shell.execute_reply": "2023-07-27T04:53:23.316003Z"
    },
    "id": "UJ589fn8ST3x"
   },
   "outputs": [
    {
     "name": "stdout",
     "output_type": "stream",
     "text": [
      "Epoch 1/100\n",
      "90/90 [==============================] - 3s 22ms/step - loss: 1.2896 - cross entropy: 0.0151 - Brier score: 0.0028 - tp: 171.0000 - fp: 515.0000 - tn: 238315.0000 - fn: 237.0000 - accuracy: 0.9969 - precision: 0.2493 - recall: 0.4191 - auc: 0.8832 - prc: 0.2592 - val_loss: 0.0120 - val_cross entropy: 0.0120 - val_Brier score: 0.0012 - val_tp: 53.0000 - val_fp: 25.0000 - val_tn: 45460.0000 - val_fn: 31.0000 - val_accuracy: 0.9988 - val_precision: 0.6795 - val_recall: 0.6310 - val_auc: 0.9203 - val_prc: 0.5049\n",
      "Epoch 2/100\n",
      "90/90 [==============================] - 0s 4ms/step - loss: 0.6680 - cross entropy: 0.0321 - Brier score: 0.0066 - tp: 200.0000 - fp: 1309.0000 - tn: 180652.0000 - fn: 115.0000 - accuracy: 0.9922 - precision: 0.1325 - recall: 0.6349 - auc: 0.9207 - prc: 0.3354 - val_loss: 0.0192 - val_cross entropy: 0.0192 - val_Brier score: 0.0024 - val_tp: 68.0000 - val_fp: 71.0000 - val_tn: 45414.0000 - val_fn: 16.0000 - val_accuracy: 0.9981 - val_precision: 0.4892 - val_recall: 0.8095 - val_auc: 0.9376 - val_prc: 0.6275\n",
      "Epoch 3/100\n",
      "90/90 [==============================] - 1s 6ms/step - loss: 0.5288 - cross entropy: 0.0487 - Brier score: 0.0105 - tp: 229.0000 - fp: 2186.0000 - tn: 179775.0000 - fn: 86.0000 - accuracy: 0.9875 - precision: 0.0948 - recall: 0.7270 - auc: 0.9260 - prc: 0.3551 - val_loss: 0.0277 - val_cross entropy: 0.0277 - val_Brier score: 0.0044 - val_tp: 69.0000 - val_fp: 240.0000 - val_tn: 45245.0000 - val_fn: 15.0000 - val_accuracy: 0.9944 - val_precision: 0.2233 - val_recall: 0.8214 - val_auc: 0.9441 - val_prc: 0.6466\n",
      "Epoch 4/100\n",
      "90/90 [==============================] - 0s 5ms/step - loss: 0.4152 - cross entropy: 0.0647 - Brier score: 0.0140 - tp: 244.0000 - fp: 3014.0000 - tn: 178947.0000 - fn: 71.0000 - accuracy: 0.9831 - precision: 0.0749 - recall: 0.7746 - auc: 0.9360 - prc: 0.3120 - val_loss: 0.0388 - val_cross entropy: 0.0388 - val_Brier score: 0.0071 - val_tp: 70.0000 - val_fp: 376.0000 - val_tn: 45109.0000 - val_fn: 14.0000 - val_accuracy: 0.9914 - val_precision: 0.1570 - val_recall: 0.8333 - val_auc: 0.9543 - val_prc: 0.6261\n",
      "Epoch 5/100\n",
      "90/90 [==============================] - 0s 5ms/step - loss: 0.3228 - cross entropy: 0.0808 - Brier score: 0.0176 - tp: 262.0000 - fp: 3783.0000 - tn: 178178.0000 - fn: 53.0000 - accuracy: 0.9790 - precision: 0.0648 - recall: 0.8317 - auc: 0.9518 - prc: 0.2805 - val_loss: 0.0493 - val_cross entropy: 0.0493 - val_Brier score: 0.0095 - val_tp: 70.0000 - val_fp: 509.0000 - val_tn: 44976.0000 - val_fn: 14.0000 - val_accuracy: 0.9885 - val_precision: 0.1209 - val_recall: 0.8333 - val_auc: 0.9545 - val_prc: 0.5964\n",
      "Epoch 6/100\n",
      "90/90 [==============================] - 0s 4ms/step - loss: 0.3380 - cross entropy: 0.0952 - Brier score: 0.0207 - tp: 267.0000 - fp: 4440.0000 - tn: 177521.0000 - fn: 48.0000 - accuracy: 0.9754 - precision: 0.0567 - recall: 0.8476 - auc: 0.9445 - prc: 0.2386 - val_loss: 0.0551 - val_cross entropy: 0.0551 - val_Brier score: 0.0107 - val_tp: 70.0000 - val_fp: 584.0000 - val_tn: 44901.0000 - val_fn: 14.0000 - val_accuracy: 0.9869 - val_precision: 0.1070 - val_recall: 0.8333 - val_auc: 0.9599 - val_prc: 0.5701\n",
      "Epoch 7/100\n",
      "90/90 [==============================] - 0s 5ms/step - loss: 0.2753 - cross entropy: 0.1028 - Brier score: 0.0226 - tp: 271.0000 - fp: 4829.0000 - tn: 177132.0000 - fn: 44.0000 - accuracy: 0.9733 - precision: 0.0531 - recall: 0.8603 - auc: 0.9588 - prc: 0.2492 - val_loss: 0.0627 - val_cross entropy: 0.0627 - val_Brier score: 0.0123 - val_tp: 70.0000 - val_fp: 654.0000 - val_tn: 44831.0000 - val_fn: 14.0000 - val_accuracy: 0.9853 - val_precision: 0.0967 - val_recall: 0.8333 - val_auc: 0.9602 - val_prc: 0.5568\n",
      "Epoch 8/100\n",
      "90/90 [==============================] - 0s 5ms/step - loss: 0.2806 - cross entropy: 0.1134 - Brier score: 0.0246 - tp: 273.0000 - fp: 5215.0000 - tn: 176746.0000 - fn: 42.0000 - accuracy: 0.9712 - precision: 0.0497 - recall: 0.8667 - auc: 0.9565 - prc: 0.2241 - val_loss: 0.0691 - val_cross entropy: 0.0691 - val_Brier score: 0.0137 - val_tp: 70.0000 - val_fp: 711.0000 - val_tn: 44774.0000 - val_fn: 14.0000 - val_accuracy: 0.9841 - val_precision: 0.0896 - val_recall: 0.8333 - val_auc: 0.9639 - val_prc: 0.5351\n",
      "Epoch 9/100\n",
      "90/90 [==============================] - 0s 4ms/step - loss: 0.2805 - cross entropy: 0.1244 - Brier score: 0.0270 - tp: 271.0000 - fp: 5780.0000 - tn: 176181.0000 - fn: 44.0000 - accuracy: 0.9680 - precision: 0.0448 - recall: 0.8603 - auc: 0.9543 - prc: 0.2103 - val_loss: 0.0748 - val_cross entropy: 0.0748 - val_Brier score: 0.0148 - val_tp: 71.0000 - val_fp: 769.0000 - val_tn: 44716.0000 - val_fn: 13.0000 - val_accuracy: 0.9828 - val_precision: 0.0845 - val_recall: 0.8452 - val_auc: 0.9664 - val_prc: 0.5303\n",
      "Epoch 10/100\n",
      "90/90 [==============================] - 1s 9ms/step - loss: 0.2521 - cross entropy: 0.1247 - Brier score: 0.0271 - tp: 274.0000 - fp: 5812.0000 - tn: 176149.0000 - fn: 41.0000 - accuracy: 0.9679 - precision: 0.0450 - recall: 0.8698 - auc: 0.9631 - prc: 0.2008 - val_loss: 0.0769 - val_cross entropy: 0.0769 - val_Brier score: 0.0152 - val_tp: 71.0000 - val_fp: 791.0000 - val_tn: 44694.0000 - val_fn: 13.0000 - val_accuracy: 0.9824 - val_precision: 0.0824 - val_recall: 0.8452 - val_auc: 0.9663 - val_prc: 0.5362\n",
      "Epoch 11/100\n",
      "90/90 [==============================] - 0s 5ms/step - loss: 0.2337 - cross entropy: 0.1322 - Brier score: 0.0291 - tp: 282.0000 - fp: 6275.0000 - tn: 175686.0000 - fn: 33.0000 - accuracy: 0.9654 - precision: 0.0430 - recall: 0.8952 - auc: 0.9649 - prc: 0.1986 - val_loss: 0.0789 - val_cross entropy: 0.0789 - val_Brier score: 0.0155 - val_tp: 72.0000 - val_fp: 792.0000 - val_tn: 44693.0000 - val_fn: 12.0000 - val_accuracy: 0.9824 - val_precision: 0.0833 - val_recall: 0.8571 - val_auc: 0.9671 - val_prc: 0.5232\n",
      "Epoch 12/100\n",
      "90/90 [==============================] - 0s 5ms/step - loss: 0.2652 - cross entropy: 0.1358 - Brier score: 0.0300 - tp: 276.0000 - fp: 6499.0000 - tn: 175462.0000 - fn: 39.0000 - accuracy: 0.9641 - precision: 0.0407 - recall: 0.8762 - auc: 0.9585 - prc: 0.1996 - val_loss: 0.0805 - val_cross entropy: 0.0805 - val_Brier score: 0.0157 - val_tp: 73.0000 - val_fp: 805.0000 - val_tn: 44680.0000 - val_fn: 11.0000 - val_accuracy: 0.9821 - val_precision: 0.0831 - val_recall: 0.8690 - val_auc: 0.9693 - val_prc: 0.5268\n",
      "Epoch 13/100\n",
      "87/90 [============================>.] - ETA: 0s - loss: 0.2637 - cross entropy: 0.1366 - Brier score: 0.0300 - tp: 269.0000 - fp: 6350.0000 - tn: 171521.0000 - fn: 36.0000 - accuracy: 0.9642 - precision: 0.0406 - recall: 0.8820 - auc: 0.9569 - prc: 0.2081Restoring model weights from the end of the best epoch: 3.\n",
      "90/90 [==============================] - 0s 4ms/step - loss: 0.2731 - cross entropy: 0.1367 - Brier score: 0.0300 - tp: 277.0000 - fp: 6501.0000 - tn: 175460.0000 - fn: 38.0000 - accuracy: 0.9641 - precision: 0.0409 - recall: 0.8794 - auc: 0.9549 - prc: 0.2089 - val_loss: 0.0826 - val_cross entropy: 0.0826 - val_Brier score: 0.0161 - val_tp: 73.0000 - val_fp: 826.0000 - val_tn: 44659.0000 - val_fn: 11.0000 - val_accuracy: 0.9816 - val_precision: 0.0812 - val_recall: 0.8690 - val_auc: 0.9699 - val_prc: 0.5226\n",
      "Epoch 13: early stopping\n"
     ]
    }
   ],
   "source": [
    "weighted_model = make_model()\n",
    "weighted_model.load_weights(initial_weights)\n",
    "\n",
    "weighted_history = weighted_model.fit(\n",
    "    train_features,\n",
    "    train_labels,\n",
    "    batch_size=BATCH_SIZE,\n",
    "    epochs=EPOCHS,\n",
    "    callbacks=[early_stopping],\n",
    "    validation_data=(val_features, val_labels),\n",
    "    # The class weights go here\n",
    "    class_weight=class_weight) "
   ]
  },
  {
   "cell_type": "markdown",
   "metadata": {
    "id": "R0ynYRO0G3Lx"
   },
   "source": [
    "### Check training history"
   ]
  },
  {
   "cell_type": "code",
   "execution_count": 38,
   "metadata": {
    "execution": {
     "iopub.execute_input": "2023-07-27T04:53:23.320445Z",
     "iopub.status.busy": "2023-07-27T04:53:23.320190Z",
     "iopub.status.idle": "2023-07-27T04:53:23.910515Z",
     "shell.execute_reply": "2023-07-27T04:53:23.909717Z"
    },
    "id": "BBe9FMO5ucTC"
   },
   "outputs": [],
   "source": [
    "plot_metrics(weighted_history)"
   ]
  },
  {
   "cell_type": "markdown",
   "metadata": {
    "id": "REy6WClTZIwQ"
   },
   "source": [
    "### Evaluate metrics"
   ]
  },
  {
   "cell_type": "code",
   "execution_count": 39,
   "metadata": {
    "execution": {
     "iopub.execute_input": "2023-07-27T04:53:23.914596Z",
     "iopub.status.busy": "2023-07-27T04:53:23.914268Z",
     "iopub.status.idle": "2023-07-27T04:53:24.317498Z",
     "shell.execute_reply": "2023-07-27T04:53:24.316779Z"
    },
    "id": "nifqscPGw-5w"
   },
   "outputs": [],
   "source": [
    "train_predictions_weighted = weighted_model.predict(train_features, batch_size=BATCH_SIZE)\n",
    "test_predictions_weighted = weighted_model.predict(test_features, batch_size=BATCH_SIZE)"
   ]
  },
  {
   "cell_type": "code",
   "execution_count": 40,
   "metadata": {
    "execution": {
     "iopub.execute_input": "2023-07-27T04:53:24.320967Z",
     "iopub.status.busy": "2023-07-27T04:53:24.320725Z",
     "iopub.status.idle": "2023-07-27T04:53:24.657163Z",
     "shell.execute_reply": "2023-07-27T04:53:24.656495Z"
    },
    "id": "owKL2vdMBJr6"
   },
   "outputs": [
    {
     "name": "stdout",
     "output_type": "stream",
     "text": [
      "loss :  0.024533189833164215\n",
      "cross entropy :  0.024533189833164215\n",
      "Brier score :  0.00425014179199934\n",
      "tp :  77.0\n",
      "fp :  308.0\n",
      "tn :  56561.0\n",
      "fn :  16.0\n",
      "accuracy :  0.9943119883537292\n",
      "precision :  0.20000000298023224\n",
      "recall :  0.8279569745063782\n",
      "auc :  0.960097074508667\n",
      "prc :  0.7278278470039368\n",
      "\n",
      "Legitimate Transactions Detected (True Negatives):  56561\n",
      "Legitimate Transactions Incorrectly Detected (False Positives):  308\n",
      "Fraudulent Transactions Missed (False Negatives):  16\n",
      "Fraudulent Transactions Detected (True Positives):  77\n",
      "Total Fraudulent Transactions:  93\n"
     ]
    }
   ],
   "source": [
    "weighted_results = weighted_model.evaluate(test_features, test_labels,\n",
    "                                           batch_size=BATCH_SIZE, verbose=0)\n",
    "for name, value in zip(weighted_model.metrics_names, weighted_results):\n",
    "  print(name, ': ', value)\n",
    "print()\n",
    "\n",
    "plot_cm(test_labels, test_predictions_weighted)"
   ]
  },
  {
   "cell_type": "markdown",
   "metadata": {
    "id": "PTh1rtDn8r4-"
   },
   "source": [
    "Here you can see that with class weights the accuracy and precision are lower because there are more false positives, but conversely the recall and AUC are higher because the model also found more true positives. Despite having lower accuracy, this model has higher recall (and identifies more fraudulent transactions than the baseline model at threshold 50%). Of course, there is a cost to both types of error (you wouldn't want to bug users by flagging too many legitimate transactions as fraudulent, either). Carefully consider the trade-offs between these different types of errors for your application.\n",
    "\n",
    "Compared to the baseline model with changed threshold, the class weighted model is clearly inferior. The superiority of the baseline model is further confirmed by the lower test loss value (cross entropy and mean squared error) and additionally can be seen by plotting the ROC curves of both models together."
   ]
  },
  {
   "cell_type": "markdown",
   "metadata": {
    "id": "hXDAwyr0HYdX"
   },
   "source": [
    "### Plot the ROC"
   ]
  },
  {
   "cell_type": "code",
   "execution_count": 41,
   "metadata": {
    "execution": {
     "iopub.execute_input": "2023-07-27T04:53:24.660757Z",
     "iopub.status.busy": "2023-07-27T04:53:24.660183Z",
     "iopub.status.idle": "2023-07-27T04:53:24.981593Z",
     "shell.execute_reply": "2023-07-27T04:53:24.980925Z"
    },
    "id": "3hzScIVZS1Xm"
   },
   "outputs": [],
   "source": [
    "plot_roc(\"Train Baseline\", train_labels, train_predictions_baseline, color=colors[0])\n",
    "plot_roc(\"Test Baseline\", test_labels, test_predictions_baseline, color=colors[0], linestyle='--')\n",
    "\n",
    "plot_roc(\"Train Weighted\", train_labels, train_predictions_weighted, color=colors[1])\n",
    "plot_roc(\"Test Weighted\", test_labels, test_predictions_weighted, color=colors[1], linestyle='--')\n",
    "\n",
    "\n",
    "plt.legend(loc='lower right');"
   ]
  },
  {
   "cell_type": "markdown",
   "metadata": {
    "id": "_0krS8g1OTbD"
   },
   "source": [
    "### Plot the PRC"
   ]
  },
  {
   "cell_type": "code",
   "execution_count": 42,
   "metadata": {
    "execution": {
     "iopub.execute_input": "2023-07-27T04:53:24.985665Z",
     "iopub.status.busy": "2023-07-27T04:53:24.985139Z",
     "iopub.status.idle": "2023-07-27T04:53:25.550248Z",
     "shell.execute_reply": "2023-07-27T04:53:25.549571Z"
    },
    "id": "7jHnmVebOWOC"
   },
   "outputs": [],
   "source": [
    "plot_prc(\"Train Baseline\", train_labels, train_predictions_baseline, color=colors[0])\n",
    "plot_prc(\"Test Baseline\", test_labels, test_predictions_baseline, color=colors[0], linestyle='--')\n",
    "\n",
    "plot_prc(\"Train Weighted\", train_labels, train_predictions_weighted, color=colors[1])\n",
    "plot_prc(\"Test Weighted\", test_labels, test_predictions_weighted, color=colors[1], linestyle='--')\n",
    "\n",
    "\n",
    "plt.legend(loc='lower right');"
   ]
  },
  {
   "cell_type": "markdown",
   "metadata": {
    "id": "5ysRtr6xHnXP"
   },
   "source": [
    "## Oversampling"
   ]
  },
  {
   "cell_type": "markdown",
   "metadata": {
    "id": "18VUHNc-UF5w"
   },
   "source": [
    "### Oversample the minority class\n",
    "\n",
    "A related approach would be to resample the dataset by oversampling the minority class."
   ]
  },
  {
   "cell_type": "code",
   "execution_count": 43,
   "metadata": {
    "execution": {
     "iopub.execute_input": "2023-07-27T04:53:25.554219Z",
     "iopub.status.busy": "2023-07-27T04:53:25.553626Z",
     "iopub.status.idle": "2023-07-27T04:53:25.578056Z",
     "shell.execute_reply": "2023-07-27T04:53:25.577261Z"
    },
    "id": "sHirNp6u7OWp"
   },
   "outputs": [],
   "source": [
    "pos_features = train_features[bool_train_labels]\n",
    "neg_features = train_features[~bool_train_labels]\n",
    "\n",
    "pos_labels = train_labels[bool_train_labels]\n",
    "neg_labels = train_labels[~bool_train_labels]"
   ]
  },
  {
   "cell_type": "markdown",
   "metadata": {
    "id": "WgBVbX7P7QrL"
   },
   "source": [
    "#### Using NumPy\n",
    "\n",
    "You can balance the dataset manually by choosing the right number of random \n",
    "indices from the positive examples:"
   ]
  },
  {
   "cell_type": "code",
   "execution_count": 44,
   "metadata": {
    "execution": {
     "iopub.execute_input": "2023-07-27T04:53:25.582295Z",
     "iopub.status.busy": "2023-07-27T04:53:25.581684Z",
     "iopub.status.idle": "2023-07-27T04:53:25.606113Z",
     "shell.execute_reply": "2023-07-27T04:53:25.605470Z"
    },
    "id": "BUzGjSkwqT88"
   },
   "outputs": [
    {
     "data": {
      "text/plain": [
       "(181961, 29)"
      ]
     },
     "execution_count": 44,
     "metadata": {},
     "output_type": "execute_result"
    }
   ],
   "source": [
    "ids = np.arange(len(pos_features))\n",
    "choices = np.random.choice(ids, len(neg_features))\n",
    "\n",
    "res_pos_features = pos_features[choices]\n",
    "res_pos_labels = pos_labels[choices]\n",
    "\n",
    "res_pos_features.shape"
   ]
  },
  {
   "cell_type": "code",
   "execution_count": 45,
   "metadata": {
    "execution": {
     "iopub.execute_input": "2023-07-27T04:53:25.609779Z",
     "iopub.status.busy": "2023-07-27T04:53:25.609179Z",
     "iopub.status.idle": "2023-07-27T04:53:25.716726Z",
     "shell.execute_reply": "2023-07-27T04:53:25.716036Z"
    },
    "id": "7ie_FFet6cep"
   },
   "outputs": [
    {
     "data": {
      "text/plain": [
       "(363922, 29)"
      ]
     },
     "execution_count": 45,
     "metadata": {},
     "output_type": "execute_result"
    }
   ],
   "source": [
    "resampled_features = np.concatenate([res_pos_features, neg_features], axis=0)\n",
    "resampled_labels = np.concatenate([res_pos_labels, neg_labels], axis=0)\n",
    "\n",
    "order = np.arange(len(resampled_labels))\n",
    "np.random.shuffle(order)\n",
    "resampled_features = resampled_features[order]\n",
    "resampled_labels = resampled_labels[order]\n",
    "\n",
    "resampled_features.shape"
   ]
  },
  {
   "cell_type": "markdown",
   "metadata": {
    "id": "IYfJe2Kc-FAz"
   },
   "source": [
    "#### Using `tf.data`"
   ]
  },
  {
   "cell_type": "markdown",
   "metadata": {
    "id": "usyixaST8v5P"
   },
   "source": [
    "If you're using `tf.data` the easiest way to produce balanced examples is to start with a `positive` and a `negative` dataset, and merge them. See [the tf.data guide](../../guide/data.ipynb) for more examples."
   ]
  },
  {
   "cell_type": "code",
   "execution_count": 46,
   "metadata": {
    "execution": {
     "iopub.execute_input": "2023-07-27T04:53:25.720318Z",
     "iopub.status.busy": "2023-07-27T04:53:25.720074Z",
     "iopub.status.idle": "2023-07-27T04:53:25.835970Z",
     "shell.execute_reply": "2023-07-27T04:53:25.835284Z"
    },
    "id": "yF4OZ-rI6xb6"
   },
   "outputs": [],
   "source": [
    "BUFFER_SIZE = 100000\n",
    "\n",
    "def make_ds(features, labels):\n",
    "  ds = tf.data.Dataset.from_tensor_slices((features, labels))#.cache()\n",
    "  ds = ds.shuffle(BUFFER_SIZE).repeat()\n",
    "  return ds\n",
    "\n",
    "pos_ds = make_ds(pos_features, pos_labels)\n",
    "neg_ds = make_ds(neg_features, neg_labels)"
   ]
  },
  {
   "cell_type": "markdown",
   "metadata": {
    "id": "RNQUx-OA-oJc"
   },
   "source": [
    "Each dataset provides `(feature, label)` pairs:"
   ]
  },
  {
   "cell_type": "code",
   "execution_count": 47,
   "metadata": {
    "execution": {
     "iopub.execute_input": "2023-07-27T04:53:25.839360Z",
     "iopub.status.busy": "2023-07-27T04:53:25.839128Z",
     "iopub.status.idle": "2023-07-27T04:53:25.856693Z",
     "shell.execute_reply": "2023-07-27T04:53:25.856098Z"
    },
    "id": "llXc9rNH7Fbz"
   },
   "outputs": [
    {
     "name": "stdout",
     "output_type": "stream",
     "text": [
      "Features:\n",
      " [-1.99405978  4.33719764 -5.          5.         -1.51440391 -2.2502634\n",
      " -5.          2.50391432 -5.         -5.          5.         -5.\n",
      " -0.3575922  -5.         -1.40193053 -5.         -5.         -5.\n",
      " -0.61371372  1.80509454  2.43460496 -0.26114714 -0.81257921 -1.96398414\n",
      "  2.27959793  1.25808661  4.72449699  2.71149629 -1.45246641]\n",
      "\n",
      "Label:  1\n"
     ]
    }
   ],
   "source": [
    "for features, label in pos_ds.take(1):\n",
    "  print(\"Features:\\n\", features.numpy())\n",
    "  print()\n",
    "  print(\"Label: \", label.numpy())"
   ]
  },
  {
   "cell_type": "markdown",
   "metadata": {
    "id": "sLEfjZO0-vbN"
   },
   "source": [
    "Merge the two together using `tf.data.Dataset.sample_from_datasets`:"
   ]
  },
  {
   "cell_type": "code",
   "execution_count": 48,
   "metadata": {
    "execution": {
     "iopub.execute_input": "2023-07-27T04:53:25.860155Z",
     "iopub.status.busy": "2023-07-27T04:53:25.859533Z",
     "iopub.status.idle": "2023-07-27T04:53:25.881011Z",
     "shell.execute_reply": "2023-07-27T04:53:25.880423Z"
    },
    "id": "e7w9UQPT9wzE"
   },
   "outputs": [],
   "source": [
    "resampled_ds = tf.data.Dataset.sample_from_datasets([pos_ds, neg_ds], weights=[0.5, 0.5])\n",
    "resampled_ds = resampled_ds.batch(BATCH_SIZE).prefetch(2)"
   ]
  },
  {
   "cell_type": "code",
   "execution_count": 49,
   "metadata": {
    "execution": {
     "iopub.execute_input": "2023-07-27T04:53:25.883924Z",
     "iopub.status.busy": "2023-07-27T04:53:25.883696Z",
     "iopub.status.idle": "2023-07-27T04:53:26.147342Z",
     "shell.execute_reply": "2023-07-27T04:53:26.146428Z"
    },
    "id": "EWXARdTdAuQK"
   },
   "outputs": [
    {
     "name": "stdout",
     "output_type": "stream",
     "text": [
      "0.5\n"
     ]
    }
   ],
   "source": [
    "for features, label in resampled_ds.take(1):\n",
    "  print(label.numpy().mean())"
   ]
  },
  {
   "cell_type": "markdown",
   "metadata": {
    "id": "irgqf3YxAyN0"
   },
   "source": [
    "To use this dataset, you'll need the number of steps per epoch.\n",
    "\n",
    "The definition of \"epoch\" in this case is less clear. Say it's the number of batches required to see each negative example once:"
   ]
  },
  {
   "cell_type": "code",
   "execution_count": 50,
   "metadata": {
    "execution": {
     "iopub.execute_input": "2023-07-27T04:53:26.150810Z",
     "iopub.status.busy": "2023-07-27T04:53:26.150536Z",
     "iopub.status.idle": "2023-07-27T04:53:26.155065Z",
     "shell.execute_reply": "2023-07-27T04:53:26.154446Z"
    },
    "id": "xH-7K46AAxpq"
   },
   "outputs": [
    {
     "data": {
      "text/plain": [
       "278.0"
      ]
     },
     "execution_count": 50,
     "metadata": {},
     "output_type": "execute_result"
    }
   ],
   "source": [
    "resampled_steps_per_epoch = np.ceil(2.0*neg/BATCH_SIZE)\n",
    "resampled_steps_per_epoch"
   ]
  },
  {
   "cell_type": "markdown",
   "metadata": {
    "id": "XZ1BvEpcBVHP"
   },
   "source": [
    "### Train on the oversampled data\n",
    "\n",
    "Now try training the model with the resampled data set instead of using class weights to see how these methods compare.\n",
    "\n",
    "Note: Because the data was balanced by replicating the positive examples, the total dataset size is larger, and each epoch runs for more training steps. "
   ]
  },
  {
   "cell_type": "code",
   "execution_count": 51,
   "metadata": {
    "execution": {
     "iopub.execute_input": "2023-07-27T04:53:26.158153Z",
     "iopub.status.busy": "2023-07-27T04:53:26.157589Z",
     "iopub.status.idle": "2023-07-27T04:54:30.202190Z",
     "shell.execute_reply": "2023-07-27T04:54:30.201466Z"
    },
    "id": "soRQ89JYqd6b"
   },
   "outputs": [
    {
     "name": "stdout",
     "output_type": "stream",
     "text": [
      "Epoch 1/100\n",
      "278/278 [==============================] - 16s 44ms/step - loss: 0.3424 - cross entropy: 0.3135 - Brier score: 0.1019 - tp: 260935.0000 - fp: 72055.0000 - tn: 269635.0000 - fn: 23681.0000 - accuracy: 0.8471 - precision: 0.7836 - recall: 0.9168 - auc: 0.9537 - prc: 0.9564 - val_loss: 0.1840 - val_cross entropy: 0.1840 - val_Brier score: 0.0392 - val_tp: 74.0000 - val_fp: 1082.0000 - val_tn: 44403.0000 - val_fn: 10.0000 - val_accuracy: 0.9760 - val_precision: 0.0640 - val_recall: 0.8810 - val_auc: 0.9747 - val_prc: 0.6976\n",
      "Epoch 2/100\n",
      "278/278 [==============================] - 9s 31ms/step - loss: 0.1785 - cross entropy: 0.1785 - Brier score: 0.0527 - tp: 264821.0000 - fp: 17052.0000 - tn: 267204.0000 - fn: 20267.0000 - accuracy: 0.9345 - precision: 0.9395 - recall: 0.9289 - auc: 0.9809 - prc: 0.9845 - val_loss: 0.1025 - val_cross entropy: 0.1025 - val_Brier score: 0.0207 - val_tp: 74.0000 - val_fp: 841.0000 - val_tn: 44644.0000 - val_fn: 10.0000 - val_accuracy: 0.9813 - val_precision: 0.0809 - val_recall: 0.8810 - val_auc: 0.9787 - val_prc: 0.6686\n",
      "Epoch 3/100\n",
      "278/278 [==============================] - 10s 34ms/step - loss: 0.1422 - cross entropy: 0.1422 - Brier score: 0.0419 - tp: 266649.0000 - fp: 11555.0000 - tn: 273266.0000 - fn: 17874.0000 - accuracy: 0.9483 - precision: 0.9585 - recall: 0.9372 - auc: 0.9881 - prc: 0.9895 - val_loss: 0.0796 - val_cross entropy: 0.0796 - val_Brier score: 0.0169 - val_tp: 74.0000 - val_fp: 786.0000 - val_tn: 44699.0000 - val_fn: 10.0000 - val_accuracy: 0.9825 - val_precision: 0.0860 - val_recall: 0.8810 - val_auc: 0.9779 - val_prc: 0.6568\n",
      "Epoch 4/100\n",
      "278/278 [==============================] - 9s 32ms/step - loss: 0.1230 - cross entropy: 0.1230 - Brier score: 0.0365 - tp: 269498.0000 - fp: 9674.0000 - tn: 274534.0000 - fn: 15638.0000 - accuracy: 0.9555 - precision: 0.9653 - recall: 0.9452 - auc: 0.9915 - prc: 0.9922 - val_loss: 0.0688 - val_cross entropy: 0.0688 - val_Brier score: 0.0153 - val_tp: 74.0000 - val_fp: 765.0000 - val_tn: 44720.0000 - val_fn: 10.0000 - val_accuracy: 0.9830 - val_precision: 0.0882 - val_recall: 0.8810 - val_auc: 0.9740 - val_prc: 0.6522\n",
      "Epoch 5/100\n",
      "278/278 [==============================] - 8s 28ms/step - loss: 0.1118 - cross entropy: 0.1118 - Brier score: 0.0333 - tp: 269844.0000 - fp: 8727.0000 - tn: 276103.0000 - fn: 14670.0000 - accuracy: 0.9589 - precision: 0.9687 - recall: 0.9484 - auc: 0.9932 - prc: 0.9934 - val_loss: 0.0606 - val_cross entropy: 0.0606 - val_Brier score: 0.0137 - val_tp: 74.0000 - val_fp: 687.0000 - val_tn: 44798.0000 - val_fn: 10.0000 - val_accuracy: 0.9847 - val_precision: 0.0972 - val_recall: 0.8810 - val_auc: 0.9742 - val_prc: 0.6525\n",
      "Epoch 6/100\n",
      "278/278 [==============================] - 8s 28ms/step - loss: 0.1028 - cross entropy: 0.1028 - Brier score: 0.0309 - tp: 270182.0000 - fp: 8257.0000 - tn: 276498.0000 - fn: 14407.0000 - accuracy: 0.9602 - precision: 0.9703 - recall: 0.9494 - auc: 0.9944 - prc: 0.9944 - val_loss: 0.0552 - val_cross entropy: 0.0552 - val_Brier score: 0.0128 - val_tp: 74.0000 - val_fp: 666.0000 - val_tn: 44819.0000 - val_fn: 10.0000 - val_accuracy: 0.9852 - val_precision: 0.1000 - val_recall: 0.8810 - val_auc: 0.9751 - val_prc: 0.6617\n",
      "Epoch 7/100\n",
      "278/278 [==============================] - 8s 30ms/step - loss: 0.0952 - cross entropy: 0.0952 - Brier score: 0.0286 - tp: 271239.0000 - fp: 7747.0000 - tn: 276579.0000 - fn: 13779.0000 - accuracy: 0.9622 - precision: 0.9722 - recall: 0.9517 - auc: 0.9953 - prc: 0.9952 - val_loss: 0.0500 - val_cross entropy: 0.0500 - val_Brier score: 0.0118 - val_tp: 74.0000 - val_fp: 608.0000 - val_tn: 44877.0000 - val_fn: 10.0000 - val_accuracy: 0.9864 - val_precision: 0.1085 - val_recall: 0.8810 - val_auc: 0.9725 - val_prc: 0.6645\n",
      "Epoch 8/100\n",
      "278/278 [==============================] - 7s 25ms/step - loss: 0.0897 - cross entropy: 0.0897 - Brier score: 0.0269 - tp: 271229.0000 - fp: 7397.0000 - tn: 277512.0000 - fn: 13206.0000 - accuracy: 0.9638 - precision: 0.9735 - recall: 0.9536 - auc: 0.9958 - prc: 0.9956 - val_loss: 0.0447 - val_cross entropy: 0.0447 - val_Brier score: 0.0105 - val_tp: 74.0000 - val_fp: 537.0000 - val_tn: 44948.0000 - val_fn: 10.0000 - val_accuracy: 0.9880 - val_precision: 0.1211 - val_recall: 0.8810 - val_auc: 0.9739 - val_prc: 0.6657\n",
      "Epoch 9/100\n",
      "278/278 [==============================] - 8s 28ms/step - loss: 0.0854 - cross entropy: 0.0854 - Brier score: 0.0257 - tp: 271627.0000 - fp: 7024.0000 - tn: 278055.0000 - fn: 12638.0000 - accuracy: 0.9655 - precision: 0.9748 - recall: 0.9555 - auc: 0.9962 - prc: 0.9959 - val_loss: 0.0418 - val_cross entropy: 0.0418 - val_Brier score: 0.0099 - val_tp: 74.0000 - val_fp: 520.0000 - val_tn: 44965.0000 - val_fn: 10.0000 - val_accuracy: 0.9884 - val_precision: 0.1246 - val_recall: 0.8810 - val_auc: 0.9657 - val_prc: 0.6460\n",
      "Epoch 10/100\n",
      "278/278 [==============================] - 7s 26ms/step - loss: 0.0824 - cross entropy: 0.0824 - Brier score: 0.0248 - tp: 271885.0000 - fp: 6908.0000 - tn: 277917.0000 - fn: 12634.0000 - accuracy: 0.9657 - precision: 0.9752 - recall: 0.9556 - auc: 0.9964 - prc: 0.9962 - val_loss: 0.0388 - val_cross entropy: 0.0388 - val_Brier score: 0.0093 - val_tp: 74.0000 - val_fp: 490.0000 - val_tn: 44995.0000 - val_fn: 10.0000 - val_accuracy: 0.9890 - val_precision: 0.1312 - val_recall: 0.8810 - val_auc: 0.9666 - val_prc: 0.6438\n",
      "Epoch 11/100\n",
      "277/278 [============================>.] - ETA: 0s - loss: 0.0804 - cross entropy: 0.0804 - Brier score: 0.0242 - tp: 271918.0000 - fp: 6678.0000 - tn: 276478.0000 - fn: 12222.0000 - accuracy: 0.9667 - precision: 0.9760 - recall: 0.9570 - auc: 0.9965 - prc: 0.9962Restoring model weights from the end of the best epoch: 1.\n",
      "278/278 [==============================] - 8s 27ms/step - loss: 0.0803 - cross entropy: 0.0803 - Brier score: 0.0241 - tp: 272897.0000 - fp: 6694.0000 - tn: 277490.0000 - fn: 12263.0000 - accuracy: 0.9667 - precision: 0.9761 - recall: 0.9570 - auc: 0.9965 - prc: 0.9962 - val_loss: 0.0359 - val_cross entropy: 0.0359 - val_Brier score: 0.0086 - val_tp: 74.0000 - val_fp: 458.0000 - val_tn: 45027.0000 - val_fn: 10.0000 - val_accuracy: 0.9897 - val_precision: 0.1391 - val_recall: 0.8810 - val_auc: 0.9673 - val_prc: 0.6376\n",
      "Epoch 11: early stopping\n"
     ]
    }
   ],
   "source": [
    "resampled_model = make_model()\n",
    "resampled_model.load_weights(initial_weights)\n",
    "\n",
    "# Reset the bias to zero, since this dataset is balanced.\n",
    "output_layer = resampled_model.layers[-1] \n",
    "output_layer.bias.assign([0])\n",
    "\n",
    "val_ds = tf.data.Dataset.from_tensor_slices((val_features, val_labels)).cache()\n",
    "val_ds = val_ds.batch(BATCH_SIZE).prefetch(2) \n",
    "\n",
    "resampled_history = resampled_model.fit(\n",
    "    resampled_ds,\n",
    "    epochs=EPOCHS,\n",
    "    steps_per_epoch=resampled_steps_per_epoch,\n",
    "    callbacks=[early_stopping],\n",
    "    validation_data=val_ds)"
   ]
  },
  {
   "cell_type": "markdown",
   "metadata": {
    "id": "avALvzUp3T_c"
   },
   "source": [
    "If the training process were considering the whole dataset on each gradient update, this oversampling would be basically identical to the class weighting.\n",
    "\n",
    "But when training the model batch-wise, as you did here, the oversampled data provides a smoother gradient signal: Instead of each positive example being shown in one batch with a large weight, they're shown in many different batches each time with a small weight. \n",
    "\n",
    "This smoother gradient signal makes it easier to train the model."
   ]
  },
  {
   "cell_type": "markdown",
   "metadata": {
    "id": "klHZ0HV76VC5"
   },
   "source": [
    "### Check training history\n",
    "\n",
    "Note that the distributions of metrics will be different here, because the training data has a totally different distribution from the validation and test data. "
   ]
  },
  {
   "cell_type": "code",
   "execution_count": 52,
   "metadata": {
    "execution": {
     "iopub.execute_input": "2023-07-27T04:54:30.205864Z",
     "iopub.status.busy": "2023-07-27T04:54:30.205343Z",
     "iopub.status.idle": "2023-07-27T04:54:30.894926Z",
     "shell.execute_reply": "2023-07-27T04:54:30.894200Z"
    },
    "id": "YoUGfr1vuivl"
   },
   "outputs": [],
   "source": [
    "plot_metrics(resampled_history)"
   ]
  },
  {
   "cell_type": "markdown",
   "metadata": {
    "id": "1PuH3A2vnwrh"
   },
   "source": [
    "### Re-train\n"
   ]
  },
  {
   "cell_type": "markdown",
   "metadata": {
    "id": "KFLxRL8eoDE5"
   },
   "source": [
    "Because training is easier on the balanced data, the above training procedure may overfit quickly. \n",
    "\n",
    "So break up the epochs to give the `tf.keras.callbacks.EarlyStopping` finer control over when to stop training."
   ]
  },
  {
   "cell_type": "code",
   "execution_count": 53,
   "metadata": {
    "execution": {
     "iopub.execute_input": "2023-07-27T04:54:30.898877Z",
     "iopub.status.busy": "2023-07-27T04:54:30.898286Z",
     "iopub.status.idle": "2023-07-27T04:54:45.911522Z",
     "shell.execute_reply": "2023-07-27T04:54:45.910772Z"
    },
    "id": "e_yn9I26qAHU"
   },
   "outputs": [
    {
     "name": "stdout",
     "output_type": "stream",
     "text": [
      "Epoch 1/1000\n",
      "20/20 [==============================] - 3s 79ms/step - loss: 0.6372 - cross entropy: 0.3205 - Brier score: 0.1079 - tp: 18366.0000 - fp: 12651.0000 - tn: 53380.0000 - fn: 2132.0000 - accuracy: 0.8292 - precision: 0.5921 - recall: 0.8960 - auc: 0.9426 - prc: 0.8409 - val_loss: 0.8731 - val_cross entropy: 0.8731 - val_Brier score: 0.3233 - val_tp: 80.0000 - val_fp: 26837.0000 - val_tn: 18648.0000 - val_fn: 4.0000 - val_accuracy: 0.4110 - val_precision: 0.0030 - val_recall: 0.9524 - val_auc: 0.9176 - val_prc: 0.3171\n",
      "Epoch 2/1000\n",
      "20/20 [==============================] - 1s 29ms/step - loss: 0.5324 - cross entropy: 0.5324 - Brier score: 0.1830 - tp: 18943.0000 - fp: 10605.0000 - tn: 9762.0000 - fn: 1650.0000 - accuracy: 0.7008 - precision: 0.6411 - recall: 0.9199 - auc: 0.8920 - prc: 0.9143 - val_loss: 0.7352 - val_cross entropy: 0.7352 - val_Brier score: 0.2642 - val_tp: 78.0000 - val_fp: 20109.0000 - val_tn: 25376.0000 - val_fn: 6.0000 - val_accuracy: 0.5586 - val_precision: 0.0039 - val_recall: 0.9286 - val_auc: 0.9309 - val_prc: 0.5311\n",
      "Epoch 3/1000\n",
      "20/20 [==============================] - 1s 30ms/step - loss: 0.4670 - cross entropy: 0.4670 - Brier score: 0.1599 - tp: 18698.0000 - fp: 8977.0000 - tn: 11646.0000 - fn: 1639.0000 - accuracy: 0.7408 - precision: 0.6756 - recall: 0.9194 - auc: 0.9150 - prc: 0.9347 - val_loss: 0.6158 - val_cross entropy: 0.6158 - val_Brier score: 0.2110 - val_tp: 77.0000 - val_fp: 13824.0000 - val_tn: 31661.0000 - val_fn: 7.0000 - val_accuracy: 0.6965 - val_precision: 0.0055 - val_recall: 0.9167 - val_auc: 0.9399 - val_prc: 0.6017\n",
      "Epoch 4/1000\n",
      "20/20 [==============================] - 1s 28ms/step - loss: 0.4075 - cross entropy: 0.4075 - Brier score: 0.1372 - tp: 18875.0000 - fp: 7207.0000 - tn: 13182.0000 - fn: 1696.0000 - accuracy: 0.7826 - precision: 0.7237 - recall: 0.9176 - auc: 0.9298 - prc: 0.9476 - val_loss: 0.5221 - val_cross entropy: 0.5221 - val_Brier score: 0.1690 - val_tp: 78.0000 - val_fp: 9080.0000 - val_tn: 36405.0000 - val_fn: 6.0000 - val_accuracy: 0.8006 - val_precision: 0.0085 - val_recall: 0.9286 - val_auc: 0.9477 - val_prc: 0.6331\n",
      "Epoch 5/1000\n",
      "20/20 [==============================] - 1s 31ms/step - loss: 0.3661 - cross entropy: 0.3661 - Brier score: 0.1214 - tp: 18721.0000 - fp: 5944.0000 - tn: 14581.0000 - fn: 1714.0000 - accuracy: 0.8130 - precision: 0.7590 - recall: 0.9161 - auc: 0.9396 - prc: 0.9548 - val_loss: 0.4501 - val_cross entropy: 0.4501 - val_Brier score: 0.1372 - val_tp: 77.0000 - val_fp: 5968.0000 - val_tn: 39517.0000 - val_fn: 7.0000 - val_accuracy: 0.8689 - val_precision: 0.0127 - val_recall: 0.9167 - val_auc: 0.9546 - val_prc: 0.6486\n",
      "Epoch 6/1000\n",
      "20/20 [==============================] - 1s 33ms/step - loss: 0.3315 - cross entropy: 0.3315 - Brier score: 0.1075 - tp: 18911.0000 - fp: 4942.0000 - tn: 15473.0000 - fn: 1634.0000 - accuracy: 0.8395 - precision: 0.7928 - recall: 0.9205 - auc: 0.9491 - prc: 0.9616 - val_loss: 0.3906 - val_cross entropy: 0.3906 - val_Brier score: 0.1120 - val_tp: 75.0000 - val_fp: 4042.0000 - val_tn: 41443.0000 - val_fn: 9.0000 - val_accuracy: 0.9111 - val_precision: 0.0182 - val_recall: 0.8929 - val_auc: 0.9597 - val_prc: 0.6605\n",
      "Epoch 7/1000\n",
      "20/20 [==============================] - 1s 30ms/step - loss: 0.3095 - cross entropy: 0.3095 - Brier score: 0.0994 - tp: 18655.0000 - fp: 4230.0000 - tn: 16370.0000 - fn: 1705.0000 - accuracy: 0.8551 - precision: 0.8152 - recall: 0.9163 - auc: 0.9533 - prc: 0.9645 - val_loss: 0.3426 - val_cross entropy: 0.3426 - val_Brier score: 0.0926 - val_tp: 74.0000 - val_fp: 2975.0000 - val_tn: 42510.0000 - val_fn: 10.0000 - val_accuracy: 0.9345 - val_precision: 0.0243 - val_recall: 0.8810 - val_auc: 0.9638 - val_prc: 0.6617\n",
      "Epoch 8/1000\n",
      "20/20 [==============================] - 1s 32ms/step - loss: 0.2878 - cross entropy: 0.2878 - Brier score: 0.0912 - tp: 18706.0000 - fp: 3556.0000 - tn: 16963.0000 - fn: 1735.0000 - accuracy: 0.8708 - precision: 0.8403 - recall: 0.9151 - auc: 0.9568 - prc: 0.9677 - val_loss: 0.3049 - val_cross entropy: 0.3049 - val_Brier score: 0.0782 - val_tp: 73.0000 - val_fp: 2296.0000 - val_tn: 43189.0000 - val_fn: 11.0000 - val_accuracy: 0.9494 - val_precision: 0.0308 - val_recall: 0.8690 - val_auc: 0.9665 - val_prc: 0.6717\n",
      "Epoch 9/1000\n",
      "20/20 [==============================] - 1s 32ms/step - loss: 0.2688 - cross entropy: 0.2688 - Brier score: 0.0839 - tp: 18904.0000 - fp: 3006.0000 - tn: 17286.0000 - fn: 1764.0000 - accuracy: 0.8835 - precision: 0.8628 - recall: 0.9147 - auc: 0.9613 - prc: 0.9704 - val_loss: 0.2751 - val_cross entropy: 0.2751 - val_Brier score: 0.0676 - val_tp: 73.0000 - val_fp: 1807.0000 - val_tn: 43678.0000 - val_fn: 11.0000 - val_accuracy: 0.9601 - val_precision: 0.0388 - val_recall: 0.8690 - val_auc: 0.9688 - val_prc: 0.6769\n",
      "Epoch 10/1000\n",
      "20/20 [==============================] - 1s 32ms/step - loss: 0.2548 - cross entropy: 0.2548 - Brier score: 0.0786 - tp: 18738.0000 - fp: 2646.0000 - tn: 17886.0000 - fn: 1690.0000 - accuracy: 0.8941 - precision: 0.8763 - recall: 0.9173 - auc: 0.9649 - prc: 0.9725 - val_loss: 0.2506 - val_cross entropy: 0.2506 - val_Brier score: 0.0593 - val_tp: 74.0000 - val_fp: 1515.0000 - val_tn: 43970.0000 - val_fn: 10.0000 - val_accuracy: 0.9665 - val_precision: 0.0466 - val_recall: 0.8810 - val_auc: 0.9711 - val_prc: 0.6783\n",
      "Epoch 11/1000\n",
      "20/20 [==============================] - 1s 37ms/step - loss: 0.2403 - cross entropy: 0.2403 - Brier score: 0.0735 - tp: 18864.0000 - fp: 2332.0000 - tn: 18082.0000 - fn: 1682.0000 - accuracy: 0.9020 - precision: 0.8900 - recall: 0.9181 - auc: 0.9679 - prc: 0.9753 - val_loss: 0.2294 - val_cross entropy: 0.2294 - val_Brier score: 0.0524 - val_tp: 74.0000 - val_fp: 1337.0000 - val_tn: 44148.0000 - val_fn: 10.0000 - val_accuracy: 0.9704 - val_precision: 0.0524 - val_recall: 0.8810 - val_auc: 0.9721 - val_prc: 0.6838\n",
      "Epoch 12/1000\n",
      "20/20 [==============================] - 1s 49ms/step - loss: 0.2288 - cross entropy: 0.2288 - Brier score: 0.0690 - tp: 18885.0000 - fp: 2025.0000 - tn: 18425.0000 - fn: 1625.0000 - accuracy: 0.9109 - precision: 0.9032 - recall: 0.9208 - auc: 0.9704 - prc: 0.9770 - val_loss: 0.2120 - val_cross entropy: 0.2120 - val_Brier score: 0.0471 - val_tp: 74.0000 - val_fp: 1225.0000 - val_tn: 44260.0000 - val_fn: 10.0000 - val_accuracy: 0.9729 - val_precision: 0.0570 - val_recall: 0.8810 - val_auc: 0.9735 - val_prc: 0.6919\n",
      "Epoch 13/1000\n",
      "20/20 [==============================] - 1s 36ms/step - loss: 0.2196 - cross entropy: 0.2196 - Brier score: 0.0661 - tp: 18848.0000 - fp: 1869.0000 - tn: 18642.0000 - fn: 1601.0000 - accuracy: 0.9153 - precision: 0.9098 - recall: 0.9217 - auc: 0.9725 - prc: 0.9785 - val_loss: 0.1975 - val_cross entropy: 0.1975 - val_Brier score: 0.0430 - val_tp: 74.0000 - val_fp: 1156.0000 - val_tn: 44329.0000 - val_fn: 10.0000 - val_accuracy: 0.9744 - val_precision: 0.0602 - val_recall: 0.8810 - val_auc: 0.9743 - val_prc: 0.6959\n",
      "Epoch 14/1000\n",
      "20/20 [==============================] - 1s 36ms/step - loss: 0.2132 - cross entropy: 0.2132 - Brier score: 0.0639 - tp: 18866.0000 - fp: 1797.0000 - tn: 18754.0000 - fn: 1543.0000 - accuracy: 0.9185 - precision: 0.9130 - recall: 0.9244 - auc: 0.9742 - prc: 0.9795 - val_loss: 0.1844 - val_cross entropy: 0.1844 - val_Brier score: 0.0394 - val_tp: 74.0000 - val_fp: 1115.0000 - val_tn: 44370.0000 - val_fn: 10.0000 - val_accuracy: 0.9753 - val_precision: 0.0622 - val_recall: 0.8810 - val_auc: 0.9750 - val_prc: 0.6979\n",
      "Epoch 15/1000\n",
      "20/20 [==============================] - 1s 38ms/step - loss: 0.2083 - cross entropy: 0.2083 - Brier score: 0.0619 - tp: 18952.0000 - fp: 1644.0000 - tn: 18780.0000 - fn: 1584.0000 - accuracy: 0.9212 - precision: 0.9202 - recall: 0.9229 - auc: 0.9751 - prc: 0.9802 - val_loss: 0.1724 - val_cross entropy: 0.1724 - val_Brier score: 0.0362 - val_tp: 74.0000 - val_fp: 1044.0000 - val_tn: 44441.0000 - val_fn: 10.0000 - val_accuracy: 0.9769 - val_precision: 0.0662 - val_recall: 0.8810 - val_auc: 0.9755 - val_prc: 0.6979\n",
      "Epoch 16/1000\n"
     ]
    },
    {
     "name": "stdout",
     "output_type": "stream",
     "text": [
      "20/20 [==============================] - 1s 34ms/step - loss: 0.2021 - cross entropy: 0.2021 - Brier score: 0.0601 - tp: 18948.0000 - fp: 1546.0000 - tn: 18901.0000 - fn: 1565.0000 - accuracy: 0.9240 - precision: 0.9246 - recall: 0.9237 - auc: 0.9763 - prc: 0.9812 - val_loss: 0.1625 - val_cross entropy: 0.1625 - val_Brier score: 0.0337 - val_tp: 74.0000 - val_fp: 1003.0000 - val_tn: 44482.0000 - val_fn: 10.0000 - val_accuracy: 0.9778 - val_precision: 0.0687 - val_recall: 0.8810 - val_auc: 0.9759 - val_prc: 0.6981\n",
      "Epoch 17/1000\n",
      "20/20 [==============================] - 1s 39ms/step - loss: 0.1941 - cross entropy: 0.1941 - Brier score: 0.0576 - tp: 18968.0000 - fp: 1450.0000 - tn: 19042.0000 - fn: 1500.0000 - accuracy: 0.9280 - precision: 0.9290 - recall: 0.9267 - auc: 0.9778 - prc: 0.9825 - val_loss: 0.1544 - val_cross entropy: 0.1544 - val_Brier score: 0.0318 - val_tp: 74.0000 - val_fp: 979.0000 - val_tn: 44506.0000 - val_fn: 10.0000 - val_accuracy: 0.9783 - val_precision: 0.0703 - val_recall: 0.8810 - val_auc: 0.9766 - val_prc: 0.6975\n",
      "Epoch 18/1000\n",
      "20/20 [==============================] - 1s 32ms/step - loss: 0.1922 - cross entropy: 0.1922 - Brier score: 0.0567 - tp: 19080.0000 - fp: 1393.0000 - tn: 19064.0000 - fn: 1423.0000 - accuracy: 0.9312 - precision: 0.9320 - recall: 0.9306 - auc: 0.9784 - prc: 0.9827 - val_loss: 0.1461 - val_cross entropy: 0.1461 - val_Brier score: 0.0297 - val_tp: 74.0000 - val_fp: 932.0000 - val_tn: 44553.0000 - val_fn: 10.0000 - val_accuracy: 0.9793 - val_precision: 0.0736 - val_recall: 0.8810 - val_auc: 0.9766 - val_prc: 0.6993\n",
      "Epoch 19/1000\n",
      "20/20 [==============================] - 1s 39ms/step - loss: 0.1854 - cross entropy: 0.1854 - Brier score: 0.0549 - tp: 19092.0000 - fp: 1287.0000 - tn: 19097.0000 - fn: 1484.0000 - accuracy: 0.9323 - precision: 0.9368 - recall: 0.9279 - auc: 0.9794 - prc: 0.9835 - val_loss: 0.1388 - val_cross entropy: 0.1388 - val_Brier score: 0.0280 - val_tp: 74.0000 - val_fp: 903.0000 - val_tn: 44582.0000 - val_fn: 10.0000 - val_accuracy: 0.9800 - val_precision: 0.0757 - val_recall: 0.8810 - val_auc: 0.9767 - val_prc: 0.7014\n",
      "Epoch 20/1000\n",
      "20/20 [==============================] - 1s 43ms/step - loss: 0.1812 - cross entropy: 0.1812 - Brier score: 0.0532 - tp: 19024.0000 - fp: 1207.0000 - tn: 19244.0000 - fn: 1485.0000 - accuracy: 0.9343 - precision: 0.9403 - recall: 0.9276 - auc: 0.9803 - prc: 0.9841 - val_loss: 0.1334 - val_cross entropy: 0.1334 - val_Brier score: 0.0269 - val_tp: 74.0000 - val_fp: 891.0000 - val_tn: 44594.0000 - val_fn: 10.0000 - val_accuracy: 0.9802 - val_precision: 0.0767 - val_recall: 0.8810 - val_auc: 0.9774 - val_prc: 0.7066\n",
      "Epoch 21/1000\n",
      "20/20 [==============================] - 1s 33ms/step - loss: 0.1768 - cross entropy: 0.1768 - Brier score: 0.0519 - tp: 19106.0000 - fp: 1170.0000 - tn: 19256.0000 - fn: 1428.0000 - accuracy: 0.9366 - precision: 0.9423 - recall: 0.9305 - auc: 0.9813 - prc: 0.9850 - val_loss: 0.1277 - val_cross entropy: 0.1277 - val_Brier score: 0.0257 - val_tp: 74.0000 - val_fp: 873.0000 - val_tn: 44612.0000 - val_fn: 10.0000 - val_accuracy: 0.9806 - val_precision: 0.0781 - val_recall: 0.8810 - val_auc: 0.9777 - val_prc: 0.6981\n",
      "Epoch 22/1000\n",
      "20/20 [==============================] - 1s 29ms/step - loss: 0.1732 - cross entropy: 0.1732 - Brier score: 0.0510 - tp: 19072.0000 - fp: 1157.0000 - tn: 19303.0000 - fn: 1428.0000 - accuracy: 0.9369 - precision: 0.9428 - recall: 0.9303 - auc: 0.9822 - prc: 0.9854 - val_loss: 0.1222 - val_cross entropy: 0.1222 - val_Brier score: 0.0244 - val_tp: 74.0000 - val_fp: 849.0000 - val_tn: 44636.0000 - val_fn: 10.0000 - val_accuracy: 0.9811 - val_precision: 0.0802 - val_recall: 0.8810 - val_auc: 0.9782 - val_prc: 0.6985\n",
      "Epoch 23/1000\n",
      "20/20 [==============================] - 1s 37ms/step - loss: 0.1685 - cross entropy: 0.1685 - Brier score: 0.0495 - tp: 18941.0000 - fp: 1098.0000 - tn: 19494.0000 - fn: 1427.0000 - accuracy: 0.9384 - precision: 0.9452 - recall: 0.9299 - auc: 0.9830 - prc: 0.9859 - val_loss: 0.1173 - val_cross entropy: 0.1173 - val_Brier score: 0.0234 - val_tp: 74.0000 - val_fp: 828.0000 - val_tn: 44657.0000 - val_fn: 10.0000 - val_accuracy: 0.9816 - val_precision: 0.0820 - val_recall: 0.8810 - val_auc: 0.9784 - val_prc: 0.6842\n",
      "Epoch 24/1000\n",
      "20/20 [==============================] - 1s 34ms/step - loss: 0.1662 - cross entropy: 0.1662 - Brier score: 0.0489 - tp: 19060.0000 - fp: 1048.0000 - tn: 19433.0000 - fn: 1419.0000 - accuracy: 0.9398 - precision: 0.9479 - recall: 0.9307 - auc: 0.9830 - prc: 0.9861 - val_loss: 0.1140 - val_cross entropy: 0.1140 - val_Brier score: 0.0228 - val_tp: 74.0000 - val_fp: 838.0000 - val_tn: 44647.0000 - val_fn: 10.0000 - val_accuracy: 0.9814 - val_precision: 0.0811 - val_recall: 0.8810 - val_auc: 0.9781 - val_prc: 0.6841\n",
      "Epoch 25/1000\n",
      "20/20 [==============================] - 1s 41ms/step - loss: 0.1627 - cross entropy: 0.1627 - Brier score: 0.0477 - tp: 19071.0000 - fp: 998.0000 - tn: 19527.0000 - fn: 1364.0000 - accuracy: 0.9423 - precision: 0.9503 - recall: 0.9333 - auc: 0.9841 - prc: 0.9868 - val_loss: 0.1109 - val_cross entropy: 0.1109 - val_Brier score: 0.0223 - val_tp: 74.0000 - val_fp: 842.0000 - val_tn: 44643.0000 - val_fn: 10.0000 - val_accuracy: 0.9813 - val_precision: 0.0808 - val_recall: 0.8810 - val_auc: 0.9781 - val_prc: 0.6840\n",
      "Epoch 26/1000\n",
      "20/20 [==============================] - 1s 33ms/step - loss: 0.1644 - cross entropy: 0.1644 - Brier score: 0.0483 - tp: 19193.0000 - fp: 1054.0000 - tn: 19339.0000 - fn: 1374.0000 - accuracy: 0.9407 - precision: 0.9479 - recall: 0.9332 - auc: 0.9838 - prc: 0.9863 - val_loss: 0.1071 - val_cross entropy: 0.1071 - val_Brier score: 0.0215 - val_tp: 74.0000 - val_fp: 818.0000 - val_tn: 44667.0000 - val_fn: 10.0000 - val_accuracy: 0.9818 - val_precision: 0.0830 - val_recall: 0.8810 - val_auc: 0.9781 - val_prc: 0.6843\n",
      "Epoch 27/1000\n",
      "20/20 [==============================] - 1s 39ms/step - loss: 0.1594 - cross entropy: 0.1594 - Brier score: 0.0469 - tp: 19018.0000 - fp: 1009.0000 - tn: 19538.0000 - fn: 1395.0000 - accuracy: 0.9413 - precision: 0.9496 - recall: 0.9317 - auc: 0.9845 - prc: 0.9870 - val_loss: 0.1043 - val_cross entropy: 0.1043 - val_Brier score: 0.0210 - val_tp: 74.0000 - val_fp: 818.0000 - val_tn: 44667.0000 - val_fn: 10.0000 - val_accuracy: 0.9818 - val_precision: 0.0830 - val_recall: 0.8810 - val_auc: 0.9783 - val_prc: 0.6767\n",
      "Epoch 28/1000\n",
      "20/20 [==============================] - 1s 37ms/step - loss: 0.1586 - cross entropy: 0.1586 - Brier score: 0.0461 - tp: 18819.0000 - fp: 969.0000 - tn: 19826.0000 - fn: 1346.0000 - accuracy: 0.9435 - precision: 0.9510 - recall: 0.9333 - auc: 0.9847 - prc: 0.9868 - val_loss: 0.1016 - val_cross entropy: 0.1016 - val_Brier score: 0.0204 - val_tp: 74.0000 - val_fp: 808.0000 - val_tn: 44677.0000 - val_fn: 10.0000 - val_accuracy: 0.9820 - val_precision: 0.0839 - val_recall: 0.8810 - val_auc: 0.9782 - val_prc: 0.6711\n",
      "Epoch 29/1000\n",
      "20/20 [==============================] - 1s 39ms/step - loss: 0.1541 - cross entropy: 0.1541 - Brier score: 0.0453 - tp: 19092.0000 - fp: 963.0000 - tn: 19558.0000 - fn: 1347.0000 - accuracy: 0.9436 - precision: 0.9520 - recall: 0.9341 - auc: 0.9855 - prc: 0.9878 - val_loss: 0.0993 - val_cross entropy: 0.0993 - val_Brier score: 0.0201 - val_tp: 74.0000 - val_fp: 810.0000 - val_tn: 44675.0000 - val_fn: 10.0000 - val_accuracy: 0.9820 - val_precision: 0.0837 - val_recall: 0.8810 - val_auc: 0.9783 - val_prc: 0.6711\n",
      "Epoch 30/1000\n",
      "20/20 [==============================] - ETA: 0s - loss: 0.1525 - cross entropy: 0.1525 - Brier score: 0.0447 - tp: 19293.0000 - fp: 904.0000 - tn: 19407.0000 - fn: 1356.0000 - accuracy: 0.9448 - precision: 0.9552 - recall: 0.9343 - auc: 0.9860 - prc: 0.9882Restoring model weights from the end of the best epoch: 20.\n",
      "20/20 [==============================] - 1s 40ms/step - loss: 0.1525 - cross entropy: 0.1525 - Brier score: 0.0447 - tp: 19293.0000 - fp: 904.0000 - tn: 19407.0000 - fn: 1356.0000 - accuracy: 0.9448 - precision: 0.9552 - recall: 0.9343 - auc: 0.9860 - prc: 0.9882 - val_loss: 0.0969 - val_cross entropy: 0.0969 - val_Brier score: 0.0196 - val_tp: 74.0000 - val_fp: 794.0000 - val_tn: 44691.0000 - val_fn: 10.0000 - val_accuracy: 0.9824 - val_precision: 0.0853 - val_recall: 0.8810 - val_auc: 0.9778 - val_prc: 0.6711\n"
     ]
    },
    {
     "name": "stdout",
     "output_type": "stream",
     "text": [
      "Epoch 30: early stopping\n"
     ]
    }
   ],
   "source": [
    "resampled_model = make_model()\n",
    "resampled_model.load_weights(initial_weights)\n",
    "\n",
    "# Reset the bias to zero, since this dataset is balanced.\n",
    "output_layer = resampled_model.layers[-1] \n",
    "output_layer.bias.assign([0])\n",
    "\n",
    "resampled_history = resampled_model.fit(\n",
    "    resampled_ds,\n",
    "    # These are not real epochs\n",
    "    steps_per_epoch=20,\n",
    "    epochs=10*EPOCHS,\n",
    "    callbacks=[early_stopping],\n",
    "    validation_data=(val_ds))"
   ]
  },
  {
   "cell_type": "markdown",
   "metadata": {
    "id": "UuJYKv0gpBK1"
   },
   "source": [
    "### Re-check training history"
   ]
  },
  {
   "cell_type": "code",
   "execution_count": 54,
   "metadata": {
    "execution": {
     "iopub.execute_input": "2023-07-27T04:54:45.914945Z",
     "iopub.status.busy": "2023-07-27T04:54:45.914683Z",
     "iopub.status.idle": "2023-07-27T04:54:46.584295Z",
     "shell.execute_reply": "2023-07-27T04:54:46.583638Z"
    },
    "id": "FMycrpJwn39w"
   },
   "outputs": [
    {
     "name": "stderr",
     "output_type": "stream",
     "text": [
      "<ipython-input-26-d9248335d864>:5: MatplotlibDeprecationWarning: Adding an axes using the same arguments as a previous axes currently reuses the earlier instance.  In a future version, a new instance will always be created and returned.  Meanwhile, this warning can be suppressed, and the future behavior ensured, by passing a unique label to each axes instance.\n",
      "  plt.subplot(2,2,n+1)\n"
     ]
    }
   ],
   "source": [
    "plot_metrics(resampled_history)"
   ]
  },
  {
   "cell_type": "markdown",
   "metadata": {
    "id": "bUuE5HOWZiwP"
   },
   "source": [
    "### Evaluate metrics"
   ]
  },
  {
   "cell_type": "code",
   "execution_count": 55,
   "metadata": {
    "execution": {
     "iopub.execute_input": "2023-07-27T04:54:46.588307Z",
     "iopub.status.busy": "2023-07-27T04:54:46.588058Z",
     "iopub.status.idle": "2023-07-27T04:54:47.001633Z",
     "shell.execute_reply": "2023-07-27T04:54:47.000947Z"
    },
    "id": "C0fmHSgXxFdW"
   },
   "outputs": [],
   "source": [
    "train_predictions_resampled = resampled_model.predict(train_features, batch_size=BATCH_SIZE)\n",
    "test_predictions_resampled = resampled_model.predict(test_features, batch_size=BATCH_SIZE)"
   ]
  },
  {
   "cell_type": "code",
   "execution_count": 56,
   "metadata": {},
   "outputs": [
    {
     "data": {
      "text/plain": [
       "array([-0.48831167,  0.83123085,  2.01624007,  3.00791456, -0.36284077,\n",
       "        0.92090318, -0.34870547,  0.30784717, -0.40347598,  2.07170754,\n",
       "       -1.48380182, -1.95208259, -1.58024004, -0.43711005,  1.82689537,\n",
       "        0.63101008, -0.20507973,  1.32243071,  1.04306193,  0.74178836,\n",
       "        0.0523194 ,  0.78536279, -0.54478789, -0.27573335,  0.0303296 ,\n",
       "        1.15892965,  1.13220005,  0.24764558, -0.30547638])"
      ]
     },
     "execution_count": 56,
     "metadata": {},
     "output_type": "execute_result"
    }
   ],
   "source": [
    "train_features[0]"
   ]
  },
  {
   "cell_type": "code",
   "execution_count": 57,
   "metadata": {
    "execution": {
     "iopub.execute_input": "2023-07-27T04:54:47.005366Z",
     "iopub.status.busy": "2023-07-27T04:54:47.004711Z",
     "iopub.status.idle": "2023-07-27T04:54:47.776542Z",
     "shell.execute_reply": "2023-07-27T04:54:47.775926Z"
    },
    "id": "FO0mMOYUDWFk"
   },
   "outputs": [
    {
     "name": "stdout",
     "output_type": "stream",
     "text": [
      "loss :  0.13246771693229675\n",
      "cross entropy :  0.13246771693229675\n",
      "Brier score :  0.027267320081591606\n",
      "tp :  83.0\n",
      "fp :  1142.0\n",
      "tn :  55727.0\n",
      "fn :  10.0\n",
      "accuracy :  0.9797759652137756\n",
      "precision :  0.06775510311126709\n",
      "recall :  0.8924731016159058\n",
      "auc :  0.9867821931838989\n",
      "prc :  0.8026289939880371\n",
      "\n",
      "Legitimate Transactions Detected (True Negatives):  55727\n",
      "Legitimate Transactions Incorrectly Detected (False Positives):  1142\n",
      "Fraudulent Transactions Missed (False Negatives):  10\n",
      "Fraudulent Transactions Detected (True Positives):  83\n",
      "Total Fraudulent Transactions:  93\n"
     ]
    }
   ],
   "source": [
    "resampled_results = resampled_model.evaluate(test_features, test_labels,\n",
    "                                             batch_size=BATCH_SIZE, verbose=0)\n",
    "for name, value in zip(resampled_model.metrics_names, resampled_results):\n",
    "  print(name, ': ', value)\n",
    "print()\n",
    "plot_cm(test_labels, test_predictions_resampled)"
   ]
  },
  {
   "cell_type": "markdown",
   "metadata": {
    "id": "_xYozM1IIITq"
   },
   "source": [
    "### Plot the ROC"
   ]
  },
  {
   "cell_type": "code",
   "execution_count": 58,
   "metadata": {
    "execution": {
     "iopub.execute_input": "2023-07-27T04:54:47.779819Z",
     "iopub.status.busy": "2023-07-27T04:54:47.779578Z",
     "iopub.status.idle": "2023-07-27T04:54:48.160090Z",
     "shell.execute_reply": "2023-07-27T04:54:48.159442Z"
    },
    "id": "fye_CiuYrZ1U"
   },
   "outputs": [],
   "source": [
    "plot_roc(\"Train Baseline\", train_labels, train_predictions_baseline, color=colors[0])\n",
    "plot_roc(\"Test Baseline\", test_labels, test_predictions_baseline, color=colors[0], linestyle='--')\n",
    "plot_roc(\"Train Weighted\", train_labels, train_predictions_weighted, color=colors[1])\n",
    "plot_roc(\"Test Weighted\", test_labels, test_predictions_weighted, color=colors[1], linestyle='--')\n",
    "plot_roc(\"Train Resampled\", train_labels, train_predictions_resampled, color=colors[2])\n",
    "plot_roc(\"Test Resampled\", test_labels, test_predictions_resampled, color=colors[2], linestyle='--')\n",
    "plt.legend(loc='lower right');"
   ]
  },
  {
   "cell_type": "markdown",
   "metadata": {
    "id": "vayGnv0VOe_v"
   },
   "source": [
    "### Plot the AUPRC\n"
   ]
  },
  {
   "cell_type": "code",
   "execution_count": 59,
   "metadata": {
    "execution": {
     "iopub.execute_input": "2023-07-27T04:54:48.163919Z",
     "iopub.status.busy": "2023-07-27T04:54:48.163399Z",
     "iopub.status.idle": "2023-07-27T04:54:48.582548Z",
     "shell.execute_reply": "2023-07-27T04:54:48.581887Z"
    },
    "id": "wgWXQ8aeOhCZ"
   },
   "outputs": [],
   "source": [
    "plot_prc(\"Train Baseline\", train_labels, train_predictions_baseline, color=colors[0])\n",
    "plot_prc(\"Test Baseline\", test_labels, test_predictions_baseline, color=colors[0], linestyle='--')\n",
    "\n",
    "plot_prc(\"Train Weighted\", train_labels, train_predictions_weighted, color=colors[1])\n",
    "plot_prc(\"Test Weighted\", test_labels, test_predictions_weighted, color=colors[1], linestyle='--')\n",
    "\n",
    "plot_prc(\"Train Resampled\", train_labels, train_predictions_resampled, color=colors[2])\n",
    "plot_prc(\"Test Resampled\", test_labels, test_predictions_resampled, color=colors[2], linestyle='--')\n",
    "plt.legend(loc='lower right');"
   ]
  },
  {
   "cell_type": "code",
   "execution_count": 62,
   "metadata": {},
   "outputs": [
    {
     "name": "stdout",
     "output_type": "stream",
     "text": [
      "export_path = models\\1\n",
      "\n",
      "INFO:tensorflow:Assets written to: models\\1\\assets\n",
      "\n",
      "Saved model:\n"
     ]
    },
    {
     "name": "stderr",
     "output_type": "stream",
     "text": [
      "'ls' is not recognized as an internal or external command,\n",
      "operable program or batch file.\n"
     ]
    }
   ],
   "source": [
    "import tempfile\n",
    "\n",
    "MODEL_DIR = \"models\"\n",
    "version = 1\n",
    "export_path = os.path.join(MODEL_DIR, str(version))\n",
    "print('export_path = {}\\n'.format(export_path))\n",
    "\n",
    "tf.keras.models.save_model(\n",
    "    model,\n",
    "    export_path,\n",
    "    overwrite=True,\n",
    "    include_optimizer=True,\n",
    "    save_format=None,\n",
    "    signatures=None,\n",
    "    options=None\n",
    ")\n",
    "\n",
    "print('\\nSaved model:')\n",
    "!ls -l {export_path}"
   ]
  },
  {
   "cell_type": "markdown",
   "metadata": {
    "id": "3o3f0ywl8uqW"
   },
   "source": [
    "## Prediction"
   ]
  },
  {
   "cell_type": "code",
   "execution_count": null,
   "metadata": {},
   "outputs": [],
   "source": [
    "import json\n",
    "import requests\n",
    "\n",
    "data = json.dumps({\"signature_name\": \"serving_default\", \"instances\": test_features[0:5].tolist()})\n",
    "print('Data: {} ... {}'.format(data[:50], data[len(data)-52:]))\n",
    "\n",
    "\n",
    "headers = {\"content-type\": \"application/json\"}\n",
    "json_response = requests.post('http://localhost:8501/v1/models/fraud_classifier:predict', data=data, headers=headers)\n",
    "print(json_response)\n",
    "predictions = json.loads(json_response.text)['predictions']\n",
    "print(predictions)"
   ]
  },
  {
   "cell_type": "code",
   "execution_count": null,
   "metadata": {},
   "outputs": [],
   "source": []
  }
 ],
 "metadata": {
  "colab": {
   "collapsed_sections": [],
   "name": "imbalanced_data.ipynb",
   "toc_visible": true
  },
  "kernelspec": {
   "display_name": "Python 3",
   "language": "python",
   "name": "python3"
  },
  "language_info": {
   "codemirror_mode": {
    "name": "ipython",
    "version": 3
   },
   "file_extension": ".py",
   "mimetype": "text/x-python",
   "name": "python",
   "nbconvert_exporter": "python",
   "pygments_lexer": "ipython3",
   "version": "3.8.8"
  }
 },
 "nbformat": 4,
 "nbformat_minor": 1
}

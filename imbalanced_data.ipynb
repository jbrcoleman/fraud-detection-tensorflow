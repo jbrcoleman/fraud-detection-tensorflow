{
 "cells": [
  {
   "cell_type": "markdown",
   "metadata": {
    "id": "dUeKVCYTbcyT"
   },
   "source": [
    "#### Copyright 2019 The TensorFlow Authors."
   ]
  },
  {
   "cell_type": "code",
   "execution_count": 1,
   "metadata": {
    "cellView": "form",
    "execution": {
     "iopub.execute_input": "2023-07-27T04:52:26.245942Z",
     "iopub.status.busy": "2023-07-27T04:52:26.245718Z",
     "iopub.status.idle": "2023-07-27T04:52:26.249405Z",
     "shell.execute_reply": "2023-07-27T04:52:26.248783Z"
    },
    "id": "4ellrPx7tdxq"
   },
   "outputs": [],
   "source": [
    "#@title Licensed under the Apache License, Version 2.0 (the \"License\");\n",
    "# you may not use this file except in compliance with the License.\n",
    "# You may obtain a copy of the License at\n",
    "#\n",
    "# https://www.apache.org/licenses/LICENSE-2.0\n",
    "#\n",
    "# Unless required by applicable law or agreed to in writing, software\n",
    "# distributed under the License is distributed on an \"AS IS\" BASIS,\n",
    "# WITHOUT WARRANTIES OR CONDITIONS OF ANY KIND, either express or implied.\n",
    "# See the License for the specific language governing permissions and\n",
    "# limitations under the License."
   ]
  },
  {
   "cell_type": "markdown",
   "metadata": {
    "id": "7JfLUlawto_D"
   },
   "source": [
    "# Classification on imbalanced data"
   ]
  },
  {
   "cell_type": "markdown",
   "metadata": {
    "id": "DwdpaTKJOoPu"
   },
   "source": [
    "<table class=\"tfo-notebook-buttons\" align=\"left\">\n",
    "  <td>\n",
    "    <a target=\"_blank\" href=\"https://www.tensorflow.org/tutorials/structured_data/imbalanced_data\"><img src=\"https://www.tensorflow.org/images/tf_logo_32px.png\" />View on TensorFlow.org</a>\n",
    "  </td>\n",
    "  <td>\n",
    "    <a target=\"_blank\" href=\"https://colab.research.google.com/github/tensorflow/docs/blob/master/site/en/tutorials/structured_data/imbalanced_data.ipynb\"><img src=\"https://www.tensorflow.org/images/colab_logo_32px.png\" />Run in Google Colab</a>\n",
    "  </td>\n",
    "  <td>\n",
    "    <a target=\"_blank\" href=\"https://github.com/tensorflow/docs/blob/master/site/en/tutorials/structured_data/imbalanced_data.ipynb\"><img src=\"https://www.tensorflow.org/images/GitHub-Mark-32px.png\" />View source on GitHub</a>\n",
    "  </td>\n",
    "  <td>\n",
    "    <a href=\"https://storage.googleapis.com/tensorflow_docs/docs/site/en/tutorials/structured_data/imbalanced_data.ipynb\"><img src=\"https://www.tensorflow.org/images/download_logo_32px.png\" />Download notebook</a>\n",
    "  </td>\n",
    "</table>"
   ]
  },
  {
   "cell_type": "markdown",
   "metadata": {
    "id": "mthoSGBAOoX-"
   },
   "source": [
    "This tutorial demonstrates how to classify a highly imbalanced dataset in which the number of examples in one class greatly outnumbers the examples in another. You will work with the [Credit Card Fraud Detection](https://www.kaggle.com/mlg-ulb/creditcardfraud) dataset hosted on Kaggle. The aim is to detect a mere 492 fraudulent transactions from 284,807 transactions in total. You will use [Keras](https://www.tensorflow.org/guide/keras/overview) to define the model and [class weights](https://www.tensorflow.org/versions/r2.0/api_docs/python/tf/keras/Model) to help the model learn from the imbalanced data. .\n",
    "\n",
    "This tutorial contains complete code to:\n",
    "\n",
    "* Load a CSV file using Pandas.\n",
    "* Create train, validation, and test sets.\n",
    "* Define and train a model using Keras (including setting class weights).\n",
    "* Evaluate the model using various metrics (including precision and recall).\n",
    "* Select a threshold for a probabilistic classifier to get a deterministic classifier.\n",
    "* Try and compare with class weighted modelling and oversampling."
   ]
  },
  {
   "cell_type": "markdown",
   "metadata": {
    "id": "kRHmSyHxEIhN"
   },
   "source": [
    "## Setup"
   ]
  },
  {
   "cell_type": "code",
   "execution_count": 2,
   "metadata": {
    "execution": {
     "iopub.execute_input": "2023-07-27T04:52:26.252994Z",
     "iopub.status.busy": "2023-07-27T04:52:26.252751Z",
     "iopub.status.idle": "2023-07-27T04:52:29.109039Z",
     "shell.execute_reply": "2023-07-27T04:52:29.108330Z"
    },
    "id": "JM7hDSNClfoK"
   },
   "outputs": [],
   "source": [
    "import tensorflow as tf\n",
    "from tensorflow import keras\n",
    "\n",
    "import os\n",
    "import tempfile\n",
    "\n",
    "import matplotlib as mpl\n",
    "import matplotlib.pyplot as plt\n",
    "import numpy as np\n",
    "import pandas as pd\n",
    "import seaborn as sns\n",
    "\n",
    "import sklearn\n",
    "from sklearn.metrics import confusion_matrix\n",
    "from sklearn.model_selection import train_test_split\n",
    "from sklearn.preprocessing import StandardScaler"
   ]
  },
  {
   "cell_type": "code",
   "execution_count": 3,
   "metadata": {
    "execution": {
     "iopub.execute_input": "2023-07-27T04:52:29.114877Z",
     "iopub.status.busy": "2023-07-27T04:52:29.114443Z",
     "iopub.status.idle": "2023-07-27T04:52:29.118196Z",
     "shell.execute_reply": "2023-07-27T04:52:29.117608Z"
    },
    "id": "c8o1FHzD-_y_"
   },
   "outputs": [],
   "source": [
    "mpl.rcParams['figure.figsize'] = (12, 10)\n",
    "colors = plt.rcParams['axes.prop_cycle'].by_key()['color']"
   ]
  },
  {
   "cell_type": "markdown",
   "metadata": {
    "id": "Z3iZVjziKHmX"
   },
   "source": [
    "## Data processing and exploration"
   ]
  },
  {
   "cell_type": "markdown",
   "metadata": {
    "id": "4sA9WOcmzH2D"
   },
   "source": [
    "### Download the Kaggle Credit Card Fraud data set\n",
    "\n",
    "Pandas is a Python library with many helpful utilities for loading and working with structured data. It can be used to download CSVs into a Pandas [DataFrame](https://pandas.pydata.org/docs/reference/api/pandas.DataFrame.html#pandas.DataFrame).\n",
    "\n",
    "Note: This dataset has been collected and analysed during a research collaboration of Worldline and the [Machine Learning Group](http://mlg.ulb.ac.be) of ULB (Université Libre de Bruxelles) on big data mining and fraud detection. More details on current and past projects on related topics are available [here](https://www.researchgate.net/project/Fraud-detection-5) and the page of the [DefeatFraud](https://mlg.ulb.ac.be/wordpress/portfolio_page/defeatfraud-assessment-and-validation-of-deep-feature-engineering-and-learning-solutions-for-fraud-detection/) project"
   ]
  },
  {
   "cell_type": "code",
   "execution_count": 4,
   "metadata": {
    "execution": {
     "iopub.execute_input": "2023-07-27T04:52:29.121276Z",
     "iopub.status.busy": "2023-07-27T04:52:29.121042Z",
     "iopub.status.idle": "2023-07-27T04:52:32.041672Z",
     "shell.execute_reply": "2023-07-27T04:52:32.041080Z"
    },
    "id": "pR_SnbMArXr7"
   },
   "outputs": [
    {
     "data": {
      "text/html": [
       "<div>\n",
       "<style scoped>\n",
       "    .dataframe tbody tr th:only-of-type {\n",
       "        vertical-align: middle;\n",
       "    }\n",
       "\n",
       "    .dataframe tbody tr th {\n",
       "        vertical-align: top;\n",
       "    }\n",
       "\n",
       "    .dataframe thead th {\n",
       "        text-align: right;\n",
       "    }\n",
       "</style>\n",
       "<table border=\"1\" class=\"dataframe\">\n",
       "  <thead>\n",
       "    <tr style=\"text-align: right;\">\n",
       "      <th></th>\n",
       "      <th>Time</th>\n",
       "      <th>V1</th>\n",
       "      <th>V2</th>\n",
       "      <th>V3</th>\n",
       "      <th>V4</th>\n",
       "      <th>V5</th>\n",
       "      <th>V6</th>\n",
       "      <th>V7</th>\n",
       "      <th>V8</th>\n",
       "      <th>V9</th>\n",
       "      <th>...</th>\n",
       "      <th>V21</th>\n",
       "      <th>V22</th>\n",
       "      <th>V23</th>\n",
       "      <th>V24</th>\n",
       "      <th>V25</th>\n",
       "      <th>V26</th>\n",
       "      <th>V27</th>\n",
       "      <th>V28</th>\n",
       "      <th>Amount</th>\n",
       "      <th>Class</th>\n",
       "    </tr>\n",
       "  </thead>\n",
       "  <tbody>\n",
       "    <tr>\n",
       "      <th>0</th>\n",
       "      <td>0.0</td>\n",
       "      <td>-1.359807</td>\n",
       "      <td>-0.072781</td>\n",
       "      <td>2.536347</td>\n",
       "      <td>1.378155</td>\n",
       "      <td>-0.338321</td>\n",
       "      <td>0.462388</td>\n",
       "      <td>0.239599</td>\n",
       "      <td>0.098698</td>\n",
       "      <td>0.363787</td>\n",
       "      <td>...</td>\n",
       "      <td>-0.018307</td>\n",
       "      <td>0.277838</td>\n",
       "      <td>-0.110474</td>\n",
       "      <td>0.066928</td>\n",
       "      <td>0.128539</td>\n",
       "      <td>-0.189115</td>\n",
       "      <td>0.133558</td>\n",
       "      <td>-0.021053</td>\n",
       "      <td>149.62</td>\n",
       "      <td>0</td>\n",
       "    </tr>\n",
       "    <tr>\n",
       "      <th>1</th>\n",
       "      <td>0.0</td>\n",
       "      <td>1.191857</td>\n",
       "      <td>0.266151</td>\n",
       "      <td>0.166480</td>\n",
       "      <td>0.448154</td>\n",
       "      <td>0.060018</td>\n",
       "      <td>-0.082361</td>\n",
       "      <td>-0.078803</td>\n",
       "      <td>0.085102</td>\n",
       "      <td>-0.255425</td>\n",
       "      <td>...</td>\n",
       "      <td>-0.225775</td>\n",
       "      <td>-0.638672</td>\n",
       "      <td>0.101288</td>\n",
       "      <td>-0.339846</td>\n",
       "      <td>0.167170</td>\n",
       "      <td>0.125895</td>\n",
       "      <td>-0.008983</td>\n",
       "      <td>0.014724</td>\n",
       "      <td>2.69</td>\n",
       "      <td>0</td>\n",
       "    </tr>\n",
       "    <tr>\n",
       "      <th>2</th>\n",
       "      <td>1.0</td>\n",
       "      <td>-1.358354</td>\n",
       "      <td>-1.340163</td>\n",
       "      <td>1.773209</td>\n",
       "      <td>0.379780</td>\n",
       "      <td>-0.503198</td>\n",
       "      <td>1.800499</td>\n",
       "      <td>0.791461</td>\n",
       "      <td>0.247676</td>\n",
       "      <td>-1.514654</td>\n",
       "      <td>...</td>\n",
       "      <td>0.247998</td>\n",
       "      <td>0.771679</td>\n",
       "      <td>0.909412</td>\n",
       "      <td>-0.689281</td>\n",
       "      <td>-0.327642</td>\n",
       "      <td>-0.139097</td>\n",
       "      <td>-0.055353</td>\n",
       "      <td>-0.059752</td>\n",
       "      <td>378.66</td>\n",
       "      <td>0</td>\n",
       "    </tr>\n",
       "    <tr>\n",
       "      <th>3</th>\n",
       "      <td>1.0</td>\n",
       "      <td>-0.966272</td>\n",
       "      <td>-0.185226</td>\n",
       "      <td>1.792993</td>\n",
       "      <td>-0.863291</td>\n",
       "      <td>-0.010309</td>\n",
       "      <td>1.247203</td>\n",
       "      <td>0.237609</td>\n",
       "      <td>0.377436</td>\n",
       "      <td>-1.387024</td>\n",
       "      <td>...</td>\n",
       "      <td>-0.108300</td>\n",
       "      <td>0.005274</td>\n",
       "      <td>-0.190321</td>\n",
       "      <td>-1.175575</td>\n",
       "      <td>0.647376</td>\n",
       "      <td>-0.221929</td>\n",
       "      <td>0.062723</td>\n",
       "      <td>0.061458</td>\n",
       "      <td>123.50</td>\n",
       "      <td>0</td>\n",
       "    </tr>\n",
       "    <tr>\n",
       "      <th>4</th>\n",
       "      <td>2.0</td>\n",
       "      <td>-1.158233</td>\n",
       "      <td>0.877737</td>\n",
       "      <td>1.548718</td>\n",
       "      <td>0.403034</td>\n",
       "      <td>-0.407193</td>\n",
       "      <td>0.095921</td>\n",
       "      <td>0.592941</td>\n",
       "      <td>-0.270533</td>\n",
       "      <td>0.817739</td>\n",
       "      <td>...</td>\n",
       "      <td>-0.009431</td>\n",
       "      <td>0.798278</td>\n",
       "      <td>-0.137458</td>\n",
       "      <td>0.141267</td>\n",
       "      <td>-0.206010</td>\n",
       "      <td>0.502292</td>\n",
       "      <td>0.219422</td>\n",
       "      <td>0.215153</td>\n",
       "      <td>69.99</td>\n",
       "      <td>0</td>\n",
       "    </tr>\n",
       "  </tbody>\n",
       "</table>\n",
       "<p>5 rows × 31 columns</p>\n",
       "</div>"
      ],
      "text/plain": [
       "   Time        V1        V2        V3        V4        V5        V6        V7  \\\n",
       "0   0.0 -1.359807 -0.072781  2.536347  1.378155 -0.338321  0.462388  0.239599   \n",
       "1   0.0  1.191857  0.266151  0.166480  0.448154  0.060018 -0.082361 -0.078803   \n",
       "2   1.0 -1.358354 -1.340163  1.773209  0.379780 -0.503198  1.800499  0.791461   \n",
       "3   1.0 -0.966272 -0.185226  1.792993 -0.863291 -0.010309  1.247203  0.237609   \n",
       "4   2.0 -1.158233  0.877737  1.548718  0.403034 -0.407193  0.095921  0.592941   \n",
       "\n",
       "         V8        V9  ...       V21       V22       V23       V24       V25  \\\n",
       "0  0.098698  0.363787  ... -0.018307  0.277838 -0.110474  0.066928  0.128539   \n",
       "1  0.085102 -0.255425  ... -0.225775 -0.638672  0.101288 -0.339846  0.167170   \n",
       "2  0.247676 -1.514654  ...  0.247998  0.771679  0.909412 -0.689281 -0.327642   \n",
       "3  0.377436 -1.387024  ... -0.108300  0.005274 -0.190321 -1.175575  0.647376   \n",
       "4 -0.270533  0.817739  ... -0.009431  0.798278 -0.137458  0.141267 -0.206010   \n",
       "\n",
       "        V26       V27       V28  Amount  Class  \n",
       "0 -0.189115  0.133558 -0.021053  149.62      0  \n",
       "1  0.125895 -0.008983  0.014724    2.69      0  \n",
       "2 -0.139097 -0.055353 -0.059752  378.66      0  \n",
       "3 -0.221929  0.062723  0.061458  123.50      0  \n",
       "4  0.502292  0.219422  0.215153   69.99      0  \n",
       "\n",
       "[5 rows x 31 columns]"
      ]
     },
     "execution_count": 4,
     "metadata": {},
     "output_type": "execute_result"
    }
   ],
   "source": [
    "file = tf.keras.utils\n",
    "raw_df = pd.read_csv('https://storage.googleapis.com/download.tensorflow.org/data/creditcard.csv')\n",
    "raw_df.head()"
   ]
  },
  {
   "cell_type": "code",
   "execution_count": 5,
   "metadata": {
    "execution": {
     "iopub.execute_input": "2023-07-27T04:52:32.081175Z",
     "iopub.status.busy": "2023-07-27T04:52:32.080932Z",
     "iopub.status.idle": "2023-07-27T04:52:32.222164Z",
     "shell.execute_reply": "2023-07-27T04:52:32.221530Z"
    },
    "id": "-fgdQgmwUFuj"
   },
   "outputs": [
    {
     "data": {
      "text/html": [
       "<div>\n",
       "<style scoped>\n",
       "    .dataframe tbody tr th:only-of-type {\n",
       "        vertical-align: middle;\n",
       "    }\n",
       "\n",
       "    .dataframe tbody tr th {\n",
       "        vertical-align: top;\n",
       "    }\n",
       "\n",
       "    .dataframe thead th {\n",
       "        text-align: right;\n",
       "    }\n",
       "</style>\n",
       "<table border=\"1\" class=\"dataframe\">\n",
       "  <thead>\n",
       "    <tr style=\"text-align: right;\">\n",
       "      <th></th>\n",
       "      <th>Time</th>\n",
       "      <th>V1</th>\n",
       "      <th>V2</th>\n",
       "      <th>V3</th>\n",
       "      <th>V4</th>\n",
       "      <th>V5</th>\n",
       "      <th>V26</th>\n",
       "      <th>V27</th>\n",
       "      <th>V28</th>\n",
       "      <th>Amount</th>\n",
       "      <th>Class</th>\n",
       "    </tr>\n",
       "  </thead>\n",
       "  <tbody>\n",
       "    <tr>\n",
       "      <th>count</th>\n",
       "      <td>284807.000000</td>\n",
       "      <td>2.848070e+05</td>\n",
       "      <td>2.848070e+05</td>\n",
       "      <td>2.848070e+05</td>\n",
       "      <td>2.848070e+05</td>\n",
       "      <td>2.848070e+05</td>\n",
       "      <td>2.848070e+05</td>\n",
       "      <td>2.848070e+05</td>\n",
       "      <td>2.848070e+05</td>\n",
       "      <td>284807.000000</td>\n",
       "      <td>284807.000000</td>\n",
       "    </tr>\n",
       "    <tr>\n",
       "      <th>mean</th>\n",
       "      <td>94813.859575</td>\n",
       "      <td>3.918649e-15</td>\n",
       "      <td>5.682686e-16</td>\n",
       "      <td>-8.761736e-15</td>\n",
       "      <td>2.811118e-15</td>\n",
       "      <td>-1.552103e-15</td>\n",
       "      <td>1.701640e-15</td>\n",
       "      <td>-3.662252e-16</td>\n",
       "      <td>-1.217809e-16</td>\n",
       "      <td>88.349619</td>\n",
       "      <td>0.001727</td>\n",
       "    </tr>\n",
       "    <tr>\n",
       "      <th>std</th>\n",
       "      <td>47488.145955</td>\n",
       "      <td>1.958696e+00</td>\n",
       "      <td>1.651309e+00</td>\n",
       "      <td>1.516255e+00</td>\n",
       "      <td>1.415869e+00</td>\n",
       "      <td>1.380247e+00</td>\n",
       "      <td>4.822270e-01</td>\n",
       "      <td>4.036325e-01</td>\n",
       "      <td>3.300833e-01</td>\n",
       "      <td>250.120109</td>\n",
       "      <td>0.041527</td>\n",
       "    </tr>\n",
       "    <tr>\n",
       "      <th>min</th>\n",
       "      <td>0.000000</td>\n",
       "      <td>-5.640751e+01</td>\n",
       "      <td>-7.271573e+01</td>\n",
       "      <td>-4.832559e+01</td>\n",
       "      <td>-5.683171e+00</td>\n",
       "      <td>-1.137433e+02</td>\n",
       "      <td>-2.604551e+00</td>\n",
       "      <td>-2.256568e+01</td>\n",
       "      <td>-1.543008e+01</td>\n",
       "      <td>0.000000</td>\n",
       "      <td>0.000000</td>\n",
       "    </tr>\n",
       "    <tr>\n",
       "      <th>25%</th>\n",
       "      <td>54201.500000</td>\n",
       "      <td>-9.203734e-01</td>\n",
       "      <td>-5.985499e-01</td>\n",
       "      <td>-8.903648e-01</td>\n",
       "      <td>-8.486401e-01</td>\n",
       "      <td>-6.915971e-01</td>\n",
       "      <td>-3.269839e-01</td>\n",
       "      <td>-7.083953e-02</td>\n",
       "      <td>-5.295979e-02</td>\n",
       "      <td>5.600000</td>\n",
       "      <td>0.000000</td>\n",
       "    </tr>\n",
       "    <tr>\n",
       "      <th>50%</th>\n",
       "      <td>84692.000000</td>\n",
       "      <td>1.810880e-02</td>\n",
       "      <td>6.548556e-02</td>\n",
       "      <td>1.798463e-01</td>\n",
       "      <td>-1.984653e-02</td>\n",
       "      <td>-5.433583e-02</td>\n",
       "      <td>-5.213911e-02</td>\n",
       "      <td>1.342146e-03</td>\n",
       "      <td>1.124383e-02</td>\n",
       "      <td>22.000000</td>\n",
       "      <td>0.000000</td>\n",
       "    </tr>\n",
       "    <tr>\n",
       "      <th>75%</th>\n",
       "      <td>139320.500000</td>\n",
       "      <td>1.315642e+00</td>\n",
       "      <td>8.037239e-01</td>\n",
       "      <td>1.027196e+00</td>\n",
       "      <td>7.433413e-01</td>\n",
       "      <td>6.119264e-01</td>\n",
       "      <td>2.409522e-01</td>\n",
       "      <td>9.104512e-02</td>\n",
       "      <td>7.827995e-02</td>\n",
       "      <td>77.165000</td>\n",
       "      <td>0.000000</td>\n",
       "    </tr>\n",
       "    <tr>\n",
       "      <th>max</th>\n",
       "      <td>172792.000000</td>\n",
       "      <td>2.454930e+00</td>\n",
       "      <td>2.205773e+01</td>\n",
       "      <td>9.382558e+00</td>\n",
       "      <td>1.687534e+01</td>\n",
       "      <td>3.480167e+01</td>\n",
       "      <td>3.517346e+00</td>\n",
       "      <td>3.161220e+01</td>\n",
       "      <td>3.384781e+01</td>\n",
       "      <td>25691.160000</td>\n",
       "      <td>1.000000</td>\n",
       "    </tr>\n",
       "  </tbody>\n",
       "</table>\n",
       "</div>"
      ],
      "text/plain": [
       "                Time            V1            V2            V3            V4  \\\n",
       "count  284807.000000  2.848070e+05  2.848070e+05  2.848070e+05  2.848070e+05   \n",
       "mean    94813.859575  3.918649e-15  5.682686e-16 -8.761736e-15  2.811118e-15   \n",
       "std     47488.145955  1.958696e+00  1.651309e+00  1.516255e+00  1.415869e+00   \n",
       "min         0.000000 -5.640751e+01 -7.271573e+01 -4.832559e+01 -5.683171e+00   \n",
       "25%     54201.500000 -9.203734e-01 -5.985499e-01 -8.903648e-01 -8.486401e-01   \n",
       "50%     84692.000000  1.810880e-02  6.548556e-02  1.798463e-01 -1.984653e-02   \n",
       "75%    139320.500000  1.315642e+00  8.037239e-01  1.027196e+00  7.433413e-01   \n",
       "max    172792.000000  2.454930e+00  2.205773e+01  9.382558e+00  1.687534e+01   \n",
       "\n",
       "                 V5           V26           V27           V28         Amount  \\\n",
       "count  2.848070e+05  2.848070e+05  2.848070e+05  2.848070e+05  284807.000000   \n",
       "mean  -1.552103e-15  1.701640e-15 -3.662252e-16 -1.217809e-16      88.349619   \n",
       "std    1.380247e+00  4.822270e-01  4.036325e-01  3.300833e-01     250.120109   \n",
       "min   -1.137433e+02 -2.604551e+00 -2.256568e+01 -1.543008e+01       0.000000   \n",
       "25%   -6.915971e-01 -3.269839e-01 -7.083953e-02 -5.295979e-02       5.600000   \n",
       "50%   -5.433583e-02 -5.213911e-02  1.342146e-03  1.124383e-02      22.000000   \n",
       "75%    6.119264e-01  2.409522e-01  9.104512e-02  7.827995e-02      77.165000   \n",
       "max    3.480167e+01  3.517346e+00  3.161220e+01  3.384781e+01   25691.160000   \n",
       "\n",
       "               Class  \n",
       "count  284807.000000  \n",
       "mean        0.001727  \n",
       "std         0.041527  \n",
       "min         0.000000  \n",
       "25%         0.000000  \n",
       "50%         0.000000  \n",
       "75%         0.000000  \n",
       "max         1.000000  "
      ]
     },
     "execution_count": 5,
     "metadata": {},
     "output_type": "execute_result"
    }
   ],
   "source": [
    "raw_df[['Time', 'V1', 'V2', 'V3', 'V4', 'V5', 'V26', 'V27', 'V28', 'Amount', 'Class']].describe()"
   ]
  },
  {
   "cell_type": "markdown",
   "metadata": {
    "id": "xWKB_CVZFLpB"
   },
   "source": [
    "### Examine the class label imbalance\n",
    "\n",
    "Let's look at the dataset imbalance:"
   ]
  },
  {
   "cell_type": "code",
   "execution_count": 6,
   "metadata": {
    "execution": {
     "iopub.execute_input": "2023-07-27T04:52:32.226252Z",
     "iopub.status.busy": "2023-07-27T04:52:32.225609Z",
     "iopub.status.idle": "2023-07-27T04:52:32.230748Z",
     "shell.execute_reply": "2023-07-27T04:52:32.230141Z"
    },
    "id": "HCJFrtuY2iLF"
   },
   "outputs": [
    {
     "name": "stdout",
     "output_type": "stream",
     "text": [
      "Examples:\n",
      "    Total: 284807\n",
      "    Positive: 492 (0.17% of total)\n",
      "\n"
     ]
    }
   ],
   "source": [
    "neg, pos = np.bincount(raw_df['Class'])\n",
    "total = neg + pos\n",
    "print('Examples:\\n    Total: {}\\n    Positive: {} ({:.2f}% of total)\\n'.format(\n",
    "    total, pos, 100 * pos / total))"
   ]
  },
  {
   "cell_type": "markdown",
   "metadata": {
    "id": "KnLKFQDsCBUg"
   },
   "source": [
    "This shows the small fraction of positive samples."
   ]
  },
  {
   "cell_type": "markdown",
   "metadata": {
    "id": "6qox6ryyzwdr"
   },
   "source": [
    "### Clean, split and normalize the data\n",
    "\n",
    "The raw data has a few issues. First the `Time` and `Amount` columns are too variable to use directly. Drop the `Time` column (since it's not clear what it means) and take the log of the `Amount` column to reduce its range."
   ]
  },
  {
   "cell_type": "code",
   "execution_count": 7,
   "metadata": {
    "execution": {
     "iopub.execute_input": "2023-07-27T04:52:32.234078Z",
     "iopub.status.busy": "2023-07-27T04:52:32.233620Z",
     "iopub.status.idle": "2023-07-27T04:52:32.273223Z",
     "shell.execute_reply": "2023-07-27T04:52:32.272622Z"
    },
    "id": "Ef42jTuxEjnj"
   },
   "outputs": [],
   "source": [
    "cleaned_df = raw_df.copy()\n",
    "\n",
    "# You don't want the `Time` column.\n",
    "cleaned_df.pop('Time')\n",
    "\n",
    "# The `Amount` column covers a huge range. Convert to log-space.\n",
    "eps = 0.001 # 0 => 0.1¢\n",
    "cleaned_df['Log Amount'] = np.log(cleaned_df.pop('Amount')+eps)"
   ]
  },
  {
   "cell_type": "markdown",
   "metadata": {
    "id": "uSNgdQFFFQ6u"
   },
   "source": [
    "Split the dataset into train, validation, and test sets. The validation set is used during the model fitting to evaluate the loss and any metrics, however the model is not fit with this data. The test set is completely unused during the training phase and is only used at the end to evaluate how well the model generalizes to new data. This is especially important with imbalanced datasets where [overfitting](https://developers.google.com/machine-learning/crash-course/generalization/peril-of-overfitting) is a significant concern from the lack of training data."
   ]
  },
  {
   "cell_type": "code",
   "execution_count": 8,
   "metadata": {
    "execution": {
     "iopub.execute_input": "2023-07-27T04:52:32.276435Z",
     "iopub.status.busy": "2023-07-27T04:52:32.276215Z",
     "iopub.status.idle": "2023-07-27T04:52:32.486567Z",
     "shell.execute_reply": "2023-07-27T04:52:32.485774Z"
    },
    "id": "xfxhKg7Yr1-b"
   },
   "outputs": [],
   "source": [
    "# Use a utility from sklearn to split and shuffle your dataset.\n",
    "train_df, test_df = train_test_split(cleaned_df, test_size=0.2)\n",
    "train_df, val_df = train_test_split(train_df, test_size=0.2)\n",
    "\n",
    "# Form np arrays of labels and features.\n",
    "train_labels = np.array(train_df.pop('Class'))\n",
    "bool_train_labels = train_labels != 0\n",
    "val_labels = np.array(val_df.pop('Class'))\n",
    "test_labels = np.array(test_df.pop('Class'))\n",
    "\n",
    "train_features = np.array(train_df)\n",
    "val_features = np.array(val_df)\n",
    "test_features = np.array(test_df)"
   ]
  },
  {
   "cell_type": "markdown",
   "metadata": {
    "id": "8a_Z_kBmr7Oh"
   },
   "source": [
    "We check whether the distribution of the classes in the three sets is about the same or not."
   ]
  },
  {
   "cell_type": "code",
   "execution_count": 9,
   "metadata": {
    "execution": {
     "iopub.execute_input": "2023-07-27T04:52:32.490786Z",
     "iopub.status.busy": "2023-07-27T04:52:32.490286Z",
     "iopub.status.idle": "2023-07-27T04:52:32.494531Z",
     "shell.execute_reply": "2023-07-27T04:52:32.493905Z"
    },
    "id": "96520cffee66"
   },
   "outputs": [
    {
     "name": "stdout",
     "output_type": "stream",
     "text": [
      "Average class probability in training set:   0.0018\n",
      "Average class probability in validation set: 0.0014\n",
      "Average class probability in test set:       0.0017\n"
     ]
    }
   ],
   "source": [
    "print(f'Average class probability in training set:   {train_labels.mean():.4f}')\n",
    "print(f'Average class probability in validation set: {val_labels.mean():.4f}')\n",
    "print(f'Average class probability in test set:       {test_labels.mean():.4f}')"
   ]
  },
  {
   "cell_type": "markdown",
   "metadata": {
    "id": "8a_Z_kBmr7Oh"
   },
   "source": [
    "Given the small number of positive labels, this seems about right.\n",
    "\n",
    "Normalize the input features using the sklearn StandardScaler.\n",
    "This will set the mean to 0 and standard deviation to 1.\n",
    "\n",
    "Note: The `StandardScaler` is only fit using the `train_features` to be sure the model is not peeking at the validation or test sets. "
   ]
  },
  {
   "cell_type": "code",
   "execution_count": 10,
   "metadata": {
    "execution": {
     "iopub.execute_input": "2023-07-27T04:52:32.497916Z",
     "iopub.status.busy": "2023-07-27T04:52:32.497389Z",
     "iopub.status.idle": "2023-07-27T04:52:32.607809Z",
     "shell.execute_reply": "2023-07-27T04:52:32.607143Z"
    },
    "id": "IO-qEUmJ5JQg"
   },
   "outputs": [
    {
     "name": "stdout",
     "output_type": "stream",
     "text": [
      "Training labels shape: (182276,)\n",
      "Validation labels shape: (45569,)\n",
      "Test labels shape: (56962,)\n",
      "Training features shape: (182276, 29)\n",
      "Validation features shape: (45569, 29)\n",
      "Test features shape: (56962, 29)\n"
     ]
    }
   ],
   "source": [
    "scaler = StandardScaler()\n",
    "train_features = scaler.fit_transform(train_features)\n",
    "\n",
    "val_features = scaler.transform(val_features)\n",
    "test_features = scaler.transform(test_features)\n",
    "\n",
    "train_features = np.clip(train_features, -5, 5)\n",
    "val_features = np.clip(val_features, -5, 5)\n",
    "test_features = np.clip(test_features, -5, 5)\n",
    "\n",
    "\n",
    "print('Training labels shape:', train_labels.shape)\n",
    "print('Validation labels shape:', val_labels.shape)\n",
    "print('Test labels shape:', test_labels.shape)\n",
    "\n",
    "print('Training features shape:', train_features.shape)\n",
    "print('Validation features shape:', val_features.shape)\n",
    "print('Test features shape:', test_features.shape)\n"
   ]
  },
  {
   "cell_type": "markdown",
   "metadata": {
    "id": "XF2nNfWKJ33w"
   },
   "source": [
    "Caution: If you want to deploy a model, it's critical that you preserve the preprocessing calculations. The easiest way to implement them as layers, and attach them to your model before export.\n"
   ]
  },
  {
   "cell_type": "markdown",
   "metadata": {
    "id": "uQ7m9nqDC3W6"
   },
   "source": [
    "### Look at the data distribution\n",
    "\n",
    "Next compare the distributions of the positive and negative examples over a few features. Good questions to ask yourself at this point are:\n",
    "\n",
    "* Do these distributions make sense? \n",
    "    * Yes. You've normalized the input and these are mostly concentrated in the `+/- 2` range.\n",
    "* Can you see the difference between the distributions?\n",
    "    * Yes the positive examples contain a much higher rate of extreme values."
   ]
  },
  {
   "cell_type": "code",
   "execution_count": 11,
   "metadata": {
    "execution": {
     "iopub.execute_input": "2023-07-27T04:52:32.611492Z",
     "iopub.status.busy": "2023-07-27T04:52:32.611239Z",
     "iopub.status.idle": "2023-07-27T04:52:34.540220Z",
     "shell.execute_reply": "2023-07-27T04:52:34.539542Z"
    },
    "id": "raK7hyjd_vf6"
   },
   "outputs": [],
   "source": [
    "pos_df = pd.DataFrame(train_features[ bool_train_labels], columns=train_df.columns)\n",
    "neg_df = pd.DataFrame(train_features[~bool_train_labels], columns=train_df.columns)\n",
    "\n",
    "sns.jointplot(x=pos_df['V5'], y=pos_df['V6'],\n",
    "              kind='hex', xlim=(-5,5), ylim=(-5,5))\n",
    "plt.suptitle(\"Positive distribution\")\n",
    "\n",
    "sns.jointplot(x=neg_df['V5'], y=neg_df['V6'],\n",
    "              kind='hex', xlim=(-5,5), ylim=(-5,5))\n",
    "_ = plt.suptitle(\"Negative distribution\")"
   ]
  },
  {
   "cell_type": "markdown",
   "metadata": {
    "id": "qFK1u4JX16D8"
   },
   "source": [
    "## Define the model and metrics\n",
    "\n",
    "Define a function that creates a simple neural network with a densly connected hidden layer, a [dropout](https://developers.google.com/machine-learning/glossary/#dropout_regularization) layer to reduce overfitting, and an output sigmoid layer that returns the probability of a transaction being fraudulent: "
   ]
  },
  {
   "cell_type": "code",
   "execution_count": 12,
   "metadata": {
    "execution": {
     "iopub.execute_input": "2023-07-27T04:52:34.543878Z",
     "iopub.status.busy": "2023-07-27T04:52:34.543340Z",
     "iopub.status.idle": "2023-07-27T04:52:37.944324Z",
     "shell.execute_reply": "2023-07-27T04:52:37.943478Z"
    },
    "id": "3JQDzUqT3UYG"
   },
   "outputs": [],
   "source": [
    "METRICS = [\n",
    "      keras.metrics.BinaryCrossentropy(name='cross entropy'),  # same as model's loss\n",
    "      keras.metrics.MeanSquaredError(name='Brier score'),\n",
    "      keras.metrics.TruePositives(name='tp'),\n",
    "      keras.metrics.FalsePositives(name='fp'),\n",
    "      keras.metrics.TrueNegatives(name='tn'),\n",
    "      keras.metrics.FalseNegatives(name='fn'), \n",
    "      keras.metrics.BinaryAccuracy(name='accuracy'),\n",
    "      keras.metrics.Precision(name='precision'),\n",
    "      keras.metrics.Recall(name='recall'),\n",
    "      keras.metrics.AUC(name='auc'),\n",
    "      keras.metrics.AUC(name='prc', curve='PR'), # precision-recall curve\n",
    "]\n",
    "\n",
    "def make_model(metrics=METRICS, output_bias=None):\n",
    "  if output_bias is not None:\n",
    "    output_bias = tf.keras.initializers.Constant(output_bias)\n",
    "  model = keras.Sequential([\n",
    "      keras.layers.Dense(\n",
    "          16, activation='relu',\n",
    "          input_shape=(train_features.shape[-1],)),\n",
    "      keras.layers.Dropout(0.5),\n",
    "      keras.layers.Dense(1, activation='sigmoid',\n",
    "                         bias_initializer=output_bias),\n",
    "  ])\n",
    "\n",
    "  model.compile(\n",
    "      optimizer=keras.optimizers.Adam(learning_rate=1e-3),\n",
    "      loss=keras.losses.BinaryCrossentropy(),\n",
    "      metrics=metrics)\n",
    "\n",
    "  return model"
   ]
  },
  {
   "cell_type": "markdown",
   "metadata": {
    "id": "SU0GX6E6mieP"
   },
   "source": [
    "### Understanding useful metrics\n",
    "\n",
    "Notice that there are a few metrics defined above that can be computed by the model that will be helpful when evaluating the performance.\n",
    "These can be divided into three groups.\n",
    "\n",
    "#### Metrics for probability predictions\n",
    "\n",
    "As we train our network with the cross entropy as a loss function, it is fully capable of predicting class probabilities, i.e. it is a probabilistic classifier.\n",
    "Good metrics to assess probabilistic predictions are, in fact, **proper scoring rules**. Their key property is that predicting the true probability is optimal. We give two well-known examples:\n",
    "\n",
    "*   **cross entropy** also known as log loss\n",
    "*   **Mean squared error** also known as the Brier score\n",
    "\n",
    "#### Metrics for deterministic 0/1 predictions\n",
    "\n",
    "In the end, one often wants to predict a class label, 0 or 1, *no fraud* or *fraud*.\n",
    "This is called a deterministic classifier.\n",
    "To get a label prediction from our probabilistic classifier, one needs to choose a probability threshold $t$.\n",
    "The default is to predict label 1 (fraud) if the predicted probability is larger than $t=50\\%$ and all the following metrics implicitly use this default. \n",
    "\n",
    "*   **False** negatives and **false** positives are samples that were **incorrectly** classified\n",
    "*   **True** negatives and **true** positives are samples that were **correctly** classified\n",
    "*   **Accuracy** is the percentage of examples correctly classified\n",
    ">   $\\frac{\\text{true samples}}{\\text{total samples}}$\n",
    "*   **Precision** is the percentage of **predicted** positives that were correctly classified\n",
    ">   $\\frac{\\text{true positives}}{\\text{true positives + false positives}}$\n",
    "*   **Recall** is the percentage of **actual** positives that were correctly classified\n",
    ">   $\\frac{\\text{true positives}}{\\text{true positives + false negatives}}$\n",
    "\n",
    "**Note:** Accuracy is not a helpful metric for this task. You can have 99.8%+ accuracy on this task by predicting False all the time.  \n",
    "\n",
    "#### Other metrices\n",
    "\n",
    "The following metrics take into account all possible choices of thresholds $t$.\n",
    "\n",
    "*   **AUC** refers to the Area Under the Curve of a Receiver Operating Characteristic curve (ROC-AUC). This metric is equal to the probability that a classifier will rank a random positive sample higher than a random negative sample.\n",
    "*   **AUPRC** refers to Area Under the Curve of the Precision-Recall Curve. This metric computes precision-recall pairs for different probability thresholds. \n",
    "\n",
    "\n",
    "#### Read more:\n",
    "*   [Strictly Proper Scoring Rules, Prediction, and Estimation](https://www.stat.washington.edu/people/raftery/Research/PDF/Gneiting2007jasa.pdf)\n",
    "*   [True vs. False and Positive vs. Negative](https://developers.google.com/machine-learning/crash-course/classification/true-false-positive-negative)\n",
    "*   [Accuracy](https://developers.google.com/machine-learning/crash-course/classification/accuracy)\n",
    "*   [Precision and Recall](https://developers.google.com/machine-learning/crash-course/classification/precision-and-recall)\n",
    "*   [ROC-AUC](https://developers.google.com/machine-learning/crash-course/classification/roc-and-auc)\n",
    "*   [Relationship between Precision-Recall and ROC Curves](https://www.biostat.wisc.edu/~page/rocpr.pdf)"
   ]
  },
  {
   "cell_type": "markdown",
   "metadata": {
    "id": "FYdhSAoaF_TK"
   },
   "source": [
    "## Baseline model"
   ]
  },
  {
   "cell_type": "markdown",
   "metadata": {
    "id": "IDbltVPg2m2q"
   },
   "source": [
    "### Build the model\n",
    "\n",
    "Now create and train your model using the function that was defined earlier. Notice that the model is fit using a larger than default batch size of 2048, this is important to ensure that each batch has a decent chance of containing a few positive samples. If the batch size was too small, they would likely have no fraudulent transactions to learn from.\n",
    "\n",
    "\n",
    "Note: Fitting this model will not handle the class imbalance efficiently. You will improve it later in this tutorial."
   ]
  },
  {
   "cell_type": "code",
   "execution_count": 13,
   "metadata": {
    "execution": {
     "iopub.execute_input": "2023-07-27T04:52:37.948787Z",
     "iopub.status.busy": "2023-07-27T04:52:37.948535Z",
     "iopub.status.idle": "2023-07-27T04:52:37.952122Z",
     "shell.execute_reply": "2023-07-27T04:52:37.951548Z"
    },
    "id": "ouUkwPcGQsy3"
   },
   "outputs": [],
   "source": [
    "EPOCHS = 100\n",
    "BATCH_SIZE = 2048\n",
    "\n",
    "early_stopping = tf.keras.callbacks.EarlyStopping(\n",
    "    monitor='val_prc', \n",
    "    verbose=1,\n",
    "    patience=10,\n",
    "    mode='max',\n",
    "    restore_best_weights=True)"
   ]
  },
  {
   "cell_type": "code",
   "execution_count": 14,
   "metadata": {
    "execution": {
     "iopub.execute_input": "2023-07-27T04:52:37.955378Z",
     "iopub.status.busy": "2023-07-27T04:52:37.954834Z",
     "iopub.status.idle": "2023-07-27T04:52:38.017309Z",
     "shell.execute_reply": "2023-07-27T04:52:38.016738Z"
    },
    "id": "1xlR_dekzw7C"
   },
   "outputs": [
    {
     "name": "stdout",
     "output_type": "stream",
     "text": [
      "Model: \"sequential\"\n",
      "_________________________________________________________________\n",
      " Layer (type)                Output Shape              Param #   \n",
      "=================================================================\n",
      " dense (Dense)               (None, 16)                480       \n",
      "                                                                 \n",
      " dropout (Dropout)           (None, 16)                0         \n",
      "                                                                 \n",
      " dense_1 (Dense)             (None, 1)                 17        \n",
      "                                                                 \n",
      "=================================================================\n",
      "Total params: 497\n",
      "Trainable params: 497\n",
      "Non-trainable params: 0\n",
      "_________________________________________________________________\n"
     ]
    }
   ],
   "source": [
    "model = make_model()\n",
    "model.summary()"
   ]
  },
  {
   "cell_type": "markdown",
   "metadata": {
    "id": "Wx7ND3_SqckO"
   },
   "source": [
    "Test run the model:"
   ]
  },
  {
   "cell_type": "code",
   "execution_count": 15,
   "metadata": {
    "execution": {
     "iopub.execute_input": "2023-07-27T04:52:38.023988Z",
     "iopub.status.busy": "2023-07-27T04:52:38.023487Z",
     "iopub.status.idle": "2023-07-27T04:52:38.483768Z",
     "shell.execute_reply": "2023-07-27T04:52:38.483115Z"
    },
    "id": "LopSd-yQqO3a"
   },
   "outputs": [
    {
     "data": {
      "text/plain": [
       "array([[0.7681104 ],\n",
       "       [0.90654016],\n",
       "       [0.6341982 ],\n",
       "       [0.1439878 ],\n",
       "       [0.3255878 ],\n",
       "       [0.86907613],\n",
       "       [0.55202377],\n",
       "       [0.9646705 ],\n",
       "       [0.7009744 ],\n",
       "       [0.66902274]], dtype=float32)"
      ]
     },
     "execution_count": 15,
     "metadata": {},
     "output_type": "execute_result"
    }
   ],
   "source": [
    "model.predict(train_features[:10])"
   ]
  },
  {
   "cell_type": "markdown",
   "metadata": {
    "id": "YKIgWqHms_03"
   },
   "source": [
    "### Optional: Set the correct initial bias."
   ]
  },
  {
   "cell_type": "markdown",
   "metadata": {
    "id": "qk_3Ry6EoYDq"
   },
   "source": [
    "These initial guesses are not great. You know the dataset is imbalanced. Set the output layer's bias to reflect that, see [A Recipe for Training Neural Networks: \"init well\"](http://karpathy.github.io/2019/04/25/recipe/#2-set-up-the-end-to-end-trainingevaluation-skeleton--get-dumb-baselines). This can help with initial convergence."
   ]
  },
  {
   "cell_type": "markdown",
   "metadata": {
    "id": "PdbfWDuVpo6k"
   },
   "source": [
    "With the default bias initialization the loss should be about `math.log(2) = 0.69314` "
   ]
  },
  {
   "cell_type": "code",
   "execution_count": 16,
   "metadata": {
    "execution": {
     "iopub.execute_input": "2023-07-27T04:52:38.487533Z",
     "iopub.status.busy": "2023-07-27T04:52:38.487006Z",
     "iopub.status.idle": "2023-07-27T04:52:39.317152Z",
     "shell.execute_reply": "2023-07-27T04:52:39.316443Z"
    },
    "id": "H-oPqh3SoGXk"
   },
   "outputs": [
    {
     "name": "stdout",
     "output_type": "stream",
     "text": [
      "Loss: 1.3599\n"
     ]
    }
   ],
   "source": [
    "results = model.evaluate(train_features, train_labels, batch_size=BATCH_SIZE, verbose=0)\n",
    "print(\"Loss: {:0.4f}\".format(results[0]))"
   ]
  },
  {
   "cell_type": "markdown",
   "metadata": {
    "id": "hE-JRzfKqfhB"
   },
   "source": [
    "The correct bias to set can be derived from:\n",
    "\n",
    "$$ p_0 = pos/(pos + neg) = 1/(1+e^{-b_0}) $$\n",
    "$$ b_0 = -log_e(1/p_0 - 1) $$\n",
    "$$ b_0 = log_e(pos/neg)$$"
   ]
  },
  {
   "cell_type": "code",
   "execution_count": 17,
   "metadata": {
    "execution": {
     "iopub.execute_input": "2023-07-27T04:52:39.320881Z",
     "iopub.status.busy": "2023-07-27T04:52:39.320606Z",
     "iopub.status.idle": "2023-07-27T04:52:39.325507Z",
     "shell.execute_reply": "2023-07-27T04:52:39.324859Z"
    },
    "id": "F5KWPSjjstUS"
   },
   "outputs": [
    {
     "data": {
      "text/plain": [
       "array([-6.35935934])"
      ]
     },
     "execution_count": 17,
     "metadata": {},
     "output_type": "execute_result"
    }
   ],
   "source": [
    "initial_bias = np.log([pos/neg])\n",
    "initial_bias"
   ]
  },
  {
   "cell_type": "markdown",
   "metadata": {
    "id": "d1juXI9yY1KD"
   },
   "source": [
    "Set that as the initial bias, and the model will give much more reasonable initial guesses. \n",
    "\n",
    "It should be near: `pos/total = 0.0018`"
   ]
  },
  {
   "cell_type": "code",
   "execution_count": 18,
   "metadata": {
    "execution": {
     "iopub.execute_input": "2023-07-27T04:52:39.329002Z",
     "iopub.status.busy": "2023-07-27T04:52:39.328468Z",
     "iopub.status.idle": "2023-07-27T04:52:39.437069Z",
     "shell.execute_reply": "2023-07-27T04:52:39.436492Z"
    },
    "id": "50oyu1uss0i-"
   },
   "outputs": [
    {
     "data": {
      "text/plain": [
       "array([[0.00166613],\n",
       "       [0.00043574],\n",
       "       [0.00146988],\n",
       "       [0.00160271],\n",
       "       [0.00081715],\n",
       "       [0.00049797],\n",
       "       [0.00059584],\n",
       "       [0.00119504],\n",
       "       [0.00135604],\n",
       "       [0.00100744]], dtype=float32)"
      ]
     },
     "execution_count": 18,
     "metadata": {},
     "output_type": "execute_result"
    }
   ],
   "source": [
    "model = make_model(output_bias=initial_bias)\n",
    "model.predict(train_features[:10])"
   ]
  },
  {
   "cell_type": "markdown",
   "metadata": {
    "id": "4xqFYb2KqRHQ"
   },
   "source": [
    "With this initialization the initial loss should be approximately:\n",
    "\n",
    "$$-p_0log(p_0)-(1-p_0)log(1-p_0) = 0.01317$$"
   ]
  },
  {
   "cell_type": "code",
   "execution_count": 19,
   "metadata": {
    "execution": {
     "iopub.execute_input": "2023-07-27T04:52:39.440378Z",
     "iopub.status.busy": "2023-07-27T04:52:39.439899Z",
     "iopub.status.idle": "2023-07-27T04:52:40.207232Z",
     "shell.execute_reply": "2023-07-27T04:52:40.206435Z"
    },
    "id": "xVDqCWXDqHSc"
   },
   "outputs": [
    {
     "name": "stdout",
     "output_type": "stream",
     "text": [
      "Loss: 0.0150\n"
     ]
    }
   ],
   "source": [
    "results = model.evaluate(train_features, train_labels, batch_size=BATCH_SIZE, verbose=0)\n",
    "print(\"Loss: {:0.4f}\".format(results[0]))"
   ]
  },
  {
   "cell_type": "markdown",
   "metadata": {
    "id": "FrDC8hvNr9yw"
   },
   "source": [
    "This initial loss is about 50 times less than it would have been with naive initialization.\n",
    "\n",
    "This way the model doesn't need to spend the first few epochs just learning that positive examples are unlikely. It also makes it easier to read plots of the loss during training."
   ]
  },
  {
   "cell_type": "markdown",
   "metadata": {
    "id": "0EJj9ixKVBMT"
   },
   "source": [
    "### Checkpoint the initial weights\n",
    "\n",
    "To make the various training runs more comparable, keep this initial model's weights in a checkpoint file, and load them into each model before training:"
   ]
  },
  {
   "cell_type": "code",
   "execution_count": 20,
   "metadata": {
    "execution": {
     "iopub.execute_input": "2023-07-27T04:52:40.210618Z",
     "iopub.status.busy": "2023-07-27T04:52:40.210155Z",
     "iopub.status.idle": "2023-07-27T04:52:40.245548Z",
     "shell.execute_reply": "2023-07-27T04:52:40.244848Z"
    },
    "id": "_tSUm4yAVIif"
   },
   "outputs": [],
   "source": [
    "initial_weights = os.path.join(tempfile.mkdtemp(), 'initial_weights')\n",
    "model.save_weights(initial_weights)"
   ]
  },
  {
   "cell_type": "markdown",
   "metadata": {
    "id": "EVXiLyqyZ8AX"
   },
   "source": [
    "### Confirm that the bias fix helps\n",
    "\n",
    "Before moving on, confirm quick that the careful bias initialization actually helped.\n",
    "\n",
    "Train the model for 20 epochs, with and without this careful initialization, and compare the losses: "
   ]
  },
  {
   "cell_type": "code",
   "execution_count": 21,
   "metadata": {
    "execution": {
     "iopub.execute_input": "2023-07-27T04:52:40.248974Z",
     "iopub.status.busy": "2023-07-27T04:52:40.248530Z",
     "iopub.status.idle": "2023-07-27T04:52:50.279612Z",
     "shell.execute_reply": "2023-07-27T04:52:50.278770Z"
    },
    "id": "Dm4-4K5RZ63Q"
   },
   "outputs": [],
   "source": [
    "model = make_model()\n",
    "model.load_weights(initial_weights)\n",
    "model.layers[-1].bias.assign([0.0])\n",
    "zero_bias_history = model.fit(\n",
    "    train_features,\n",
    "    train_labels,\n",
    "    batch_size=BATCH_SIZE,\n",
    "    epochs=20,\n",
    "    validation_data=(val_features, val_labels), \n",
    "    verbose=0)"
   ]
  },
  {
   "cell_type": "code",
   "execution_count": 22,
   "metadata": {
    "execution": {
     "iopub.execute_input": "2023-07-27T04:52:50.283514Z",
     "iopub.status.busy": "2023-07-27T04:52:50.282885Z",
     "iopub.status.idle": "2023-07-27T04:53:00.173624Z",
     "shell.execute_reply": "2023-07-27T04:53:00.172789Z"
    },
    "id": "j8DsLXHQaSql"
   },
   "outputs": [],
   "source": [
    "model = make_model()\n",
    "model.load_weights(initial_weights)\n",
    "careful_bias_history = model.fit(\n",
    "    train_features,\n",
    "    train_labels,\n",
    "    batch_size=BATCH_SIZE,\n",
    "    epochs=20,\n",
    "    validation_data=(val_features, val_labels), \n",
    "    verbose=0)"
   ]
  },
  {
   "cell_type": "code",
   "execution_count": 23,
   "metadata": {
    "execution": {
     "iopub.execute_input": "2023-07-27T04:53:00.177792Z",
     "iopub.status.busy": "2023-07-27T04:53:00.177186Z",
     "iopub.status.idle": "2023-07-27T04:53:00.181762Z",
     "shell.execute_reply": "2023-07-27T04:53:00.181191Z"
    },
    "id": "E3XsMBjhauFV"
   },
   "outputs": [],
   "source": [
    "def plot_loss(history, label, n):\n",
    "  # Use a log scale on y-axis to show the wide range of values.\n",
    "  plt.semilogy(history.epoch, history.history['loss'],\n",
    "               color=colors[n], label='Train ' + label)\n",
    "  plt.semilogy(history.epoch, history.history['val_loss'],\n",
    "               color=colors[n], label='Val ' + label,\n",
    "               linestyle=\"--\")\n",
    "  plt.xlabel('Epoch')\n",
    "  plt.ylabel('Loss')\n",
    "  plt.legend()"
   ]
  },
  {
   "cell_type": "code",
   "execution_count": 24,
   "metadata": {
    "execution": {
     "iopub.execute_input": "2023-07-27T04:53:00.184914Z",
     "iopub.status.busy": "2023-07-27T04:53:00.184651Z",
     "iopub.status.idle": "2023-07-27T04:53:00.573662Z",
     "shell.execute_reply": "2023-07-27T04:53:00.573032Z"
    },
    "id": "dxFaskm7beC7"
   },
   "outputs": [],
   "source": [
    "plot_loss(zero_bias_history, \"Zero Bias\", 0)\n",
    "plot_loss(careful_bias_history, \"Careful Bias\", 1)"
   ]
  },
  {
   "cell_type": "markdown",
   "metadata": {
    "id": "fKMioV0ddG3R"
   },
   "source": [
    "The above figure makes it clear: In terms of validation loss, on this problem, this careful initialization gives a clear advantage. "
   ]
  },
  {
   "cell_type": "markdown",
   "metadata": {
    "id": "RsA_7SEntRaV"
   },
   "source": [
    "### Train the model"
   ]
  },
  {
   "cell_type": "code",
   "execution_count": 25,
   "metadata": {
    "execution": {
     "iopub.execute_input": "2023-07-27T04:53:00.577533Z",
     "iopub.status.busy": "2023-07-27T04:53:00.576963Z",
     "iopub.status.idle": "2023-07-27T04:53:13.362671Z",
     "shell.execute_reply": "2023-07-27T04:53:13.361766Z"
    },
    "id": "yZKAc8NCDnoR"
   },
   "outputs": [
    {
     "name": "stdout",
     "output_type": "stream",
     "text": [
      "Epoch 1/100\n",
      "90/90 [==============================] - 8s 22ms/step - loss: 0.0116 - cross entropy: 0.0098 - Brier score: 0.0014 - tp: 79.0000 - fp: 23.0000 - tn: 227427.0000 - fn: 316.0000 - accuracy: 0.9985 - precision: 0.7745 - recall: 0.2000 - auc: 0.7652 - prc: 0.2853 - val_loss: 0.0050 - val_cross entropy: 0.0050 - val_Brier score: 9.7668e-04 - val_tp: 13.0000 - val_fp: 2.0000 - val_tn: 45501.0000 - val_fn: 53.0000 - val_accuracy: 0.9988 - val_precision: 0.8667 - val_recall: 0.1970 - val_auc: 0.9238 - val_prc: 0.7091\n",
      "Epoch 2/100\n",
      "90/90 [==============================] - 0s 5ms/step - loss: 0.0080 - cross entropy: 0.0080 - Brier score: 0.0013 - tp: 88.0000 - fp: 26.0000 - tn: 181921.0000 - fn: 241.0000 - accuracy: 0.9985 - precision: 0.7719 - recall: 0.2675 - auc: 0.8514 - prc: 0.4406 - val_loss: 0.0036 - val_cross entropy: 0.0036 - val_Brier score: 6.5637e-04 - val_tp: 34.0000 - val_fp: 5.0000 - val_tn: 45498.0000 - val_fn: 32.0000 - val_accuracy: 0.9992 - val_precision: 0.8718 - val_recall: 0.5152 - val_auc: 0.9240 - val_prc: 0.7489\n",
      "Epoch 3/100\n",
      "90/90 [==============================] - 1s 6ms/step - loss: 0.0070 - cross entropy: 0.0070 - Brier score: 0.0011 - tp: 124.0000 - fp: 21.0000 - tn: 181926.0000 - fn: 205.0000 - accuracy: 0.9988 - precision: 0.8552 - recall: 0.3769 - auc: 0.8649 - prc: 0.5515 - val_loss: 0.0031 - val_cross entropy: 0.0031 - val_Brier score: 5.3184e-04 - val_tp: 42.0000 - val_fp: 6.0000 - val_tn: 45497.0000 - val_fn: 24.0000 - val_accuracy: 0.9993 - val_precision: 0.8750 - val_recall: 0.6364 - val_auc: 0.9467 - val_prc: 0.7824\n",
      "Epoch 4/100\n",
      "90/90 [==============================] - 0s 5ms/step - loss: 0.0064 - cross entropy: 0.0064 - Brier score: 9.8956e-04 - tp: 150.0000 - fp: 26.0000 - tn: 181921.0000 - fn: 179.0000 - accuracy: 0.9989 - precision: 0.8523 - recall: 0.4559 - auc: 0.8786 - prc: 0.6001 - val_loss: 0.0029 - val_cross entropy: 0.0029 - val_Brier score: 4.9723e-04 - val_tp: 43.0000 - val_fp: 6.0000 - val_tn: 45497.0000 - val_fn: 23.0000 - val_accuracy: 0.9994 - val_precision: 0.8776 - val_recall: 0.6515 - val_auc: 0.9467 - val_prc: 0.7937\n",
      "Epoch 5/100\n",
      "90/90 [==============================] - 1s 6ms/step - loss: 0.0062 - cross entropy: 0.0062 - Brier score: 9.5754e-04 - tp: 155.0000 - fp: 24.0000 - tn: 181923.0000 - fn: 174.0000 - accuracy: 0.9989 - precision: 0.8659 - recall: 0.4711 - auc: 0.8867 - prc: 0.6026 - val_loss: 0.0028 - val_cross entropy: 0.0028 - val_Brier score: 4.7705e-04 - val_tp: 48.0000 - val_fp: 7.0000 - val_tn: 45496.0000 - val_fn: 18.0000 - val_accuracy: 0.9995 - val_precision: 0.8727 - val_recall: 0.7273 - val_auc: 0.9467 - val_prc: 0.7918\n",
      "Epoch 6/100\n",
      "90/90 [==============================] - 1s 11ms/step - loss: 0.0061 - cross entropy: 0.0061 - Brier score: 9.9071e-04 - tp: 153.0000 - fp: 27.0000 - tn: 181920.0000 - fn: 176.0000 - accuracy: 0.9989 - precision: 0.8500 - recall: 0.4650 - auc: 0.8807 - prc: 0.5952 - val_loss: 0.0027 - val_cross entropy: 0.0027 - val_Brier score: 4.6101e-04 - val_tp: 49.0000 - val_fp: 7.0000 - val_tn: 45496.0000 - val_fn: 17.0000 - val_accuracy: 0.9995 - val_precision: 0.8750 - val_recall: 0.7424 - val_auc: 0.9467 - val_prc: 0.7944\n",
      "Epoch 7/100\n",
      "90/90 [==============================] - 1s 6ms/step - loss: 0.0056 - cross entropy: 0.0056 - Brier score: 9.1685e-04 - tp: 165.0000 - fp: 26.0000 - tn: 181921.0000 - fn: 164.0000 - accuracy: 0.9990 - precision: 0.8639 - recall: 0.5015 - auc: 0.8903 - prc: 0.6442 - val_loss: 0.0026 - val_cross entropy: 0.0026 - val_Brier score: 4.4164e-04 - val_tp: 51.0000 - val_fp: 9.0000 - val_tn: 45494.0000 - val_fn: 15.0000 - val_accuracy: 0.9995 - val_precision: 0.8500 - val_recall: 0.7727 - val_auc: 0.9467 - val_prc: 0.7946\n",
      "Epoch 8/100\n",
      "90/90 [==============================] - 0s 5ms/step - loss: 0.0054 - cross entropy: 0.0054 - Brier score: 8.9217e-04 - tp: 170.0000 - fp: 25.0000 - tn: 181922.0000 - fn: 159.0000 - accuracy: 0.9990 - precision: 0.8718 - recall: 0.5167 - auc: 0.8921 - prc: 0.6452 - val_loss: 0.0025 - val_cross entropy: 0.0025 - val_Brier score: 4.3152e-04 - val_tp: 53.0000 - val_fp: 9.0000 - val_tn: 45494.0000 - val_fn: 13.0000 - val_accuracy: 0.9995 - val_precision: 0.8548 - val_recall: 0.8030 - val_auc: 0.9467 - val_prc: 0.8042\n",
      "Epoch 9/100\n",
      "90/90 [==============================] - 1s 6ms/step - loss: 0.0051 - cross entropy: 0.0051 - Brier score: 8.5644e-04 - tp: 181.0000 - fp: 30.0000 - tn: 181917.0000 - fn: 148.0000 - accuracy: 0.9990 - precision: 0.8578 - recall: 0.5502 - auc: 0.9045 - prc: 0.6860 - val_loss: 0.0025 - val_cross entropy: 0.0025 - val_Brier score: 4.2837e-04 - val_tp: 52.0000 - val_fp: 9.0000 - val_tn: 45494.0000 - val_fn: 14.0000 - val_accuracy: 0.9995 - val_precision: 0.8525 - val_recall: 0.7879 - val_auc: 0.9467 - val_prc: 0.8126\n",
      "Epoch 10/100\n",
      "90/90 [==============================] - 0s 4ms/step - loss: 0.0050 - cross entropy: 0.0050 - Brier score: 8.4797e-04 - tp: 175.0000 - fp: 25.0000 - tn: 181922.0000 - fn: 154.0000 - accuracy: 0.9990 - precision: 0.8750 - recall: 0.5319 - auc: 0.9135 - prc: 0.6738 - val_loss: 0.0024 - val_cross entropy: 0.0024 - val_Brier score: 4.1915e-04 - val_tp: 53.0000 - val_fp: 10.0000 - val_tn: 45493.0000 - val_fn: 13.0000 - val_accuracy: 0.9995 - val_precision: 0.8413 - val_recall: 0.8030 - val_auc: 0.9467 - val_prc: 0.8113\n",
      "Epoch 11/100\n",
      "90/90 [==============================] - 0s 5ms/step - loss: 0.0051 - cross entropy: 0.0051 - Brier score: 8.2115e-04 - tp: 183.0000 - fp: 28.0000 - tn: 181919.0000 - fn: 146.0000 - accuracy: 0.9990 - precision: 0.8673 - recall: 0.5562 - auc: 0.8998 - prc: 0.6657 - val_loss: 0.0024 - val_cross entropy: 0.0024 - val_Brier score: 4.1676e-04 - val_tp: 53.0000 - val_fp: 10.0000 - val_tn: 45493.0000 - val_fn: 13.0000 - val_accuracy: 0.9995 - val_precision: 0.8413 - val_recall: 0.8030 - val_auc: 0.9543 - val_prc: 0.8277\n",
      "Epoch 12/100\n",
      "90/90 [==============================] - 0s 5ms/step - loss: 0.0054 - cross entropy: 0.0054 - Brier score: 9.4657e-04 - tp: 165.0000 - fp: 35.0000 - tn: 181912.0000 - fn: 164.0000 - accuracy: 0.9989 - precision: 0.8250 - recall: 0.5015 - auc: 0.8878 - prc: 0.6272 - val_loss: 0.0023 - val_cross entropy: 0.0023 - val_Brier score: 4.1631e-04 - val_tp: 51.0000 - val_fp: 7.0000 - val_tn: 45496.0000 - val_fn: 15.0000 - val_accuracy: 0.9995 - val_precision: 0.8793 - val_recall: 0.7727 - val_auc: 0.9543 - val_prc: 0.8342\n",
      "Epoch 13/100\n",
      "90/90 [==============================] - 0s 5ms/step - loss: 0.0049 - cross entropy: 0.0049 - Brier score: 8.8263e-04 - tp: 166.0000 - fp: 27.0000 - tn: 181920.0000 - fn: 163.0000 - accuracy: 0.9990 - precision: 0.8601 - recall: 0.5046 - auc: 0.9090 - prc: 0.6839 - val_loss: 0.0023 - val_cross entropy: 0.0023 - val_Brier score: 4.0821e-04 - val_tp: 54.0000 - val_fp: 10.0000 - val_tn: 45493.0000 - val_fn: 12.0000 - val_accuracy: 0.9995 - val_precision: 0.8438 - val_recall: 0.8182 - val_auc: 0.9543 - val_prc: 0.8335\n",
      "Epoch 14/100\n",
      "90/90 [==============================] - 1s 6ms/step - loss: 0.0049 - cross entropy: 0.0049 - Brier score: 8.6013e-04 - tp: 179.0000 - fp: 33.0000 - tn: 181914.0000 - fn: 150.0000 - accuracy: 0.9990 - precision: 0.8443 - recall: 0.5441 - auc: 0.8999 - prc: 0.6715 - val_loss: 0.0023 - val_cross entropy: 0.0023 - val_Brier score: 4.0463e-04 - val_tp: 55.0000 - val_fp: 10.0000 - val_tn: 45493.0000 - val_fn: 11.0000 - val_accuracy: 0.9995 - val_precision: 0.8462 - val_recall: 0.8333 - val_auc: 0.9543 - val_prc: 0.8388\n",
      "Epoch 15/100\n",
      "90/90 [==============================] - 0s 5ms/step - loss: 0.0049 - cross entropy: 0.0049 - Brier score: 8.4154e-04 - tp: 183.0000 - fp: 32.0000 - tn: 181915.0000 - fn: 146.0000 - accuracy: 0.9990 - precision: 0.8512 - recall: 0.5562 - auc: 0.9046 - prc: 0.6720 - val_loss: 0.0023 - val_cross entropy: 0.0023 - val_Brier score: 4.0869e-04 - val_tp: 56.0000 - val_fp: 10.0000 - val_tn: 45493.0000 - val_fn: 10.0000 - val_accuracy: 0.9996 - val_precision: 0.8485 - val_recall: 0.8485 - val_auc: 0.9543 - val_prc: 0.8358\n",
      "Epoch 16/100\n"
     ]
    },
    {
     "name": "stdout",
     "output_type": "stream",
     "text": [
      "90/90 [==============================] - 0s 6ms/step - loss: 0.0049 - cross entropy: 0.0049 - Brier score: 8.6313e-04 - tp: 181.0000 - fp: 39.0000 - tn: 181908.0000 - fn: 148.0000 - accuracy: 0.9990 - precision: 0.8227 - recall: 0.5502 - auc: 0.9076 - prc: 0.6815 - val_loss: 0.0023 - val_cross entropy: 0.0023 - val_Brier score: 4.0476e-04 - val_tp: 54.0000 - val_fp: 10.0000 - val_tn: 45493.0000 - val_fn: 12.0000 - val_accuracy: 0.9995 - val_precision: 0.8438 - val_recall: 0.8182 - val_auc: 0.9543 - val_prc: 0.8333\n",
      "Epoch 17/100\n",
      "90/90 [==============================] - 0s 5ms/step - loss: 0.0048 - cross entropy: 0.0048 - Brier score: 8.0107e-04 - tp: 192.0000 - fp: 23.0000 - tn: 181924.0000 - fn: 137.0000 - accuracy: 0.9991 - precision: 0.8930 - recall: 0.5836 - auc: 0.9182 - prc: 0.6857 - val_loss: 0.0022 - val_cross entropy: 0.0022 - val_Brier score: 4.0278e-04 - val_tp: 54.0000 - val_fp: 10.0000 - val_tn: 45493.0000 - val_fn: 12.0000 - val_accuracy: 0.9995 - val_precision: 0.8438 - val_recall: 0.8182 - val_auc: 0.9543 - val_prc: 0.8365\n",
      "Epoch 18/100\n",
      "90/90 [==============================] - 0s 5ms/step - loss: 0.0046 - cross entropy: 0.0046 - Brier score: 8.4749e-04 - tp: 177.0000 - fp: 28.0000 - tn: 181919.0000 - fn: 152.0000 - accuracy: 0.9990 - precision: 0.8634 - recall: 0.5380 - auc: 0.9106 - prc: 0.6871 - val_loss: 0.0023 - val_cross entropy: 0.0023 - val_Brier score: 4.0749e-04 - val_tp: 56.0000 - val_fp: 10.0000 - val_tn: 45493.0000 - val_fn: 10.0000 - val_accuracy: 0.9996 - val_precision: 0.8485 - val_recall: 0.8485 - val_auc: 0.9543 - val_prc: 0.8333\n",
      "Epoch 19/100\n",
      "90/90 [==============================] - 1s 7ms/step - loss: 0.0047 - cross entropy: 0.0047 - Brier score: 8.4755e-04 - tp: 186.0000 - fp: 31.0000 - tn: 181916.0000 - fn: 143.0000 - accuracy: 0.9990 - precision: 0.8571 - recall: 0.5653 - auc: 0.9107 - prc: 0.6923 - val_loss: 0.0023 - val_cross entropy: 0.0023 - val_Brier score: 4.0517e-04 - val_tp: 56.0000 - val_fp: 10.0000 - val_tn: 45493.0000 - val_fn: 10.0000 - val_accuracy: 0.9996 - val_precision: 0.8485 - val_recall: 0.8485 - val_auc: 0.9543 - val_prc: 0.8417\n",
      "Epoch 20/100\n",
      "90/90 [==============================] - 1s 6ms/step - loss: 0.0044 - cross entropy: 0.0044 - Brier score: 8.0411e-04 - tp: 188.0000 - fp: 25.0000 - tn: 181922.0000 - fn: 141.0000 - accuracy: 0.9991 - precision: 0.8826 - recall: 0.5714 - auc: 0.9230 - prc: 0.7116 - val_loss: 0.0022 - val_cross entropy: 0.0022 - val_Brier score: 4.0222e-04 - val_tp: 56.0000 - val_fp: 10.0000 - val_tn: 45493.0000 - val_fn: 10.0000 - val_accuracy: 0.9996 - val_precision: 0.8485 - val_recall: 0.8485 - val_auc: 0.9543 - val_prc: 0.8423\n",
      "Epoch 21/100\n",
      "90/90 [==============================] - 0s 4ms/step - loss: 0.0042 - cross entropy: 0.0042 - Brier score: 7.5597e-04 - tp: 203.0000 - fp: 32.0000 - tn: 181915.0000 - fn: 126.0000 - accuracy: 0.9991 - precision: 0.8638 - recall: 0.6170 - auc: 0.9275 - prc: 0.7153 - val_loss: 0.0021 - val_cross entropy: 0.0021 - val_Brier score: 3.9463e-04 - val_tp: 55.0000 - val_fp: 10.0000 - val_tn: 45493.0000 - val_fn: 11.0000 - val_accuracy: 0.9995 - val_precision: 0.8462 - val_recall: 0.8333 - val_auc: 0.9543 - val_prc: 0.8460\n",
      "Epoch 22/100\n",
      "90/90 [==============================] - 1s 9ms/step - loss: 0.0044 - cross entropy: 0.0044 - Brier score: 8.1230e-04 - tp: 185.0000 - fp: 29.0000 - tn: 181918.0000 - fn: 144.0000 - accuracy: 0.9991 - precision: 0.8645 - recall: 0.5623 - auc: 0.9183 - prc: 0.7063 - val_loss: 0.0022 - val_cross entropy: 0.0022 - val_Brier score: 4.0588e-04 - val_tp: 56.0000 - val_fp: 10.0000 - val_tn: 45493.0000 - val_fn: 10.0000 - val_accuracy: 0.9996 - val_precision: 0.8485 - val_recall: 0.8485 - val_auc: 0.9543 - val_prc: 0.8418\n",
      "Epoch 23/100\n",
      "90/90 [==============================] - 0s 4ms/step - loss: 0.0046 - cross entropy: 0.0046 - Brier score: 8.1070e-04 - tp: 190.0000 - fp: 31.0000 - tn: 181916.0000 - fn: 139.0000 - accuracy: 0.9991 - precision: 0.8597 - recall: 0.5775 - auc: 0.9092 - prc: 0.6893 - val_loss: 0.0022 - val_cross entropy: 0.0022 - val_Brier score: 4.0438e-04 - val_tp: 56.0000 - val_fp: 10.0000 - val_tn: 45493.0000 - val_fn: 10.0000 - val_accuracy: 0.9996 - val_precision: 0.8485 - val_recall: 0.8485 - val_auc: 0.9543 - val_prc: 0.8448\n",
      "Epoch 24/100\n",
      "90/90 [==============================] - 1s 6ms/step - loss: 0.0045 - cross entropy: 0.0045 - Brier score: 8.1564e-04 - tp: 191.0000 - fp: 28.0000 - tn: 181919.0000 - fn: 138.0000 - accuracy: 0.9991 - precision: 0.8721 - recall: 0.5805 - auc: 0.9198 - prc: 0.7031 - val_loss: 0.0022 - val_cross entropy: 0.0022 - val_Brier score: 3.9564e-04 - val_tp: 56.0000 - val_fp: 10.0000 - val_tn: 45493.0000 - val_fn: 10.0000 - val_accuracy: 0.9996 - val_precision: 0.8485 - val_recall: 0.8485 - val_auc: 0.9543 - val_prc: 0.8469\n",
      "Epoch 25/100\n",
      "90/90 [==============================] - 0s 5ms/step - loss: 0.0046 - cross entropy: 0.0046 - Brier score: 8.5440e-04 - tp: 183.0000 - fp: 26.0000 - tn: 181921.0000 - fn: 146.0000 - accuracy: 0.9991 - precision: 0.8756 - recall: 0.5562 - auc: 0.9121 - prc: 0.6886 - val_loss: 0.0021 - val_cross entropy: 0.0021 - val_Brier score: 3.9526e-04 - val_tp: 56.0000 - val_fp: 9.0000 - val_tn: 45494.0000 - val_fn: 10.0000 - val_accuracy: 0.9996 - val_precision: 0.8615 - val_recall: 0.8485 - val_auc: 0.9543 - val_prc: 0.8475\n",
      "Epoch 26/100\n",
      "90/90 [==============================] - 1s 6ms/step - loss: 0.0043 - cross entropy: 0.0043 - Brier score: 7.9866e-04 - tp: 192.0000 - fp: 32.0000 - tn: 181915.0000 - fn: 137.0000 - accuracy: 0.9991 - precision: 0.8571 - recall: 0.5836 - auc: 0.9244 - prc: 0.7048 - val_loss: 0.0022 - val_cross entropy: 0.0022 - val_Brier score: 3.9514e-04 - val_tp: 56.0000 - val_fp: 9.0000 - val_tn: 45494.0000 - val_fn: 10.0000 - val_accuracy: 0.9996 - val_precision: 0.8615 - val_recall: 0.8485 - val_auc: 0.9543 - val_prc: 0.8457\n",
      "Epoch 27/100\n",
      "90/90 [==============================] - 0s 5ms/step - loss: 0.0043 - cross entropy: 0.0043 - Brier score: 7.7603e-04 - tp: 203.0000 - fp: 37.0000 - tn: 181910.0000 - fn: 126.0000 - accuracy: 0.9991 - precision: 0.8458 - recall: 0.6170 - auc: 0.9153 - prc: 0.7082 - val_loss: 0.0021 - val_cross entropy: 0.0021 - val_Brier score: 4.0088e-04 - val_tp: 52.0000 - val_fp: 8.0000 - val_tn: 45495.0000 - val_fn: 14.0000 - val_accuracy: 0.9995 - val_precision: 0.8667 - val_recall: 0.7879 - val_auc: 0.9543 - val_prc: 0.8515\n",
      "Epoch 28/100\n",
      "90/90 [==============================] - 0s 5ms/step - loss: 0.0044 - cross entropy: 0.0044 - Brier score: 8.4128e-04 - tp: 176.0000 - fp: 28.0000 - tn: 181919.0000 - fn: 153.0000 - accuracy: 0.9990 - precision: 0.8627 - recall: 0.5350 - auc: 0.9199 - prc: 0.6974 - val_loss: 0.0022 - val_cross entropy: 0.0022 - val_Brier score: 3.9639e-04 - val_tp: 56.0000 - val_fp: 10.0000 - val_tn: 45493.0000 - val_fn: 10.0000 - val_accuracy: 0.9996 - val_precision: 0.8485 - val_recall: 0.8485 - val_auc: 0.9543 - val_prc: 0.8481\n",
      "Epoch 29/100\n",
      "90/90 [==============================] - 1s 8ms/step - loss: 0.0045 - cross entropy: 0.0045 - Brier score: 8.1218e-04 - tp: 192.0000 - fp: 35.0000 - tn: 181912.0000 - fn: 137.0000 - accuracy: 0.9991 - precision: 0.8458 - recall: 0.5836 - auc: 0.9168 - prc: 0.6891 - val_loss: 0.0021 - val_cross entropy: 0.0021 - val_Brier score: 3.9423e-04 - val_tp: 56.0000 - val_fp: 9.0000 - val_tn: 45494.0000 - val_fn: 10.0000 - val_accuracy: 0.9996 - val_precision: 0.8615 - val_recall: 0.8485 - val_auc: 0.9543 - val_prc: 0.8458\n",
      "Epoch 30/100\n",
      "90/90 [==============================] - 0s 5ms/step - loss: 0.0045 - cross entropy: 0.0045 - Brier score: 8.3375e-04 - tp: 190.0000 - fp: 35.0000 - tn: 181912.0000 - fn: 139.0000 - accuracy: 0.9990 - precision: 0.8444 - recall: 0.5775 - auc: 0.9138 - prc: 0.6899 - val_loss: 0.0021 - val_cross entropy: 0.0021 - val_Brier score: 3.9318e-04 - val_tp: 56.0000 - val_fp: 8.0000 - val_tn: 45495.0000 - val_fn: 10.0000 - val_accuracy: 0.9996 - val_precision: 0.8750 - val_recall: 0.8485 - val_auc: 0.9543 - val_prc: 0.8494\n",
      "Epoch 31/100\n"
     ]
    },
    {
     "name": "stdout",
     "output_type": "stream",
     "text": [
      "90/90 [==============================] - 0s 4ms/step - loss: 0.0043 - cross entropy: 0.0043 - Brier score: 7.9374e-04 - tp: 195.0000 - fp: 31.0000 - tn: 181916.0000 - fn: 134.0000 - accuracy: 0.9991 - precision: 0.8628 - recall: 0.5927 - auc: 0.9260 - prc: 0.7095 - val_loss: 0.0021 - val_cross entropy: 0.0021 - val_Brier score: 3.9535e-04 - val_tp: 53.0000 - val_fp: 8.0000 - val_tn: 45495.0000 - val_fn: 13.0000 - val_accuracy: 0.9995 - val_precision: 0.8689 - val_recall: 0.8030 - val_auc: 0.9543 - val_prc: 0.8515\n",
      "Epoch 32/100\n",
      "90/90 [==============================] - 0s 5ms/step - loss: 0.0042 - cross entropy: 0.0042 - Brier score: 8.0218e-04 - tp: 185.0000 - fp: 30.0000 - tn: 181917.0000 - fn: 144.0000 - accuracy: 0.9990 - precision: 0.8605 - recall: 0.5623 - auc: 0.9260 - prc: 0.7066 - val_loss: 0.0022 - val_cross entropy: 0.0022 - val_Brier score: 3.9453e-04 - val_tp: 56.0000 - val_fp: 9.0000 - val_tn: 45494.0000 - val_fn: 10.0000 - val_accuracy: 0.9996 - val_precision: 0.8615 - val_recall: 0.8485 - val_auc: 0.9543 - val_prc: 0.8527\n",
      "Epoch 33/100\n",
      "90/90 [==============================] - 0s 4ms/step - loss: 0.0043 - cross entropy: 0.0043 - Brier score: 7.9683e-04 - tp: 190.0000 - fp: 29.0000 - tn: 181918.0000 - fn: 139.0000 - accuracy: 0.9991 - precision: 0.8676 - recall: 0.5775 - auc: 0.9122 - prc: 0.7085 - val_loss: 0.0022 - val_cross entropy: 0.0022 - val_Brier score: 3.9846e-04 - val_tp: 56.0000 - val_fp: 12.0000 - val_tn: 45491.0000 - val_fn: 10.0000 - val_accuracy: 0.9995 - val_precision: 0.8235 - val_recall: 0.8485 - val_auc: 0.9543 - val_prc: 0.8479\n",
      "Epoch 34/100\n",
      "90/90 [==============================] - 0s 5ms/step - loss: 0.0042 - cross entropy: 0.0042 - Brier score: 7.8404e-04 - tp: 198.0000 - fp: 31.0000 - tn: 181916.0000 - fn: 131.0000 - accuracy: 0.9991 - precision: 0.8646 - recall: 0.6018 - auc: 0.9214 - prc: 0.7171 - val_loss: 0.0021 - val_cross entropy: 0.0021 - val_Brier score: 3.9039e-04 - val_tp: 53.0000 - val_fp: 8.0000 - val_tn: 45495.0000 - val_fn: 13.0000 - val_accuracy: 0.9995 - val_precision: 0.8689 - val_recall: 0.8030 - val_auc: 0.9543 - val_prc: 0.8525\n",
      "Epoch 35/100\n",
      "90/90 [==============================] - 0s 4ms/step - loss: 0.0043 - cross entropy: 0.0043 - Brier score: 8.1536e-04 - tp: 187.0000 - fp: 32.0000 - tn: 181915.0000 - fn: 142.0000 - accuracy: 0.9990 - precision: 0.8539 - recall: 0.5684 - auc: 0.9123 - prc: 0.6950 - val_loss: 0.0021 - val_cross entropy: 0.0021 - val_Brier score: 3.9227e-04 - val_tp: 53.0000 - val_fp: 8.0000 - val_tn: 45495.0000 - val_fn: 13.0000 - val_accuracy: 0.9995 - val_precision: 0.8689 - val_recall: 0.8030 - val_auc: 0.9543 - val_prc: 0.8539\n",
      "Epoch 36/100\n",
      "90/90 [==============================] - 0s 5ms/step - loss: 0.0040 - cross entropy: 0.0040 - Brier score: 7.5931e-04 - tp: 194.0000 - fp: 30.0000 - tn: 181917.0000 - fn: 135.0000 - accuracy: 0.9991 - precision: 0.8661 - recall: 0.5897 - auc: 0.9290 - prc: 0.7292 - val_loss: 0.0022 - val_cross entropy: 0.0022 - val_Brier score: 3.9522e-04 - val_tp: 56.0000 - val_fp: 11.0000 - val_tn: 45492.0000 - val_fn: 10.0000 - val_accuracy: 0.9995 - val_precision: 0.8358 - val_recall: 0.8485 - val_auc: 0.9543 - val_prc: 0.8506\n",
      "Epoch 37/100\n",
      "90/90 [==============================] - 0s 5ms/step - loss: 0.0042 - cross entropy: 0.0042 - Brier score: 7.9601e-04 - tp: 192.0000 - fp: 30.0000 - tn: 181917.0000 - fn: 137.0000 - accuracy: 0.9991 - precision: 0.8649 - recall: 0.5836 - auc: 0.9290 - prc: 0.7075 - val_loss: 0.0021 - val_cross entropy: 0.0021 - val_Brier score: 3.9118e-04 - val_tp: 53.0000 - val_fp: 8.0000 - val_tn: 45495.0000 - val_fn: 13.0000 - val_accuracy: 0.9995 - val_precision: 0.8689 - val_recall: 0.8030 - val_auc: 0.9543 - val_prc: 0.8537\n",
      "Epoch 38/100\n",
      "90/90 [==============================] - 0s 5ms/step - loss: 0.0040 - cross entropy: 0.0040 - Brier score: 7.6102e-04 - tp: 200.0000 - fp: 30.0000 - tn: 181917.0000 - fn: 129.0000 - accuracy: 0.9991 - precision: 0.8696 - recall: 0.6079 - auc: 0.9230 - prc: 0.7219 - val_loss: 0.0021 - val_cross entropy: 0.0021 - val_Brier score: 3.9900e-04 - val_tp: 53.0000 - val_fp: 8.0000 - val_tn: 45495.0000 - val_fn: 13.0000 - val_accuracy: 0.9995 - val_precision: 0.8689 - val_recall: 0.8030 - val_auc: 0.9543 - val_prc: 0.8542\n",
      "Epoch 39/100\n",
      "90/90 [==============================] - 0s 5ms/step - loss: 0.0039 - cross entropy: 0.0039 - Brier score: 7.3853e-04 - tp: 200.0000 - fp: 26.0000 - tn: 181921.0000 - fn: 129.0000 - accuracy: 0.9991 - precision: 0.8850 - recall: 0.6079 - auc: 0.9261 - prc: 0.7406 - val_loss: 0.0021 - val_cross entropy: 0.0021 - val_Brier score: 3.9876e-04 - val_tp: 53.0000 - val_fp: 8.0000 - val_tn: 45495.0000 - val_fn: 13.0000 - val_accuracy: 0.9995 - val_precision: 0.8689 - val_recall: 0.8030 - val_auc: 0.9543 - val_prc: 0.8540\n",
      "Epoch 40/100\n",
      "90/90 [==============================] - 0s 5ms/step - loss: 0.0042 - cross entropy: 0.0042 - Brier score: 8.1259e-04 - tp: 188.0000 - fp: 32.0000 - tn: 181915.0000 - fn: 141.0000 - accuracy: 0.9991 - precision: 0.8545 - recall: 0.5714 - auc: 0.9304 - prc: 0.7010 - val_loss: 0.0021 - val_cross entropy: 0.0021 - val_Brier score: 3.9833e-04 - val_tp: 53.0000 - val_fp: 8.0000 - val_tn: 45495.0000 - val_fn: 13.0000 - val_accuracy: 0.9995 - val_precision: 0.8689 - val_recall: 0.8030 - val_auc: 0.9543 - val_prc: 0.8555\n",
      "Epoch 41/100\n",
      "90/90 [==============================] - 0s 5ms/step - loss: 0.0041 - cross entropy: 0.0041 - Brier score: 7.9213e-04 - tp: 189.0000 - fp: 27.0000 - tn: 181920.0000 - fn: 140.0000 - accuracy: 0.9991 - precision: 0.8750 - recall: 0.5745 - auc: 0.9215 - prc: 0.7286 - val_loss: 0.0021 - val_cross entropy: 0.0021 - val_Brier score: 3.9282e-04 - val_tp: 53.0000 - val_fp: 10.0000 - val_tn: 45493.0000 - val_fn: 13.0000 - val_accuracy: 0.9995 - val_precision: 0.8413 - val_recall: 0.8030 - val_auc: 0.9543 - val_prc: 0.8561\n",
      "Epoch 42/100\n",
      "90/90 [==============================] - 0s 5ms/step - loss: 0.0041 - cross entropy: 0.0041 - Brier score: 7.7859e-04 - tp: 199.0000 - fp: 28.0000 - tn: 181919.0000 - fn: 130.0000 - accuracy: 0.9991 - precision: 0.8767 - recall: 0.6049 - auc: 0.9274 - prc: 0.7128 - val_loss: 0.0021 - val_cross entropy: 0.0021 - val_Brier score: 3.9714e-04 - val_tp: 53.0000 - val_fp: 10.0000 - val_tn: 45493.0000 - val_fn: 13.0000 - val_accuracy: 0.9995 - val_precision: 0.8413 - val_recall: 0.8030 - val_auc: 0.9543 - val_prc: 0.8540\n",
      "Epoch 43/100\n",
      "90/90 [==============================] - 0s 5ms/step - loss: 0.0040 - cross entropy: 0.0040 - Brier score: 7.7450e-04 - tp: 191.0000 - fp: 25.0000 - tn: 181922.0000 - fn: 138.0000 - accuracy: 0.9991 - precision: 0.8843 - recall: 0.5805 - auc: 0.9306 - prc: 0.7365 - val_loss: 0.0021 - val_cross entropy: 0.0021 - val_Brier score: 3.9105e-04 - val_tp: 56.0000 - val_fp: 10.0000 - val_tn: 45493.0000 - val_fn: 10.0000 - val_accuracy: 0.9996 - val_precision: 0.8485 - val_recall: 0.8485 - val_auc: 0.9543 - val_prc: 0.8547\n",
      "Epoch 44/100\n",
      "90/90 [==============================] - 0s 4ms/step - loss: 0.0040 - cross entropy: 0.0040 - Brier score: 7.6954e-04 - tp: 195.0000 - fp: 34.0000 - tn: 181913.0000 - fn: 134.0000 - accuracy: 0.9991 - precision: 0.8515 - recall: 0.5927 - auc: 0.9259 - prc: 0.7310 - val_loss: 0.0021 - val_cross entropy: 0.0021 - val_Brier score: 3.8953e-04 - val_tp: 53.0000 - val_fp: 9.0000 - val_tn: 45494.0000 - val_fn: 13.0000 - val_accuracy: 0.9995 - val_precision: 0.8548 - val_recall: 0.8030 - val_auc: 0.9543 - val_prc: 0.8562\n",
      "Epoch 45/100\n",
      "90/90 [==============================] - 0s 5ms/step - loss: 0.0039 - cross entropy: 0.0039 - Brier score: 7.5813e-04 - tp: 189.0000 - fp: 25.0000 - tn: 181922.0000 - fn: 140.0000 - accuracy: 0.9991 - precision: 0.8832 - recall: 0.5745 - auc: 0.9321 - prc: 0.7533 - val_loss: 0.0021 - val_cross entropy: 0.0021 - val_Brier score: 3.9835e-04 - val_tp: 55.0000 - val_fp: 10.0000 - val_tn: 45493.0000 - val_fn: 11.0000 - val_accuracy: 0.9995 - val_precision: 0.8462 - val_recall: 0.8333 - val_auc: 0.9543 - val_prc: 0.8546\n",
      "Epoch 46/100\n"
     ]
    },
    {
     "name": "stdout",
     "output_type": "stream",
     "text": [
      "90/90 [==============================] - 0s 4ms/step - loss: 0.0039 - cross entropy: 0.0039 - Brier score: 7.4382e-04 - tp: 205.0000 - fp: 38.0000 - tn: 181909.0000 - fn: 124.0000 - accuracy: 0.9991 - precision: 0.8436 - recall: 0.6231 - auc: 0.9427 - prc: 0.7456 - val_loss: 0.0021 - val_cross entropy: 0.0021 - val_Brier score: 3.9885e-04 - val_tp: 53.0000 - val_fp: 10.0000 - val_tn: 45493.0000 - val_fn: 13.0000 - val_accuracy: 0.9995 - val_precision: 0.8413 - val_recall: 0.8030 - val_auc: 0.9543 - val_prc: 0.8572\n",
      "Epoch 47/100\n",
      "90/90 [==============================] - 0s 4ms/step - loss: 0.0039 - cross entropy: 0.0039 - Brier score: 7.6381e-04 - tp: 197.0000 - fp: 26.0000 - tn: 181921.0000 - fn: 132.0000 - accuracy: 0.9991 - precision: 0.8834 - recall: 0.5988 - auc: 0.9336 - prc: 0.7461 - val_loss: 0.0021 - val_cross entropy: 0.0021 - val_Brier score: 3.9683e-04 - val_tp: 56.0000 - val_fp: 10.0000 - val_tn: 45493.0000 - val_fn: 10.0000 - val_accuracy: 0.9996 - val_precision: 0.8485 - val_recall: 0.8485 - val_auc: 0.9543 - val_prc: 0.8583\n",
      "Epoch 48/100\n",
      "90/90 [==============================] - 0s 4ms/step - loss: 0.0041 - cross entropy: 0.0041 - Brier score: 7.6667e-04 - tp: 197.0000 - fp: 29.0000 - tn: 181918.0000 - fn: 132.0000 - accuracy: 0.9991 - precision: 0.8717 - recall: 0.5988 - auc: 0.9230 - prc: 0.7285 - val_loss: 0.0021 - val_cross entropy: 0.0021 - val_Brier score: 3.9174e-04 - val_tp: 56.0000 - val_fp: 10.0000 - val_tn: 45493.0000 - val_fn: 10.0000 - val_accuracy: 0.9996 - val_precision: 0.8485 - val_recall: 0.8485 - val_auc: 0.9543 - val_prc: 0.8598\n",
      "Epoch 49/100\n",
      "90/90 [==============================] - 0s 4ms/step - loss: 0.0038 - cross entropy: 0.0038 - Brier score: 7.0979e-04 - tp: 207.0000 - fp: 29.0000 - tn: 181918.0000 - fn: 122.0000 - accuracy: 0.9992 - precision: 0.8771 - recall: 0.6292 - auc: 0.9291 - prc: 0.7527 - val_loss: 0.0021 - val_cross entropy: 0.0021 - val_Brier score: 3.8849e-04 - val_tp: 56.0000 - val_fp: 9.0000 - val_tn: 45494.0000 - val_fn: 10.0000 - val_accuracy: 0.9996 - val_precision: 0.8615 - val_recall: 0.8485 - val_auc: 0.9543 - val_prc: 0.8588\n",
      "Epoch 50/100\n",
      "90/90 [==============================] - 0s 4ms/step - loss: 0.0040 - cross entropy: 0.0040 - Brier score: 7.6593e-04 - tp: 199.0000 - fp: 33.0000 - tn: 181914.0000 - fn: 130.0000 - accuracy: 0.9991 - precision: 0.8578 - recall: 0.6049 - auc: 0.9199 - prc: 0.7173 - val_loss: 0.0021 - val_cross entropy: 0.0021 - val_Brier score: 3.9786e-04 - val_tp: 53.0000 - val_fp: 8.0000 - val_tn: 45495.0000 - val_fn: 13.0000 - val_accuracy: 0.9995 - val_precision: 0.8689 - val_recall: 0.8030 - val_auc: 0.9543 - val_prc: 0.8579\n",
      "Epoch 51/100\n",
      "90/90 [==============================] - 1s 8ms/step - loss: 0.0040 - cross entropy: 0.0040 - Brier score: 7.9680e-04 - tp: 184.0000 - fp: 29.0000 - tn: 181918.0000 - fn: 145.0000 - accuracy: 0.9990 - precision: 0.8638 - recall: 0.5593 - auc: 0.9397 - prc: 0.7415 - val_loss: 0.0021 - val_cross entropy: 0.0021 - val_Brier score: 3.8372e-04 - val_tp: 56.0000 - val_fp: 10.0000 - val_tn: 45493.0000 - val_fn: 10.0000 - val_accuracy: 0.9996 - val_precision: 0.8485 - val_recall: 0.8485 - val_auc: 0.9543 - val_prc: 0.8600\n",
      "Epoch 52/100\n",
      "90/90 [==============================] - 0s 5ms/step - loss: 0.0039 - cross entropy: 0.0039 - Brier score: 7.7652e-04 - tp: 187.0000 - fp: 29.0000 - tn: 181918.0000 - fn: 142.0000 - accuracy: 0.9991 - precision: 0.8657 - recall: 0.5684 - auc: 0.9306 - prc: 0.7447 - val_loss: 0.0022 - val_cross entropy: 0.0022 - val_Brier score: 3.9922e-04 - val_tp: 56.0000 - val_fp: 10.0000 - val_tn: 45493.0000 - val_fn: 10.0000 - val_accuracy: 0.9996 - val_precision: 0.8485 - val_recall: 0.8485 - val_auc: 0.9543 - val_prc: 0.8582\n",
      "Epoch 53/100\n",
      "90/90 [==============================] - 1s 6ms/step - loss: 0.0040 - cross entropy: 0.0040 - Brier score: 7.2293e-04 - tp: 208.0000 - fp: 29.0000 - tn: 181918.0000 - fn: 121.0000 - accuracy: 0.9992 - precision: 0.8776 - recall: 0.6322 - auc: 0.9228 - prc: 0.7338 - val_loss: 0.0021 - val_cross entropy: 0.0021 - val_Brier score: 3.8882e-04 - val_tp: 53.0000 - val_fp: 10.0000 - val_tn: 45493.0000 - val_fn: 13.0000 - val_accuracy: 0.9995 - val_precision: 0.8413 - val_recall: 0.8030 - val_auc: 0.9543 - val_prc: 0.8584\n",
      "Epoch 54/100\n",
      "90/90 [==============================] - 1s 6ms/step - loss: 0.0038 - cross entropy: 0.0038 - Brier score: 7.1385e-04 - tp: 208.0000 - fp: 23.0000 - tn: 181924.0000 - fn: 121.0000 - accuracy: 0.9992 - precision: 0.9004 - recall: 0.6322 - auc: 0.9426 - prc: 0.7354 - val_loss: 0.0021 - val_cross entropy: 0.0021 - val_Brier score: 3.9111e-04 - val_tp: 56.0000 - val_fp: 10.0000 - val_tn: 45493.0000 - val_fn: 10.0000 - val_accuracy: 0.9996 - val_precision: 0.8485 - val_recall: 0.8485 - val_auc: 0.9543 - val_prc: 0.8590\n",
      "Epoch 55/100\n",
      "90/90 [==============================] - 1s 6ms/step - loss: 0.0040 - cross entropy: 0.0040 - Brier score: 7.8179e-04 - tp: 190.0000 - fp: 25.0000 - tn: 181922.0000 - fn: 139.0000 - accuracy: 0.9991 - precision: 0.8837 - recall: 0.5775 - auc: 0.9228 - prc: 0.7287 - val_loss: 0.0021 - val_cross entropy: 0.0021 - val_Brier score: 3.8960e-04 - val_tp: 56.0000 - val_fp: 10.0000 - val_tn: 45493.0000 - val_fn: 10.0000 - val_accuracy: 0.9996 - val_precision: 0.8485 - val_recall: 0.8485 - val_auc: 0.9543 - val_prc: 0.8582\n",
      "Epoch 56/100\n",
      "90/90 [==============================] - 0s 5ms/step - loss: 0.0038 - cross entropy: 0.0038 - Brier score: 7.2327e-04 - tp: 208.0000 - fp: 34.0000 - tn: 181913.0000 - fn: 121.0000 - accuracy: 0.9991 - precision: 0.8595 - recall: 0.6322 - auc: 0.9321 - prc: 0.7645 - val_loss: 0.0021 - val_cross entropy: 0.0021 - val_Brier score: 3.9912e-04 - val_tp: 53.0000 - val_fp: 8.0000 - val_tn: 45495.0000 - val_fn: 13.0000 - val_accuracy: 0.9995 - val_precision: 0.8689 - val_recall: 0.8030 - val_auc: 0.9543 - val_prc: 0.8589\n",
      "Epoch 57/100\n",
      "90/90 [==============================] - 0s 5ms/step - loss: 0.0040 - cross entropy: 0.0040 - Brier score: 7.6772e-04 - tp: 197.0000 - fp: 27.0000 - tn: 181920.0000 - fn: 132.0000 - accuracy: 0.9991 - precision: 0.8795 - recall: 0.5988 - auc: 0.9198 - prc: 0.7213 - val_loss: 0.0021 - val_cross entropy: 0.0021 - val_Brier score: 4.0209e-04 - val_tp: 53.0000 - val_fp: 10.0000 - val_tn: 45493.0000 - val_fn: 13.0000 - val_accuracy: 0.9995 - val_precision: 0.8413 - val_recall: 0.8030 - val_auc: 0.9543 - val_prc: 0.8584\n",
      "Epoch 58/100\n",
      "90/90 [==============================] - 0s 5ms/step - loss: 0.0039 - cross entropy: 0.0039 - Brier score: 7.5591e-04 - tp: 188.0000 - fp: 27.0000 - tn: 181920.0000 - fn: 141.0000 - accuracy: 0.9991 - precision: 0.8744 - recall: 0.5714 - auc: 0.9275 - prc: 0.7419 - val_loss: 0.0021 - val_cross entropy: 0.0021 - val_Brier score: 3.9638e-04 - val_tp: 56.0000 - val_fp: 10.0000 - val_tn: 45493.0000 - val_fn: 10.0000 - val_accuracy: 0.9996 - val_precision: 0.8485 - val_recall: 0.8485 - val_auc: 0.9543 - val_prc: 0.8561\n",
      "Epoch 59/100\n",
      "90/90 [==============================] - 0s 5ms/step - loss: 0.0040 - cross entropy: 0.0040 - Brier score: 7.9504e-04 - tp: 192.0000 - fp: 35.0000 - tn: 181912.0000 - fn: 137.0000 - accuracy: 0.9991 - precision: 0.8458 - recall: 0.5836 - auc: 0.9381 - prc: 0.7379 - val_loss: 0.0021 - val_cross entropy: 0.0021 - val_Brier score: 3.9082e-04 - val_tp: 53.0000 - val_fp: 10.0000 - val_tn: 45493.0000 - val_fn: 13.0000 - val_accuracy: 0.9995 - val_precision: 0.8413 - val_recall: 0.8030 - val_auc: 0.9543 - val_prc: 0.8574\n",
      "Epoch 60/100\n",
      "90/90 [==============================] - 0s 5ms/step - loss: 0.0040 - cross entropy: 0.0040 - Brier score: 7.7601e-04 - tp: 191.0000 - fp: 33.0000 - tn: 181914.0000 - fn: 138.0000 - accuracy: 0.9991 - precision: 0.8527 - recall: 0.5805 - auc: 0.9259 - prc: 0.7201 - val_loss: 0.0021 - val_cross entropy: 0.0021 - val_Brier score: 3.8696e-04 - val_tp: 56.0000 - val_fp: 9.0000 - val_tn: 45494.0000 - val_fn: 10.0000 - val_accuracy: 0.9996 - val_precision: 0.8615 - val_recall: 0.8485 - val_auc: 0.9543 - val_prc: 0.8592\n",
      "Epoch 61/100\n"
     ]
    },
    {
     "name": "stdout",
     "output_type": "stream",
     "text": [
      "83/90 [==========================>...] - ETA: 0s - loss: 0.0035 - cross entropy: 0.0035 - Brier score: 6.5235e-04 - tp: 201.0000 - fp: 26.0000 - tn: 169654.0000 - fn: 103.0000 - accuracy: 0.9992 - precision: 0.8855 - recall: 0.6612 - auc: 0.9348 - prc: 0.7660Restoring model weights from the end of the best epoch: 51.\n",
      "90/90 [==============================] - 0s 5ms/step - loss: 0.0036 - cross entropy: 0.0036 - Brier score: 6.7965e-04 - tp: 212.0000 - fp: 28.0000 - tn: 181919.0000 - fn: 117.0000 - accuracy: 0.9992 - precision: 0.8833 - recall: 0.6444 - auc: 0.9321 - prc: 0.7600 - val_loss: 0.0021 - val_cross entropy: 0.0021 - val_Brier score: 3.9229e-04 - val_tp: 56.0000 - val_fp: 10.0000 - val_tn: 45493.0000 - val_fn: 10.0000 - val_accuracy: 0.9996 - val_precision: 0.8485 - val_recall: 0.8485 - val_auc: 0.9543 - val_prc: 0.8582\n",
      "Epoch 61: early stopping\n"
     ]
    }
   ],
   "source": [
    "model = make_model()\n",
    "model.load_weights(initial_weights)\n",
    "baseline_history = model.fit(\n",
    "    train_features,\n",
    "    train_labels,\n",
    "    batch_size=BATCH_SIZE,\n",
    "    epochs=EPOCHS,\n",
    "    callbacks=[early_stopping],\n",
    "    validation_data=(val_features, val_labels))"
   ]
  },
  {
   "cell_type": "markdown",
   "metadata": {
    "id": "iSaDBYU9xtP6"
   },
   "source": [
    "### Check training history\n",
    "\n",
    "In this section, you will produce plots of your model's accuracy and loss on the training and validation set. These are useful to check for overfitting, which you can learn more about in the [Overfit and underfit](https://www.tensorflow.org/tutorials/keras/overfit_and_underfit) tutorial.\n",
    "\n",
    "Additionally, you can produce these plots for any of the metrics you created above. False negatives are included as an example."
   ]
  },
  {
   "cell_type": "code",
   "execution_count": 26,
   "metadata": {
    "execution": {
     "iopub.execute_input": "2023-07-27T04:53:13.366249Z",
     "iopub.status.busy": "2023-07-27T04:53:13.365951Z",
     "iopub.status.idle": "2023-07-27T04:53:13.372128Z",
     "shell.execute_reply": "2023-07-27T04:53:13.371345Z"
    },
    "id": "WTSkhT1jyGu6"
   },
   "outputs": [],
   "source": [
    "def plot_metrics(history):\n",
    "  metrics = ['loss', 'prc', 'precision', 'recall']\n",
    "  for n, metric in enumerate(metrics):\n",
    "    name = metric.replace(\"_\",\" \").capitalize()\n",
    "    plt.subplot(2,2,n+1)\n",
    "    plt.plot(history.epoch, history.history[metric], color=colors[0], label='Train')\n",
    "    plt.plot(history.epoch, history.history['val_'+metric],\n",
    "             color=colors[0], linestyle=\"--\", label='Val')\n",
    "    plt.xlabel('Epoch')\n",
    "    plt.ylabel(name)\n",
    "    if metric == 'loss':\n",
    "      plt.ylim([0, plt.ylim()[1]])\n",
    "    elif metric == 'auc':\n",
    "      plt.ylim([0.8,1])\n",
    "    else:\n",
    "      plt.ylim([0,1])\n",
    "\n",
    "    plt.legend()"
   ]
  },
  {
   "cell_type": "code",
   "execution_count": 27,
   "metadata": {
    "execution": {
     "iopub.execute_input": "2023-07-27T04:53:13.375112Z",
     "iopub.status.busy": "2023-07-27T04:53:13.374863Z",
     "iopub.status.idle": "2023-07-27T04:53:13.961103Z",
     "shell.execute_reply": "2023-07-27T04:53:13.960412Z"
    },
    "id": "u6LReDsqlZlk"
   },
   "outputs": [],
   "source": [
    "plot_metrics(baseline_history)"
   ]
  },
  {
   "cell_type": "markdown",
   "metadata": {
    "id": "UCa4iWo6WDKR"
   },
   "source": [
    "Note: That the validation curve generally performs better than the training curve. This is mainly caused by the fact that the dropout layer is not active when evaluating the model."
   ]
  },
  {
   "cell_type": "markdown",
   "metadata": {
    "id": "aJC1booryouo"
   },
   "source": [
    "### Evaluate metrics\n",
    "\n",
    "You can use a [confusion matrix](https://developers.google.com/machine-learning/glossary/#confusion_matrix) to summarize the actual vs. predicted labels, where the X axis is the predicted label and the Y axis is the actual label:"
   ]
  },
  {
   "cell_type": "code",
   "execution_count": 28,
   "metadata": {
    "execution": {
     "iopub.execute_input": "2023-07-27T04:53:13.965085Z",
     "iopub.status.busy": "2023-07-27T04:53:13.964845Z",
     "iopub.status.idle": "2023-07-27T04:53:14.384573Z",
     "shell.execute_reply": "2023-07-27T04:53:14.383891Z"
    },
    "id": "aNS796IJKrev"
   },
   "outputs": [],
   "source": [
    "train_predictions_baseline = model.predict(train_features, batch_size=BATCH_SIZE)\n",
    "test_predictions_baseline = model.predict(test_features, batch_size=BATCH_SIZE)"
   ]
  },
  {
   "cell_type": "code",
   "execution_count": 29,
   "metadata": {
    "execution": {
     "iopub.execute_input": "2023-07-27T04:53:14.388308Z",
     "iopub.status.busy": "2023-07-27T04:53:14.387667Z",
     "iopub.status.idle": "2023-07-27T04:53:14.393021Z",
     "shell.execute_reply": "2023-07-27T04:53:14.392448Z"
    },
    "id": "MVWBGfADwbWI"
   },
   "outputs": [],
   "source": [
    "def plot_cm(labels, predictions, threshold=0.5):\n",
    "  cm = confusion_matrix(labels, predictions > threshold)\n",
    "  plt.figure(figsize=(5,5))\n",
    "  sns.heatmap(cm, annot=True, fmt=\"d\")\n",
    "  plt.title('Confusion matrix @{:.2f}'.format(threshold))\n",
    "  plt.ylabel('Actual label')\n",
    "  plt.xlabel('Predicted label')\n",
    "\n",
    "  print('Legitimate Transactions Detected (True Negatives): ', cm[0][0])\n",
    "  print('Legitimate Transactions Incorrectly Detected (False Positives): ', cm[0][1])\n",
    "  print('Fraudulent Transactions Missed (False Negatives): ', cm[1][0])\n",
    "  print('Fraudulent Transactions Detected (True Positives): ', cm[1][1])\n",
    "  print('Total Fraudulent Transactions: ', np.sum(cm[1]))"
   ]
  },
  {
   "cell_type": "markdown",
   "metadata": {
    "id": "nOTjD5Z5Wp1U"
   },
   "source": [
    "Evaluate your model on the test dataset and display the results for the metrics you created above:"
   ]
  },
  {
   "cell_type": "code",
   "execution_count": 30,
   "metadata": {
    "execution": {
     "iopub.execute_input": "2023-07-27T04:53:14.396287Z",
     "iopub.status.busy": "2023-07-27T04:53:14.395818Z",
     "iopub.status.idle": "2023-07-27T04:53:14.734769Z",
     "shell.execute_reply": "2023-07-27T04:53:14.734137Z"
    },
    "id": "poh_hZngt2_9"
   },
   "outputs": [
    {
     "name": "stdout",
     "output_type": "stream",
     "text": [
      "loss :  0.002692745765671134\n",
      "cross entropy :  0.002692745765671134\n",
      "Brier score :  0.0004214174987282604\n",
      "tp :  77.0\n",
      "fp :  7.0\n",
      "tn :  56858.0\n",
      "fn :  20.0\n",
      "accuracy :  0.9995260238647461\n",
      "precision :  0.9166666865348816\n",
      "recall :  0.7938144207000732\n",
      "auc :  0.9429294466972351\n",
      "prc :  0.8425734639167786\n",
      "\n",
      "Legitimate Transactions Detected (True Negatives):  56858\n",
      "Legitimate Transactions Incorrectly Detected (False Positives):  7\n",
      "Fraudulent Transactions Missed (False Negatives):  20\n",
      "Fraudulent Transactions Detected (True Positives):  77\n",
      "Total Fraudulent Transactions:  97\n"
     ]
    }
   ],
   "source": [
    "baseline_results = model.evaluate(test_features, test_labels,\n",
    "                                  batch_size=BATCH_SIZE, verbose=0)\n",
    "for name, value in zip(model.metrics_names, baseline_results):\n",
    "  print(name, ': ', value)\n",
    "print()\n",
    "\n",
    "plot_cm(test_labels, test_predictions_baseline)"
   ]
  },
  {
   "cell_type": "markdown",
   "metadata": {
    "id": "PyZtSr1v6L4t"
   },
   "source": [
    "If the model had predicted everything perfectly (impossible with true randomness), this would be a [diagonal matrix](https://en.wikipedia.org/wiki/Diagonal_matrix) where values off the main diagonal, indicating incorrect predictions, would be zero. In this case, the matrix shows that you have relatively few false positives, meaning that there were relatively few legitimate transactions that were incorrectly flagged."
   ]
  },
  {
   "cell_type": "markdown",
   "metadata": {
    "id": "P-QpQsip_F2Q"
   },
   "source": [
    "### Changing the threshold\n",
    "\n",
    "The default threshold of $t=50\\%$ corresponds to equal costs of false negatives and false positives.\n",
    "In the case of fraud detection, however, you would likely associate higher costs to false negatives than to false positives.\n",
    "This trade off may be preferable because false negatives would allow fraudulent transactions to go through, whereas false positives may cause an email to be sent to a customer to ask them to verify their card activity.\n",
    "\n",
    "By decreasing the threshold, we attribute higher cost to false negatives, thereby increasing missed transactions at the price of more false positives.\n",
    "We test thresholds at 10% and at 1%."
   ]
  },
  {
   "cell_type": "code",
   "execution_count": 31,
   "metadata": {
    "execution": {
     "iopub.execute_input": "2023-07-27T04:53:14.738184Z",
     "iopub.status.busy": "2023-07-27T04:53:14.737593Z",
     "iopub.status.idle": "2023-07-27T04:53:15.088686Z",
     "shell.execute_reply": "2023-07-27T04:53:15.088149Z"
    },
    "id": "52bd793e04bb"
   },
   "outputs": [
    {
     "name": "stdout",
     "output_type": "stream",
     "text": [
      "Legitimate Transactions Detected (True Negatives):  56853\n",
      "Legitimate Transactions Incorrectly Detected (False Positives):  12\n",
      "Fraudulent Transactions Missed (False Negatives):  16\n",
      "Fraudulent Transactions Detected (True Positives):  81\n",
      "Total Fraudulent Transactions:  97\n",
      "Legitimate Transactions Detected (True Negatives):  56772\n",
      "Legitimate Transactions Incorrectly Detected (False Positives):  93\n",
      "Fraudulent Transactions Missed (False Negatives):  15\n",
      "Fraudulent Transactions Detected (True Positives):  82\n",
      "Total Fraudulent Transactions:  97\n"
     ]
    }
   ],
   "source": [
    "plot_cm(test_labels, test_predictions_baseline, threshold=0.1)\n",
    "plot_cm(test_labels, test_predictions_baseline, threshold=0.01)"
   ]
  },
  {
   "cell_type": "markdown",
   "metadata": {
    "id": "P-QpQsip_F2Q"
   },
   "source": [
    "### Plot the ROC\n",
    "\n",
    "Now plot the [ROC](https://developers.google.com/machine-learning/glossary#ROC). This plot is useful because it shows, at a glance, the range of performance the model can reach by tuning the output threshold over its full range (0 to 1). So each point corresponds to a single value of the threshold."
   ]
  },
  {
   "cell_type": "code",
   "execution_count": 32,
   "metadata": {
    "execution": {
     "iopub.execute_input": "2023-07-27T04:53:15.091727Z",
     "iopub.status.busy": "2023-07-27T04:53:15.091501Z",
     "iopub.status.idle": "2023-07-27T04:53:15.095958Z",
     "shell.execute_reply": "2023-07-27T04:53:15.095356Z"
    },
    "id": "lhaxsLSvANF9"
   },
   "outputs": [],
   "source": [
    "def plot_roc(name, labels, predictions, **kwargs):\n",
    "  fp, tp, _ = sklearn.metrics.roc_curve(labels, predictions)\n",
    "\n",
    "  plt.plot(100*fp, 100*tp, label=name, linewidth=2, **kwargs)\n",
    "  plt.xlabel('False positives [%]')\n",
    "  plt.ylabel('True positives [%]')\n",
    "  plt.xlim([-0.5,20])\n",
    "  plt.ylim([80,100.5])\n",
    "  plt.grid(True)\n",
    "  ax = plt.gca()\n",
    "  ax.set_aspect('equal')"
   ]
  },
  {
   "cell_type": "code",
   "execution_count": 33,
   "metadata": {
    "execution": {
     "iopub.execute_input": "2023-07-27T04:53:15.099025Z",
     "iopub.status.busy": "2023-07-27T04:53:15.098453Z",
     "iopub.status.idle": "2023-07-27T04:53:15.357356Z",
     "shell.execute_reply": "2023-07-27T04:53:15.356637Z"
    },
    "id": "DfHHspttKJE0"
   },
   "outputs": [],
   "source": [
    "plot_roc(\"Train Baseline\", train_labels, train_predictions_baseline, color=colors[0])\n",
    "plot_roc(\"Test Baseline\", test_labels, test_predictions_baseline, color=colors[0], linestyle='--')\n",
    "plt.legend(loc='lower right');"
   ]
  },
  {
   "cell_type": "markdown",
   "metadata": {
    "id": "Y5twGRLfNwmO"
   },
   "source": [
    "### Plot the PRC\n",
    "\n",
    "Now plot the [AUPRC](https://developers.google.com/machine-learning/glossary?hl=en#PR_AUC). Area under the interpolated precision-recall curve, obtained by plotting (recall, precision) points for different values of the classification threshold. Depending on how it's calculated, PR AUC may be equivalent to the average precision of the model.\n"
   ]
  },
  {
   "cell_type": "code",
   "execution_count": 34,
   "metadata": {
    "execution": {
     "iopub.execute_input": "2023-07-27T04:53:15.361481Z",
     "iopub.status.busy": "2023-07-27T04:53:15.360847Z",
     "iopub.status.idle": "2023-07-27T04:53:15.365164Z",
     "shell.execute_reply": "2023-07-27T04:53:15.364513Z"
    },
    "id": "XV6JSlFGEqGI"
   },
   "outputs": [],
   "source": [
    "def plot_prc(name, labels, predictions, **kwargs):\n",
    "    precision, recall, _ = sklearn.metrics.precision_recall_curve(labels, predictions)\n",
    "\n",
    "    plt.plot(precision, recall, label=name, linewidth=2, **kwargs)\n",
    "    plt.xlabel('Precision')\n",
    "    plt.ylabel('Recall')\n",
    "    plt.grid(True)\n",
    "    ax = plt.gca()\n",
    "    ax.set_aspect('equal')"
   ]
  },
  {
   "cell_type": "code",
   "execution_count": 35,
   "metadata": {
    "execution": {
     "iopub.execute_input": "2023-07-27T04:53:15.368267Z",
     "iopub.status.busy": "2023-07-27T04:53:15.367836Z",
     "iopub.status.idle": "2023-07-27T04:53:15.620227Z",
     "shell.execute_reply": "2023-07-27T04:53:15.619585Z"
    },
    "id": "FdQs_PcqEsiL"
   },
   "outputs": [],
   "source": [
    "plot_prc(\"Train Baseline\", train_labels, train_predictions_baseline, color=colors[0])\n",
    "plot_prc(\"Test Baseline\", test_labels, test_predictions_baseline, color=colors[0], linestyle='--')\n",
    "plt.legend(loc='lower right');"
   ]
  },
  {
   "cell_type": "markdown",
   "metadata": {
    "id": "gpdsFyp64DhY"
   },
   "source": [
    "It looks like the precision is relatively high, but the recall and the area under the ROC curve (AUC) aren't as high as you might like. Classifiers often face challenges when trying to maximize both precision and recall, which is especially true when working with imbalanced datasets. It is important to consider the costs of different types of errors in the context of the problem you care about. In this example, a false negative (a fraudulent transaction is missed) may have a financial cost, while a false positive (a transaction is incorrectly flagged as fraudulent) may decrease user happiness."
   ]
  },
  {
   "cell_type": "markdown",
   "metadata": {
    "id": "cveQoiMyGQCo"
   },
   "source": [
    "## Class weights"
   ]
  },
  {
   "cell_type": "markdown",
   "metadata": {
    "id": "ePGp6GUE1WfH"
   },
   "source": [
    "### Calculate class weights\n",
    "\n",
    "The goal is to identify fraudulent transactions, but you don't have very many of those positive samples to work with, so you would want to have the classifier heavily weight the few examples that are available. You can do this by passing Keras weights for each class through a parameter. These will cause the model to \"pay more attention\" to examples from an under-represented class. Note, however, that this does not increase in any way the amount of information of your dataset. In the end, using class weights is more or less equivalent to changing the output bias or to changing the threshold. Let's see how it works out."
   ]
  },
  {
   "cell_type": "code",
   "execution_count": 36,
   "metadata": {
    "execution": {
     "iopub.execute_input": "2023-07-27T04:53:15.623984Z",
     "iopub.status.busy": "2023-07-27T04:53:15.623400Z",
     "iopub.status.idle": "2023-07-27T04:53:15.627729Z",
     "shell.execute_reply": "2023-07-27T04:53:15.627129Z"
    },
    "id": "qjGWErngGny7"
   },
   "outputs": [
    {
     "name": "stdout",
     "output_type": "stream",
     "text": [
      "Weight for class 0: 0.50\n",
      "Weight for class 1: 289.44\n"
     ]
    }
   ],
   "source": [
    "# Scaling by total/2 helps keep the loss to a similar magnitude.\n",
    "# The sum of the weights of all examples stays the same.\n",
    "weight_for_0 = (1 / neg) * (total / 2.0)\n",
    "weight_for_1 = (1 / pos) * (total / 2.0)\n",
    "\n",
    "class_weight = {0: weight_for_0, 1: weight_for_1}\n",
    "\n",
    "print('Weight for class 0: {:.2f}'.format(weight_for_0))\n",
    "print('Weight for class 1: {:.2f}'.format(weight_for_1))"
   ]
  },
  {
   "cell_type": "markdown",
   "metadata": {
    "id": "Mk1OOE2ZSHzy"
   },
   "source": [
    "### Train a model with class weights\n",
    "\n",
    "Now try re-training and evaluating the model with class weights to see how that affects the predictions.\n",
    "\n",
    "Note: Using `class_weights` changes the range of the loss. This may affect the stability of the training depending on the optimizer. Optimizers whose step size is dependent on the magnitude of the gradient, like `tf.keras.optimizers.SGD`, may fail. The optimizer used here, `tf.keras.optimizers.Adam`, is unaffected by the scaling change. Also note that because of the weighting, the total losses are not comparable between the two models."
   ]
  },
  {
   "cell_type": "code",
   "execution_count": 37,
   "metadata": {
    "execution": {
     "iopub.execute_input": "2023-07-27T04:53:15.630589Z",
     "iopub.status.busy": "2023-07-27T04:53:15.630333Z",
     "iopub.status.idle": "2023-07-27T04:53:23.316824Z",
     "shell.execute_reply": "2023-07-27T04:53:23.316003Z"
    },
    "id": "UJ589fn8ST3x"
   },
   "outputs": [
    {
     "name": "stdout",
     "output_type": "stream",
     "text": [
      "Epoch 1/100\n",
      "90/90 [==============================] - 5s 23ms/step - loss: 2.5327 - cross entropy: 0.0096 - Brier score: 0.0014 - tp: 115.0000 - fp: 72.0000 - tn: 238740.0000 - fn: 311.0000 - accuracy: 0.9984 - precision: 0.6150 - recall: 0.2700 - auc: 0.7867 - prc: 0.3237 - val_loss: 0.0052 - val_cross entropy: 0.0052 - val_Brier score: 8.4343e-04 - val_tp: 24.0000 - val_fp: 5.0000 - val_tn: 45498.0000 - val_fn: 42.0000 - val_accuracy: 0.9990 - val_precision: 0.8276 - val_recall: 0.3636 - val_auc: 0.9277 - val_prc: 0.6120\n",
      "Epoch 2/100\n",
      "90/90 [==============================] - 0s 5ms/step - loss: 1.3374 - cross entropy: 0.0111 - Brier score: 0.0017 - tp: 148.0000 - fp: 177.0000 - tn: 181770.0000 - fn: 181.0000 - accuracy: 0.9980 - precision: 0.4554 - recall: 0.4498 - auc: 0.8603 - prc: 0.3985 - val_loss: 0.0057 - val_cross entropy: 0.0057 - val_Brier score: 6.6268e-04 - val_tp: 50.0000 - val_fp: 16.0000 - val_tn: 45487.0000 - val_fn: 16.0000 - val_accuracy: 0.9993 - val_precision: 0.7576 - val_recall: 0.7576 - val_auc: 0.9406 - val_prc: 0.7016\n",
      "Epoch 3/100\n",
      "90/90 [==============================] - 0s 4ms/step - loss: 1.0993 - cross entropy: 0.0156 - Brier score: 0.0026 - tp: 193.0000 - fp: 402.0000 - tn: 181545.0000 - fn: 136.0000 - accuracy: 0.9970 - precision: 0.3244 - recall: 0.5866 - auc: 0.8598 - prc: 0.4297 - val_loss: 0.0079 - val_cross entropy: 0.0079 - val_Brier score: 0.0010 - val_tp: 55.0000 - val_fp: 46.0000 - val_tn: 45457.0000 - val_fn: 11.0000 - val_accuracy: 0.9987 - val_precision: 0.5446 - val_recall: 0.8333 - val_auc: 0.9441 - val_prc: 0.7460\n",
      "Epoch 4/100\n",
      "90/90 [==============================] - 0s 5ms/step - loss: 0.8757 - cross entropy: 0.0227 - Brier score: 0.0040 - tp: 210.0000 - fp: 707.0000 - tn: 181240.0000 - fn: 119.0000 - accuracy: 0.9955 - precision: 0.2290 - recall: 0.6383 - auc: 0.8860 - prc: 0.4170 - val_loss: 0.0115 - val_cross entropy: 0.0115 - val_Brier score: 0.0017 - val_tp: 58.0000 - val_fp: 76.0000 - val_tn: 45427.0000 - val_fn: 8.0000 - val_accuracy: 0.9982 - val_precision: 0.4328 - val_recall: 0.8788 - val_auc: 0.9594 - val_prc: 0.7603\n",
      "Epoch 5/100\n",
      "90/90 [==============================] - 0s 4ms/step - loss: 0.7653 - cross entropy: 0.0307 - Brier score: 0.0058 - tp: 233.0000 - fp: 1145.0000 - tn: 180802.0000 - fn: 96.0000 - accuracy: 0.9932 - precision: 0.1691 - recall: 0.7082 - auc: 0.8829 - prc: 0.4373 - val_loss: 0.0158 - val_cross entropy: 0.0158 - val_Brier score: 0.0025 - val_tp: 58.0000 - val_fp: 131.0000 - val_tn: 45372.0000 - val_fn: 8.0000 - val_accuracy: 0.9969 - val_precision: 0.3069 - val_recall: 0.8788 - val_auc: 0.9583 - val_prc: 0.7618\n",
      "Epoch 6/100\n",
      "90/90 [==============================] - 0s 5ms/step - loss: 0.7392 - cross entropy: 0.0431 - Brier score: 0.0086 - tp: 232.0000 - fp: 1741.0000 - tn: 180206.0000 - fn: 97.0000 - accuracy: 0.9899 - precision: 0.1176 - recall: 0.7052 - auc: 0.8852 - prc: 0.3278 - val_loss: 0.0225 - val_cross entropy: 0.0225 - val_Brier score: 0.0040 - val_tp: 59.0000 - val_fp: 222.0000 - val_tn: 45281.0000 - val_fn: 7.0000 - val_accuracy: 0.9950 - val_precision: 0.2100 - val_recall: 0.8939 - val_auc: 0.9594 - val_prc: 0.7378\n",
      "Epoch 7/100\n",
      "90/90 [==============================] - 0s 4ms/step - loss: 0.6646 - cross entropy: 0.0588 - Brier score: 0.0124 - tp: 238.0000 - fp: 2571.0000 - tn: 179376.0000 - fn: 91.0000 - accuracy: 0.9854 - precision: 0.0847 - recall: 0.7234 - auc: 0.8909 - prc: 0.3005 - val_loss: 0.0307 - val_cross entropy: 0.0307 - val_Brier score: 0.0059 - val_tp: 59.0000 - val_fp: 345.0000 - val_tn: 45158.0000 - val_fn: 7.0000 - val_accuracy: 0.9923 - val_precision: 0.1460 - val_recall: 0.8939 - val_auc: 0.9637 - val_prc: 0.6804\n",
      "Epoch 8/100\n",
      "90/90 [==============================] - 0s 4ms/step - loss: 0.5186 - cross entropy: 0.0722 - Brier score: 0.0155 - tp: 253.0000 - fp: 3278.0000 - tn: 178669.0000 - fn: 76.0000 - accuracy: 0.9816 - precision: 0.0717 - recall: 0.7690 - auc: 0.9207 - prc: 0.2771 - val_loss: 0.0394 - val_cross entropy: 0.0394 - val_Brier score: 0.0081 - val_tp: 59.0000 - val_fp: 459.0000 - val_tn: 45044.0000 - val_fn: 7.0000 - val_accuracy: 0.9898 - val_precision: 0.1139 - val_recall: 0.8939 - val_auc: 0.9723 - val_prc: 0.6244\n",
      "Epoch 9/100\n",
      "90/90 [==============================] - 0s 4ms/step - loss: 0.5478 - cross entropy: 0.0946 - Brier score: 0.0209 - tp: 249.0000 - fp: 4470.0000 - tn: 177477.0000 - fn: 80.0000 - accuracy: 0.9750 - precision: 0.0528 - recall: 0.7568 - auc: 0.9091 - prc: 0.2226 - val_loss: 0.0496 - val_cross entropy: 0.0496 - val_Brier score: 0.0104 - val_tp: 59.0000 - val_fp: 585.0000 - val_tn: 44918.0000 - val_fn: 7.0000 - val_accuracy: 0.9870 - val_precision: 0.0916 - val_recall: 0.8939 - val_auc: 0.9733 - val_prc: 0.5670\n",
      "Epoch 10/100\n",
      "90/90 [==============================] - 0s 5ms/step - loss: 0.4659 - cross entropy: 0.1053 - Brier score: 0.0231 - tp: 264.0000 - fp: 5025.0000 - tn: 176922.0000 - fn: 65.0000 - accuracy: 0.9721 - precision: 0.0499 - recall: 0.8024 - auc: 0.9239 - prc: 0.2067 - val_loss: 0.0567 - val_cross entropy: 0.0567 - val_Brier score: 0.0120 - val_tp: 59.0000 - val_fp: 668.0000 - val_tn: 44835.0000 - val_fn: 7.0000 - val_accuracy: 0.9852 - val_precision: 0.0812 - val_recall: 0.8939 - val_auc: 0.9760 - val_prc: 0.5553\n",
      "Epoch 11/100\n",
      "90/90 [==============================] - 0s 4ms/step - loss: 0.4334 - cross entropy: 0.1245 - Brier score: 0.0279 - tp: 263.0000 - fp: 6142.0000 - tn: 175805.0000 - fn: 66.0000 - accuracy: 0.9659 - precision: 0.0411 - recall: 0.7994 - auc: 0.9325 - prc: 0.1959 - val_loss: 0.0663 - val_cross entropy: 0.0663 - val_Brier score: 0.0141 - val_tp: 60.0000 - val_fp: 757.0000 - val_tn: 44746.0000 - val_fn: 6.0000 - val_accuracy: 0.9833 - val_precision: 0.0734 - val_recall: 0.9091 - val_auc: 0.9763 - val_prc: 0.5385\n",
      "Epoch 12/100\n",
      "90/90 [==============================] - 0s 4ms/step - loss: 0.4124 - cross entropy: 0.1312 - Brier score: 0.0293 - tp: 275.0000 - fp: 6441.0000 - tn: 175506.0000 - fn: 54.0000 - accuracy: 0.9644 - precision: 0.0409 - recall: 0.8359 - auc: 0.9296 - prc: 0.1908 - val_loss: 0.0700 - val_cross entropy: 0.0700 - val_Brier score: 0.0149 - val_tp: 60.0000 - val_fp: 793.0000 - val_tn: 44710.0000 - val_fn: 6.0000 - val_accuracy: 0.9825 - val_precision: 0.0703 - val_recall: 0.9091 - val_auc: 0.9792 - val_prc: 0.5126\n",
      "Epoch 13/100\n",
      "90/90 [==============================] - 0s 4ms/step - loss: 0.4001 - cross entropy: 0.1420 - Brier score: 0.0315 - tp: 273.0000 - fp: 6983.0000 - tn: 174964.0000 - fn: 56.0000 - accuracy: 0.9614 - precision: 0.0376 - recall: 0.8298 - auc: 0.9331 - prc: 0.1876 - val_loss: 0.0747 - val_cross entropy: 0.0747 - val_Brier score: 0.0159 - val_tp: 60.0000 - val_fp: 852.0000 - val_tn: 44651.0000 - val_fn: 6.0000 - val_accuracy: 0.9812 - val_precision: 0.0658 - val_recall: 0.9091 - val_auc: 0.9804 - val_prc: 0.4894\n",
      "Epoch 14/100\n",
      "90/90 [==============================] - 0s 4ms/step - loss: 0.3981 - cross entropy: 0.1474 - Brier score: 0.0330 - tp: 272.0000 - fp: 7340.0000 - tn: 174607.0000 - fn: 57.0000 - accuracy: 0.9594 - precision: 0.0357 - recall: 0.8267 - auc: 0.9348 - prc: 0.1699 - val_loss: 0.0799 - val_cross entropy: 0.0799 - val_Brier score: 0.0170 - val_tp: 60.0000 - val_fp: 895.0000 - val_tn: 44608.0000 - val_fn: 6.0000 - val_accuracy: 0.9802 - val_precision: 0.0628 - val_recall: 0.9091 - val_auc: 0.9803 - val_prc: 0.4716\n",
      "Epoch 15/100\n",
      "83/90 [==========================>...] - ETA: 0s - loss: 0.3959 - cross entropy: 0.1526 - Brier score: 0.0339 - tp: 252.0000 - fp: 6985.0000 - tn: 162697.0000 - fn: 50.0000 - accuracy: 0.9586 - precision: 0.0348 - recall: 0.8344 - auc: 0.9326 - prc: 0.1682Restoring model weights from the end of the best epoch: 5.\n",
      "90/90 [==============================] - 0s 4ms/step - loss: 0.4135 - cross entropy: 0.1526 - Brier score: 0.0339 - tp: 273.0000 - fp: 7502.0000 - tn: 174445.0000 - fn: 56.0000 - accuracy: 0.9585 - precision: 0.0351 - recall: 0.8298 - auc: 0.9305 - prc: 0.1658 - val_loss: 0.0821 - val_cross entropy: 0.0821 - val_Brier score: 0.0174 - val_tp: 60.0000 - val_fp: 909.0000 - val_tn: 44594.0000 - val_fn: 6.0000 - val_accuracy: 0.9799 - val_precision: 0.0619 - val_recall: 0.9091 - val_auc: 0.9819 - val_prc: 0.4674\n"
     ]
    },
    {
     "name": "stdout",
     "output_type": "stream",
     "text": [
      "Epoch 15: early stopping\n"
     ]
    }
   ],
   "source": [
    "weighted_model = make_model()\n",
    "weighted_model.load_weights(initial_weights)\n",
    "\n",
    "weighted_history = weighted_model.fit(\n",
    "    train_features,\n",
    "    train_labels,\n",
    "    batch_size=BATCH_SIZE,\n",
    "    epochs=EPOCHS,\n",
    "    callbacks=[early_stopping],\n",
    "    validation_data=(val_features, val_labels),\n",
    "    # The class weights go here\n",
    "    class_weight=class_weight) "
   ]
  },
  {
   "cell_type": "markdown",
   "metadata": {
    "id": "R0ynYRO0G3Lx"
   },
   "source": [
    "### Check training history"
   ]
  },
  {
   "cell_type": "code",
   "execution_count": 38,
   "metadata": {
    "execution": {
     "iopub.execute_input": "2023-07-27T04:53:23.320445Z",
     "iopub.status.busy": "2023-07-27T04:53:23.320190Z",
     "iopub.status.idle": "2023-07-27T04:53:23.910515Z",
     "shell.execute_reply": "2023-07-27T04:53:23.909717Z"
    },
    "id": "BBe9FMO5ucTC"
   },
   "outputs": [],
   "source": [
    "plot_metrics(weighted_history)"
   ]
  },
  {
   "cell_type": "markdown",
   "metadata": {
    "id": "REy6WClTZIwQ"
   },
   "source": [
    "### Evaluate metrics"
   ]
  },
  {
   "cell_type": "code",
   "execution_count": 39,
   "metadata": {
    "execution": {
     "iopub.execute_input": "2023-07-27T04:53:23.914596Z",
     "iopub.status.busy": "2023-07-27T04:53:23.914268Z",
     "iopub.status.idle": "2023-07-27T04:53:24.317498Z",
     "shell.execute_reply": "2023-07-27T04:53:24.316779Z"
    },
    "id": "nifqscPGw-5w"
   },
   "outputs": [],
   "source": [
    "train_predictions_weighted = weighted_model.predict(train_features, batch_size=BATCH_SIZE)\n",
    "test_predictions_weighted = weighted_model.predict(test_features, batch_size=BATCH_SIZE)"
   ]
  },
  {
   "cell_type": "code",
   "execution_count": 40,
   "metadata": {
    "execution": {
     "iopub.execute_input": "2023-07-27T04:53:24.320967Z",
     "iopub.status.busy": "2023-07-27T04:53:24.320725Z",
     "iopub.status.idle": "2023-07-27T04:53:24.657163Z",
     "shell.execute_reply": "2023-07-27T04:53:24.656495Z"
    },
    "id": "owKL2vdMBJr6"
   },
   "outputs": [
    {
     "name": "stdout",
     "output_type": "stream",
     "text": [
      "loss :  0.015621509402990341\n",
      "cross entropy :  0.015621509402990341\n",
      "Brier score :  0.002418939722701907\n",
      "tp :  83.0\n",
      "fp :  139.0\n",
      "tn :  56726.0\n",
      "fn :  14.0\n",
      "accuracy :  0.9973139762878418\n",
      "precision :  0.37387385964393616\n",
      "recall :  0.8556700944900513\n",
      "auc :  0.9491804838180542\n",
      "prc :  0.7415635585784912\n",
      "\n",
      "Legitimate Transactions Detected (True Negatives):  56726\n",
      "Legitimate Transactions Incorrectly Detected (False Positives):  139\n",
      "Fraudulent Transactions Missed (False Negatives):  14\n",
      "Fraudulent Transactions Detected (True Positives):  83\n",
      "Total Fraudulent Transactions:  97\n"
     ]
    }
   ],
   "source": [
    "weighted_results = weighted_model.evaluate(test_features, test_labels,\n",
    "                                           batch_size=BATCH_SIZE, verbose=0)\n",
    "for name, value in zip(weighted_model.metrics_names, weighted_results):\n",
    "  print(name, ': ', value)\n",
    "print()\n",
    "\n",
    "plot_cm(test_labels, test_predictions_weighted)"
   ]
  },
  {
   "cell_type": "markdown",
   "metadata": {
    "id": "PTh1rtDn8r4-"
   },
   "source": [
    "Here you can see that with class weights the accuracy and precision are lower because there are more false positives, but conversely the recall and AUC are higher because the model also found more true positives. Despite having lower accuracy, this model has higher recall (and identifies more fraudulent transactions than the baseline model at threshold 50%). Of course, there is a cost to both types of error (you wouldn't want to bug users by flagging too many legitimate transactions as fraudulent, either). Carefully consider the trade-offs between these different types of errors for your application.\n",
    "\n",
    "Compared to the baseline model with changed threshold, the class weighted model is clearly inferior. The superiority of the baseline model is further confirmed by the lower test loss value (cross entropy and mean squared error) and additionally can be seen by plotting the ROC curves of both models together."
   ]
  },
  {
   "cell_type": "markdown",
   "metadata": {
    "id": "hXDAwyr0HYdX"
   },
   "source": [
    "### Plot the ROC"
   ]
  },
  {
   "cell_type": "code",
   "execution_count": 41,
   "metadata": {
    "execution": {
     "iopub.execute_input": "2023-07-27T04:53:24.660757Z",
     "iopub.status.busy": "2023-07-27T04:53:24.660183Z",
     "iopub.status.idle": "2023-07-27T04:53:24.981593Z",
     "shell.execute_reply": "2023-07-27T04:53:24.980925Z"
    },
    "id": "3hzScIVZS1Xm"
   },
   "outputs": [],
   "source": [
    "plot_roc(\"Train Baseline\", train_labels, train_predictions_baseline, color=colors[0])\n",
    "plot_roc(\"Test Baseline\", test_labels, test_predictions_baseline, color=colors[0], linestyle='--')\n",
    "\n",
    "plot_roc(\"Train Weighted\", train_labels, train_predictions_weighted, color=colors[1])\n",
    "plot_roc(\"Test Weighted\", test_labels, test_predictions_weighted, color=colors[1], linestyle='--')\n",
    "\n",
    "\n",
    "plt.legend(loc='lower right');"
   ]
  },
  {
   "cell_type": "markdown",
   "metadata": {
    "id": "_0krS8g1OTbD"
   },
   "source": [
    "### Plot the PRC"
   ]
  },
  {
   "cell_type": "code",
   "execution_count": 42,
   "metadata": {
    "execution": {
     "iopub.execute_input": "2023-07-27T04:53:24.985665Z",
     "iopub.status.busy": "2023-07-27T04:53:24.985139Z",
     "iopub.status.idle": "2023-07-27T04:53:25.550248Z",
     "shell.execute_reply": "2023-07-27T04:53:25.549571Z"
    },
    "id": "7jHnmVebOWOC"
   },
   "outputs": [],
   "source": [
    "plot_prc(\"Train Baseline\", train_labels, train_predictions_baseline, color=colors[0])\n",
    "plot_prc(\"Test Baseline\", test_labels, test_predictions_baseline, color=colors[0], linestyle='--')\n",
    "\n",
    "plot_prc(\"Train Weighted\", train_labels, train_predictions_weighted, color=colors[1])\n",
    "plot_prc(\"Test Weighted\", test_labels, test_predictions_weighted, color=colors[1], linestyle='--')\n",
    "\n",
    "\n",
    "plt.legend(loc='lower right');"
   ]
  },
  {
   "cell_type": "markdown",
   "metadata": {
    "id": "5ysRtr6xHnXP"
   },
   "source": [
    "## Oversampling"
   ]
  },
  {
   "cell_type": "markdown",
   "metadata": {
    "id": "18VUHNc-UF5w"
   },
   "source": [
    "### Oversample the minority class\n",
    "\n",
    "A related approach would be to resample the dataset by oversampling the minority class."
   ]
  },
  {
   "cell_type": "code",
   "execution_count": 43,
   "metadata": {
    "execution": {
     "iopub.execute_input": "2023-07-27T04:53:25.554219Z",
     "iopub.status.busy": "2023-07-27T04:53:25.553626Z",
     "iopub.status.idle": "2023-07-27T04:53:25.578056Z",
     "shell.execute_reply": "2023-07-27T04:53:25.577261Z"
    },
    "id": "sHirNp6u7OWp"
   },
   "outputs": [],
   "source": [
    "pos_features = train_features[bool_train_labels]\n",
    "neg_features = train_features[~bool_train_labels]\n",
    "\n",
    "pos_labels = train_labels[bool_train_labels]\n",
    "neg_labels = train_labels[~bool_train_labels]"
   ]
  },
  {
   "cell_type": "markdown",
   "metadata": {
    "id": "WgBVbX7P7QrL"
   },
   "source": [
    "#### Using NumPy\n",
    "\n",
    "You can balance the dataset manually by choosing the right number of random \n",
    "indices from the positive examples:"
   ]
  },
  {
   "cell_type": "code",
   "execution_count": 44,
   "metadata": {
    "execution": {
     "iopub.execute_input": "2023-07-27T04:53:25.582295Z",
     "iopub.status.busy": "2023-07-27T04:53:25.581684Z",
     "iopub.status.idle": "2023-07-27T04:53:25.606113Z",
     "shell.execute_reply": "2023-07-27T04:53:25.605470Z"
    },
    "id": "BUzGjSkwqT88"
   },
   "outputs": [
    {
     "data": {
      "text/plain": [
       "(181947, 29)"
      ]
     },
     "execution_count": 44,
     "metadata": {},
     "output_type": "execute_result"
    }
   ],
   "source": [
    "ids = np.arange(len(pos_features))\n",
    "choices = np.random.choice(ids, len(neg_features))\n",
    "\n",
    "res_pos_features = pos_features[choices]\n",
    "res_pos_labels = pos_labels[choices]\n",
    "\n",
    "res_pos_features.shape"
   ]
  },
  {
   "cell_type": "code",
   "execution_count": 45,
   "metadata": {
    "execution": {
     "iopub.execute_input": "2023-07-27T04:53:25.609779Z",
     "iopub.status.busy": "2023-07-27T04:53:25.609179Z",
     "iopub.status.idle": "2023-07-27T04:53:25.716726Z",
     "shell.execute_reply": "2023-07-27T04:53:25.716036Z"
    },
    "id": "7ie_FFet6cep"
   },
   "outputs": [
    {
     "data": {
      "text/plain": [
       "(363894, 29)"
      ]
     },
     "execution_count": 45,
     "metadata": {},
     "output_type": "execute_result"
    }
   ],
   "source": [
    "resampled_features = np.concatenate([res_pos_features, neg_features], axis=0)\n",
    "resampled_labels = np.concatenate([res_pos_labels, neg_labels], axis=0)\n",
    "\n",
    "order = np.arange(len(resampled_labels))\n",
    "np.random.shuffle(order)\n",
    "resampled_features = resampled_features[order]\n",
    "resampled_labels = resampled_labels[order]\n",
    "\n",
    "resampled_features.shape"
   ]
  },
  {
   "cell_type": "markdown",
   "metadata": {
    "id": "IYfJe2Kc-FAz"
   },
   "source": [
    "#### Using `tf.data`"
   ]
  },
  {
   "cell_type": "markdown",
   "metadata": {
    "id": "usyixaST8v5P"
   },
   "source": [
    "If you're using `tf.data` the easiest way to produce balanced examples is to start with a `positive` and a `negative` dataset, and merge them. See [the tf.data guide](../../guide/data.ipynb) for more examples."
   ]
  },
  {
   "cell_type": "code",
   "execution_count": 46,
   "metadata": {
    "execution": {
     "iopub.execute_input": "2023-07-27T04:53:25.720318Z",
     "iopub.status.busy": "2023-07-27T04:53:25.720074Z",
     "iopub.status.idle": "2023-07-27T04:53:25.835970Z",
     "shell.execute_reply": "2023-07-27T04:53:25.835284Z"
    },
    "id": "yF4OZ-rI6xb6"
   },
   "outputs": [],
   "source": [
    "BUFFER_SIZE = 100000\n",
    "\n",
    "def make_ds(features, labels):\n",
    "  ds = tf.data.Dataset.from_tensor_slices((features, labels))#.cache()\n",
    "  ds = ds.shuffle(BUFFER_SIZE).repeat()\n",
    "  return ds\n",
    "\n",
    "pos_ds = make_ds(pos_features, pos_labels)\n",
    "neg_ds = make_ds(neg_features, neg_labels)"
   ]
  },
  {
   "cell_type": "markdown",
   "metadata": {
    "id": "RNQUx-OA-oJc"
   },
   "source": [
    "Each dataset provides `(feature, label)` pairs:"
   ]
  },
  {
   "cell_type": "code",
   "execution_count": 47,
   "metadata": {
    "execution": {
     "iopub.execute_input": "2023-07-27T04:53:25.839360Z",
     "iopub.status.busy": "2023-07-27T04:53:25.839128Z",
     "iopub.status.idle": "2023-07-27T04:53:25.856693Z",
     "shell.execute_reply": "2023-07-27T04:53:25.856098Z"
    },
    "id": "llXc9rNH7Fbz"
   },
   "outputs": [
    {
     "name": "stdout",
     "output_type": "stream",
     "text": [
      "Features:\n",
      " [-3.78197692 -4.51862832 -3.10537408  2.62774362  4.5380158  -4.83524305\n",
      " -4.77803628  1.21810765 -0.5874832  -3.71476199  2.47461248 -3.29819384\n",
      " -1.99791605 -5.         -0.9572825  -1.76620561 -2.2403598   0.59439953\n",
      "  0.16838202  3.82008469  1.60532133 -1.34609337 -0.44933093 -1.04829141\n",
      "  0.23582722  0.83973373  1.77561726 -3.77978759  0.30506335]\n",
      "\n",
      "Label:  1\n"
     ]
    }
   ],
   "source": [
    "for features, label in pos_ds.take(1):\n",
    "  print(\"Features:\\n\", features.numpy())\n",
    "  print()\n",
    "  print(\"Label: \", label.numpy())"
   ]
  },
  {
   "cell_type": "markdown",
   "metadata": {
    "id": "sLEfjZO0-vbN"
   },
   "source": [
    "Merge the two together using `tf.data.Dataset.sample_from_datasets`:"
   ]
  },
  {
   "cell_type": "code",
   "execution_count": 48,
   "metadata": {
    "execution": {
     "iopub.execute_input": "2023-07-27T04:53:25.860155Z",
     "iopub.status.busy": "2023-07-27T04:53:25.859533Z",
     "iopub.status.idle": "2023-07-27T04:53:25.881011Z",
     "shell.execute_reply": "2023-07-27T04:53:25.880423Z"
    },
    "id": "e7w9UQPT9wzE"
   },
   "outputs": [],
   "source": [
    "resampled_ds = tf.data.Dataset.sample_from_datasets([pos_ds, neg_ds], weights=[0.5, 0.5])\n",
    "resampled_ds = resampled_ds.batch(BATCH_SIZE).prefetch(2)"
   ]
  },
  {
   "cell_type": "code",
   "execution_count": 49,
   "metadata": {
    "execution": {
     "iopub.execute_input": "2023-07-27T04:53:25.883924Z",
     "iopub.status.busy": "2023-07-27T04:53:25.883696Z",
     "iopub.status.idle": "2023-07-27T04:53:26.147342Z",
     "shell.execute_reply": "2023-07-27T04:53:26.146428Z"
    },
    "id": "EWXARdTdAuQK"
   },
   "outputs": [
    {
     "name": "stdout",
     "output_type": "stream",
     "text": [
      "0.5029296875\n"
     ]
    }
   ],
   "source": [
    "for features, label in resampled_ds.take(1):\n",
    "  print(label.numpy().mean())"
   ]
  },
  {
   "cell_type": "markdown",
   "metadata": {
    "id": "irgqf3YxAyN0"
   },
   "source": [
    "To use this dataset, you'll need the number of steps per epoch.\n",
    "\n",
    "The definition of \"epoch\" in this case is less clear. Say it's the number of batches required to see each negative example once:"
   ]
  },
  {
   "cell_type": "code",
   "execution_count": 50,
   "metadata": {
    "execution": {
     "iopub.execute_input": "2023-07-27T04:53:26.150810Z",
     "iopub.status.busy": "2023-07-27T04:53:26.150536Z",
     "iopub.status.idle": "2023-07-27T04:53:26.155065Z",
     "shell.execute_reply": "2023-07-27T04:53:26.154446Z"
    },
    "id": "xH-7K46AAxpq"
   },
   "outputs": [
    {
     "data": {
      "text/plain": [
       "278.0"
      ]
     },
     "execution_count": 50,
     "metadata": {},
     "output_type": "execute_result"
    }
   ],
   "source": [
    "resampled_steps_per_epoch = np.ceil(2.0*neg/BATCH_SIZE)\n",
    "resampled_steps_per_epoch"
   ]
  },
  {
   "cell_type": "markdown",
   "metadata": {
    "id": "XZ1BvEpcBVHP"
   },
   "source": [
    "### Train on the oversampled data\n",
    "\n",
    "Now try training the model with the resampled data set instead of using class weights to see how these methods compare.\n",
    "\n",
    "Note: Because the data was balanced by replicating the positive examples, the total dataset size is larger, and each epoch runs for more training steps. "
   ]
  },
  {
   "cell_type": "code",
   "execution_count": 51,
   "metadata": {
    "execution": {
     "iopub.execute_input": "2023-07-27T04:53:26.158153Z",
     "iopub.status.busy": "2023-07-27T04:53:26.157589Z",
     "iopub.status.idle": "2023-07-27T04:54:30.202190Z",
     "shell.execute_reply": "2023-07-27T04:54:30.201466Z"
    },
    "id": "soRQ89JYqd6b"
   },
   "outputs": [
    {
     "name": "stdout",
     "output_type": "stream",
     "text": [
      "Epoch 1/100\n",
      "278/278 [==============================] - 17s 36ms/step - loss: 0.4211 - cross entropy: 0.3842 - Brier score: 0.1193 - tp: 220814.0000 - fp: 42429.0000 - tn: 299241.0000 - fn: 63822.0000 - accuracy: 0.8304 - precision: 0.8388 - recall: 0.7758 - auc: 0.9013 - prc: 0.9137 - val_loss: 0.1594 - val_cross entropy: 0.1594 - val_Brier score: 0.0320 - val_tp: 60.0000 - val_fp: 894.0000 - val_tn: 44609.0000 - val_fn: 6.0000 - val_accuracy: 0.9802 - val_precision: 0.0629 - val_recall: 0.9091 - val_auc: 0.9770 - val_prc: 0.7710\n",
      "Epoch 2/100\n",
      "278/278 [==============================] - 7s 25ms/step - loss: 0.2066 - cross entropy: 0.2066 - Brier score: 0.0628 - tp: 245583.0000 - fp: 14190.0000 - tn: 270815.0000 - fn: 38756.0000 - accuracy: 0.9070 - precision: 0.9454 - recall: 0.8637 - auc: 0.9720 - prc: 0.9767 - val_loss: 0.0902 - val_cross entropy: 0.0902 - val_Brier score: 0.0176 - val_tp: 60.0000 - val_fp: 677.0000 - val_tn: 44826.0000 - val_fn: 6.0000 - val_accuracy: 0.9850 - val_precision: 0.0814 - val_recall: 0.9091 - val_auc: 0.9851 - val_prc: 0.7486\n",
      "Epoch 3/100\n",
      "278/278 [==============================] - 7s 25ms/step - loss: 0.1621 - cross entropy: 0.1621 - Brier score: 0.0497 - tp: 250128.0000 - fp: 10621.0000 - tn: 274417.0000 - fn: 34178.0000 - accuracy: 0.9213 - precision: 0.9593 - recall: 0.8798 - auc: 0.9842 - prc: 0.9857 - val_loss: 0.0709 - val_cross entropy: 0.0709 - val_Brier score: 0.0147 - val_tp: 60.0000 - val_fp: 632.0000 - val_tn: 44871.0000 - val_fn: 6.0000 - val_accuracy: 0.9860 - val_precision: 0.0867 - val_recall: 0.9091 - val_auc: 0.9859 - val_prc: 0.7355\n",
      "Epoch 4/100\n",
      "278/278 [==============================] - 7s 25ms/step - loss: 0.1404 - cross entropy: 0.1404 - Brier score: 0.0431 - tp: 253465.0000 - fp: 10046.0000 - tn: 275001.0000 - fn: 30832.0000 - accuracy: 0.9282 - precision: 0.9619 - recall: 0.8916 - auc: 0.9887 - prc: 0.9893 - val_loss: 0.0623 - val_cross entropy: 0.0623 - val_Brier score: 0.0137 - val_tp: 60.0000 - val_fp: 648.0000 - val_tn: 44855.0000 - val_fn: 6.0000 - val_accuracy: 0.9856 - val_precision: 0.0847 - val_recall: 0.9091 - val_auc: 0.9862 - val_prc: 0.7094\n",
      "Epoch 5/100\n",
      "278/278 [==============================] - 7s 24ms/step - loss: 0.1258 - cross entropy: 0.1258 - Brier score: 0.0385 - tp: 258597.0000 - fp: 10219.0000 - tn: 274532.0000 - fn: 25996.0000 - accuracy: 0.9364 - precision: 0.9620 - recall: 0.9087 - auc: 0.9912 - prc: 0.9915 - val_loss: 0.0539 - val_cross entropy: 0.0539 - val_Brier score: 0.0123 - val_tp: 60.0000 - val_fp: 640.0000 - val_tn: 44863.0000 - val_fn: 6.0000 - val_accuracy: 0.9858 - val_precision: 0.0857 - val_recall: 0.9091 - val_auc: 0.9866 - val_prc: 0.7009\n",
      "Epoch 6/100\n",
      "278/278 [==============================] - 7s 24ms/step - loss: 0.1141 - cross entropy: 0.1141 - Brier score: 0.0347 - tp: 272466.0000 - fp: 12410.0000 - tn: 272713.0000 - fn: 11755.0000 - accuracy: 0.9576 - precision: 0.9564 - recall: 0.9586 - auc: 0.9928 - prc: 0.9929 - val_loss: 0.0471 - val_cross entropy: 0.0471 - val_Brier score: 0.0110 - val_tp: 60.0000 - val_fp: 603.0000 - val_tn: 44900.0000 - val_fn: 6.0000 - val_accuracy: 0.9866 - val_precision: 0.0905 - val_recall: 0.9091 - val_auc: 0.9862 - val_prc: 0.6929\n",
      "Epoch 7/100\n",
      "278/278 [==============================] - 7s 24ms/step - loss: 0.1059 - cross entropy: 0.1059 - Brier score: 0.0322 - tp: 275531.0000 - fp: 13051.0000 - tn: 271536.0000 - fn: 9226.0000 - accuracy: 0.9609 - precision: 0.9548 - recall: 0.9676 - auc: 0.9939 - prc: 0.9938 - val_loss: 0.0428 - val_cross entropy: 0.0428 - val_Brier score: 0.0101 - val_tp: 60.0000 - val_fp: 591.0000 - val_tn: 44912.0000 - val_fn: 6.0000 - val_accuracy: 0.9869 - val_precision: 0.0922 - val_recall: 0.9091 - val_auc: 0.9857 - val_prc: 0.6940\n",
      "Epoch 8/100\n",
      "278/278 [==============================] - 9s 33ms/step - loss: 0.0983 - cross entropy: 0.0983 - Brier score: 0.0297 - tp: 276732.0000 - fp: 13112.0000 - tn: 272144.0000 - fn: 7356.0000 - accuracy: 0.9640 - precision: 0.9548 - recall: 0.9741 - auc: 0.9947 - prc: 0.9945 - val_loss: 0.0393 - val_cross entropy: 0.0393 - val_Brier score: 0.0095 - val_tp: 60.0000 - val_fp: 575.0000 - val_tn: 44928.0000 - val_fn: 6.0000 - val_accuracy: 0.9873 - val_precision: 0.0945 - val_recall: 0.9091 - val_auc: 0.9807 - val_prc: 0.6952\n",
      "Epoch 9/100\n",
      "278/278 [==============================] - 8s 30ms/step - loss: 0.0920 - cross entropy: 0.0920 - Brier score: 0.0277 - tp: 280151.0000 - fp: 13441.0000 - tn: 270565.0000 - fn: 5187.0000 - accuracy: 0.9673 - precision: 0.9542 - recall: 0.9818 - auc: 0.9954 - prc: 0.9951 - val_loss: 0.0361 - val_cross entropy: 0.0361 - val_Brier score: 0.0088 - val_tp: 60.0000 - val_fp: 533.0000 - val_tn: 44970.0000 - val_fn: 6.0000 - val_accuracy: 0.9882 - val_precision: 0.1012 - val_recall: 0.9091 - val_auc: 0.9752 - val_prc: 0.6962\n",
      "Epoch 10/100\n",
      "278/278 [==============================] - 10s 36ms/step - loss: 0.0869 - cross entropy: 0.0869 - Brier score: 0.0261 - tp: 280639.0000 - fp: 13552.0000 - tn: 271039.0000 - fn: 4114.0000 - accuracy: 0.9690 - precision: 0.9539 - recall: 0.9856 - auc: 0.9958 - prc: 0.9955 - val_loss: 0.0318 - val_cross entropy: 0.0318 - val_Brier score: 0.0078 - val_tp: 60.0000 - val_fp: 497.0000 - val_tn: 45006.0000 - val_fn: 6.0000 - val_accuracy: 0.9890 - val_precision: 0.1077 - val_recall: 0.9091 - val_auc: 0.9698 - val_prc: 0.6962\n",
      "Epoch 11/100\n",
      "277/278 [============================>.] - ETA: 0s - loss: 0.0821 - cross entropy: 0.0821 - Brier score: 0.0246 - tp: 280270.0000 - fp: 13495.0000 - tn: 270076.0000 - fn: 3455.0000 - accuracy: 0.9701 - precision: 0.9541 - recall: 0.9878 - auc: 0.9962 - prc: 0.9959Restoring model weights from the end of the best epoch: 1.\n",
      "278/278 [==============================] - 9s 34ms/step - loss: 0.0821 - cross entropy: 0.0821 - Brier score: 0.0246 - tp: 281290.0000 - fp: 13542.0000 - tn: 271039.0000 - fn: 3473.0000 - accuracy: 0.9701 - precision: 0.9541 - recall: 0.9878 - auc: 0.9962 - prc: 0.9959 - val_loss: 0.0297 - val_cross entropy: 0.0297 - val_Brier score: 0.0074 - val_tp: 60.0000 - val_fp: 485.0000 - val_tn: 45018.0000 - val_fn: 6.0000 - val_accuracy: 0.9892 - val_precision: 0.1101 - val_recall: 0.9091 - val_auc: 0.9705 - val_prc: 0.6991\n",
      "Epoch 11: early stopping\n"
     ]
    }
   ],
   "source": [
    "resampled_model = make_model()\n",
    "resampled_model.load_weights(initial_weights)\n",
    "\n",
    "# Reset the bias to zero, since this dataset is balanced.\n",
    "output_layer = resampled_model.layers[-1] \n",
    "output_layer.bias.assign([0])\n",
    "\n",
    "val_ds = tf.data.Dataset.from_tensor_slices((val_features, val_labels)).cache()\n",
    "val_ds = val_ds.batch(BATCH_SIZE).prefetch(2) \n",
    "\n",
    "resampled_history = resampled_model.fit(\n",
    "    resampled_ds,\n",
    "    epochs=EPOCHS,\n",
    "    steps_per_epoch=resampled_steps_per_epoch,\n",
    "    callbacks=[early_stopping],\n",
    "    validation_data=val_ds)"
   ]
  },
  {
   "cell_type": "markdown",
   "metadata": {
    "id": "avALvzUp3T_c"
   },
   "source": [
    "If the training process were considering the whole dataset on each gradient update, this oversampling would be basically identical to the class weighting.\n",
    "\n",
    "But when training the model batch-wise, as you did here, the oversampled data provides a smoother gradient signal: Instead of each positive example being shown in one batch with a large weight, they're shown in many different batches each time with a small weight. \n",
    "\n",
    "This smoother gradient signal makes it easier to train the model."
   ]
  },
  {
   "cell_type": "markdown",
   "metadata": {
    "id": "klHZ0HV76VC5"
   },
   "source": [
    "### Check training history\n",
    "\n",
    "Note that the distributions of metrics will be different here, because the training data has a totally different distribution from the validation and test data. "
   ]
  },
  {
   "cell_type": "code",
   "execution_count": 52,
   "metadata": {
    "execution": {
     "iopub.execute_input": "2023-07-27T04:54:30.205864Z",
     "iopub.status.busy": "2023-07-27T04:54:30.205343Z",
     "iopub.status.idle": "2023-07-27T04:54:30.894926Z",
     "shell.execute_reply": "2023-07-27T04:54:30.894200Z"
    },
    "id": "YoUGfr1vuivl"
   },
   "outputs": [],
   "source": [
    "plot_metrics(resampled_history)"
   ]
  },
  {
   "cell_type": "markdown",
   "metadata": {
    "id": "1PuH3A2vnwrh"
   },
   "source": [
    "### Re-train\n"
   ]
  },
  {
   "cell_type": "markdown",
   "metadata": {
    "id": "KFLxRL8eoDE5"
   },
   "source": [
    "Because training is easier on the balanced data, the above training procedure may overfit quickly. \n",
    "\n",
    "So break up the epochs to give the `tf.keras.callbacks.EarlyStopping` finer control over when to stop training."
   ]
  },
  {
   "cell_type": "code",
   "execution_count": 53,
   "metadata": {
    "execution": {
     "iopub.execute_input": "2023-07-27T04:54:30.898877Z",
     "iopub.status.busy": "2023-07-27T04:54:30.898286Z",
     "iopub.status.idle": "2023-07-27T04:54:45.911522Z",
     "shell.execute_reply": "2023-07-27T04:54:45.910772Z"
    },
    "id": "e_yn9I26qAHU"
   },
   "outputs": [
    {
     "name": "stdout",
     "output_type": "stream",
     "text": [
      "Epoch 1/1000\n",
      "20/20 [==============================] - 6s 133ms/step - loss: 0.9597 - cross entropy: 0.4700 - Brier score: 0.1411 - tp: 9279.0000 - fp: 5594.0000 - tn: 60496.0000 - fn: 11160.0000 - accuracy: 0.8064 - precision: 0.6239 - recall: 0.4540 - auc: 0.8413 - prc: 0.6372 - val_loss: 0.4542 - val_cross entropy: 0.4542 - val_Brier score: 0.1454 - val_tp: 53.0000 - val_fp: 9078.0000 - val_tn: 36425.0000 - val_fn: 13.0000 - val_accuracy: 0.8005 - val_precision: 0.0058 - val_recall: 0.8030 - val_auc: 0.8701 - val_prc: 0.0624\n",
      "Epoch 2/1000\n",
      "20/20 [==============================] - 1s 37ms/step - loss: 0.6391 - cross entropy: 0.6391 - Brier score: 0.2026 - tp: 14073.0000 - fp: 5361.0000 - tn: 15142.0000 - fn: 6384.0000 - accuracy: 0.7133 - precision: 0.7241 - recall: 0.6879 - auc: 0.7602 - prc: 0.8184 - val_loss: 0.4493 - val_cross entropy: 0.4493 - val_Brier score: 0.1426 - val_tp: 59.0000 - val_fp: 8476.0000 - val_tn: 37027.0000 - val_fn: 7.0000 - val_accuracy: 0.8138 - val_precision: 0.0069 - val_recall: 0.8939 - val_auc: 0.9316 - val_prc: 0.3955\n",
      "Epoch 3/1000\n",
      "20/20 [==============================] - 1s 39ms/step - loss: 0.5341 - cross entropy: 0.5341 - Brier score: 0.1701 - tp: 15762.0000 - fp: 5045.0000 - tn: 15313.0000 - fn: 4840.0000 - accuracy: 0.7587 - precision: 0.7575 - recall: 0.7651 - auc: 0.8249 - prc: 0.8727 - val_loss: 0.4167 - val_cross entropy: 0.4167 - val_Brier score: 0.1280 - val_tp: 60.0000 - val_fp: 6812.0000 - val_tn: 38691.0000 - val_fn: 6.0000 - val_accuracy: 0.8504 - val_precision: 0.0087 - val_recall: 0.9091 - val_auc: 0.9425 - val_prc: 0.5633\n",
      "Epoch 4/1000\n",
      "20/20 [==============================] - 1s 40ms/step - loss: 0.4736 - cross entropy: 0.4736 - Brier score: 0.1509 - tp: 16420.0000 - fp: 4553.0000 - tn: 15856.0000 - fn: 4131.0000 - accuracy: 0.7880 - precision: 0.7829 - recall: 0.7990 - auc: 0.8582 - prc: 0.8968 - val_loss: 0.3763 - val_cross entropy: 0.3763 - val_Brier score: 0.1105 - val_tp: 60.0000 - val_fp: 5067.0000 - val_tn: 40436.0000 - val_fn: 6.0000 - val_accuracy: 0.8887 - val_precision: 0.0117 - val_recall: 0.9091 - val_auc: 0.9474 - val_prc: 0.6539\n",
      "Epoch 5/1000\n",
      "20/20 [==============================] - 1s 38ms/step - loss: 0.4259 - cross entropy: 0.4259 - Brier score: 0.1357 - tp: 16228.0000 - fp: 3779.0000 - tn: 16773.0000 - fn: 4180.0000 - accuracy: 0.8057 - precision: 0.8111 - recall: 0.7952 - auc: 0.8805 - prc: 0.9127 - val_loss: 0.3362 - val_cross entropy: 0.3362 - val_Brier score: 0.0936 - val_tp: 59.0000 - val_fp: 3579.0000 - val_tn: 41924.0000 - val_fn: 7.0000 - val_accuracy: 0.9213 - val_precision: 0.0162 - val_recall: 0.8939 - val_auc: 0.9510 - val_prc: 0.7026\n",
      "Epoch 6/1000\n",
      "20/20 [==============================] - 1s 41ms/step - loss: 0.3960 - cross entropy: 0.3960 - Brier score: 0.1242 - tp: 16372.0000 - fp: 3189.0000 - tn: 17255.0000 - fn: 4144.0000 - accuracy: 0.8210 - precision: 0.8370 - recall: 0.7980 - auc: 0.8962 - prc: 0.9246 - val_loss: 0.3026 - val_cross entropy: 0.3026 - val_Brier score: 0.0801 - val_tp: 59.0000 - val_fp: 2621.0000 - val_tn: 42882.0000 - val_fn: 7.0000 - val_accuracy: 0.9423 - val_precision: 0.0220 - val_recall: 0.8939 - val_auc: 0.9545 - val_prc: 0.7287\n",
      "Epoch 7/1000\n",
      "20/20 [==============================] - 1s 38ms/step - loss: 0.3655 - cross entropy: 0.3655 - Brier score: 0.1141 - tp: 16507.0000 - fp: 2726.0000 - tn: 17740.0000 - fn: 3987.0000 - accuracy: 0.8361 - precision: 0.8583 - recall: 0.8055 - auc: 0.9098 - prc: 0.9338 - val_loss: 0.2741 - val_cross entropy: 0.2741 - val_Brier score: 0.0690 - val_tp: 59.0000 - val_fp: 1985.0000 - val_tn: 43518.0000 - val_fn: 7.0000 - val_accuracy: 0.9563 - val_precision: 0.0289 - val_recall: 0.8939 - val_auc: 0.9570 - val_prc: 0.7401\n",
      "Epoch 8/1000\n",
      "20/20 [==============================] - 1s 36ms/step - loss: 0.3385 - cross entropy: 0.3385 - Brier score: 0.1048 - tp: 16612.0000 - fp: 2308.0000 - tn: 18217.0000 - fn: 3823.0000 - accuracy: 0.8503 - precision: 0.8780 - recall: 0.8129 - auc: 0.9217 - prc: 0.9423 - val_loss: 0.2488 - val_cross entropy: 0.2488 - val_Brier score: 0.0596 - val_tp: 59.0000 - val_fp: 1563.0000 - val_tn: 43940.0000 - val_fn: 7.0000 - val_accuracy: 0.9655 - val_precision: 0.0364 - val_recall: 0.8939 - val_auc: 0.9597 - val_prc: 0.7538\n",
      "Epoch 9/1000\n",
      "20/20 [==============================] - 1s 35ms/step - loss: 0.3245 - cross entropy: 0.3245 - Brier score: 0.1006 - tp: 16722.0000 - fp: 2189.0000 - tn: 18236.0000 - fn: 3813.0000 - accuracy: 0.8535 - precision: 0.8842 - recall: 0.8143 - auc: 0.9275 - prc: 0.9462 - val_loss: 0.2269 - val_cross entropy: 0.2269 - val_Brier score: 0.0520 - val_tp: 59.0000 - val_fp: 1306.0000 - val_tn: 44197.0000 - val_fn: 7.0000 - val_accuracy: 0.9712 - val_precision: 0.0432 - val_recall: 0.8939 - val_auc: 0.9620 - val_prc: 0.7583\n",
      "Epoch 10/1000\n",
      "20/20 [==============================] - 1s 40ms/step - loss: 0.3044 - cross entropy: 0.3044 - Brier score: 0.0935 - tp: 16744.0000 - fp: 1847.0000 - tn: 18759.0000 - fn: 3610.0000 - accuracy: 0.8668 - precision: 0.9007 - recall: 0.8226 - auc: 0.9363 - prc: 0.9517 - val_loss: 0.2085 - val_cross entropy: 0.2085 - val_Brier score: 0.0460 - val_tp: 59.0000 - val_fp: 1152.0000 - val_tn: 44351.0000 - val_fn: 7.0000 - val_accuracy: 0.9746 - val_precision: 0.0487 - val_recall: 0.8939 - val_auc: 0.9649 - val_prc: 0.7619\n",
      "Epoch 11/1000\n",
      "20/20 [==============================] - 1s 37ms/step - loss: 0.2920 - cross entropy: 0.2920 - Brier score: 0.0891 - tp: 16910.0000 - fp: 1657.0000 - tn: 18836.0000 - fn: 3557.0000 - accuracy: 0.8727 - precision: 0.9108 - recall: 0.8262 - auc: 0.9412 - prc: 0.9558 - val_loss: 0.1929 - val_cross entropy: 0.1929 - val_Brier score: 0.0411 - val_tp: 59.0000 - val_fp: 1044.0000 - val_tn: 44459.0000 - val_fn: 7.0000 - val_accuracy: 0.9769 - val_precision: 0.0535 - val_recall: 0.8939 - val_auc: 0.9682 - val_prc: 0.7683\n",
      "Epoch 12/1000\n",
      "20/20 [==============================] - 1s 35ms/step - loss: 0.2785 - cross entropy: 0.2785 - Brier score: 0.0850 - tp: 17016.0000 - fp: 1593.0000 - tn: 18920.0000 - fn: 3431.0000 - accuracy: 0.8773 - precision: 0.9144 - recall: 0.8322 - auc: 0.9470 - prc: 0.9592 - val_loss: 0.1793 - val_cross entropy: 0.1793 - val_Brier score: 0.0372 - val_tp: 59.0000 - val_fp: 965.0000 - val_tn: 44538.0000 - val_fn: 7.0000 - val_accuracy: 0.9787 - val_precision: 0.0576 - val_recall: 0.8939 - val_auc: 0.9718 - val_prc: 0.7731\n",
      "Epoch 13/1000\n",
      "20/20 [==============================] - 1s 37ms/step - loss: 0.2651 - cross entropy: 0.2651 - Brier score: 0.0810 - tp: 17249.0000 - fp: 1487.0000 - tn: 18871.0000 - fn: 3353.0000 - accuracy: 0.8818 - precision: 0.9206 - recall: 0.8372 - auc: 0.9519 - prc: 0.9631 - val_loss: 0.1679 - val_cross entropy: 0.1679 - val_Brier score: 0.0341 - val_tp: 60.0000 - val_fp: 921.0000 - val_tn: 44582.0000 - val_fn: 6.0000 - val_accuracy: 0.9797 - val_precision: 0.0612 - val_recall: 0.9091 - val_auc: 0.9741 - val_prc: 0.7668\n",
      "Epoch 14/1000\n",
      "20/20 [==============================] - 1s 44ms/step - loss: 0.2540 - cross entropy: 0.2540 - Brier score: 0.0776 - tp: 17345.0000 - fp: 1373.0000 - tn: 19005.0000 - fn: 3237.0000 - accuracy: 0.8875 - precision: 0.9266 - recall: 0.8427 - auc: 0.9569 - prc: 0.9660 - val_loss: 0.1580 - val_cross entropy: 0.1580 - val_Brier score: 0.0316 - val_tp: 60.0000 - val_fp: 893.0000 - val_tn: 44610.0000 - val_fn: 6.0000 - val_accuracy: 0.9803 - val_precision: 0.0630 - val_recall: 0.9091 - val_auc: 0.9762 - val_prc: 0.7728\n",
      "Epoch 15/1000\n",
      "20/20 [==============================] - 1s 32ms/step - loss: 0.2490 - cross entropy: 0.2490 - Brier score: 0.0756 - tp: 17196.0000 - fp: 1356.0000 - tn: 19315.0000 - fn: 3093.0000 - accuracy: 0.8914 - precision: 0.9269 - recall: 0.8476 - auc: 0.9587 - prc: 0.9665 - val_loss: 0.1483 - val_cross entropy: 0.1483 - val_Brier score: 0.0291 - val_tp: 60.0000 - val_fp: 844.0000 - val_tn: 44659.0000 - val_fn: 6.0000 - val_accuracy: 0.9813 - val_precision: 0.0664 - val_recall: 0.9091 - val_auc: 0.9787 - val_prc: 0.7615\n",
      "Epoch 16/1000\n"
     ]
    },
    {
     "name": "stdout",
     "output_type": "stream",
     "text": [
      "20/20 [==============================] - 1s 35ms/step - loss: 0.2349 - cross entropy: 0.2349 - Brier score: 0.0711 - tp: 17600.0000 - fp: 1203.0000 - tn: 19148.0000 - fn: 3009.0000 - accuracy: 0.8972 - precision: 0.9360 - recall: 0.8540 - auc: 0.9630 - prc: 0.9709 - val_loss: 0.1409 - val_cross entropy: 0.1409 - val_Brier score: 0.0275 - val_tp: 60.0000 - val_fp: 839.0000 - val_tn: 44664.0000 - val_fn: 6.0000 - val_accuracy: 0.9815 - val_precision: 0.0667 - val_recall: 0.9091 - val_auc: 0.9799 - val_prc: 0.7645\n",
      "Epoch 17/1000\n",
      "20/20 [==============================] - 1s 31ms/step - loss: 0.2266 - cross entropy: 0.2266 - Brier score: 0.0688 - tp: 17397.0000 - fp: 1182.0000 - tn: 19530.0000 - fn: 2851.0000 - accuracy: 0.9015 - precision: 0.9364 - recall: 0.8592 - auc: 0.9655 - prc: 0.9719 - val_loss: 0.1342 - val_cross entropy: 0.1342 - val_Brier score: 0.0261 - val_tp: 60.0000 - val_fp: 825.0000 - val_tn: 44678.0000 - val_fn: 6.0000 - val_accuracy: 0.9818 - val_precision: 0.0678 - val_recall: 0.9091 - val_auc: 0.9803 - val_prc: 0.7694\n",
      "Epoch 18/1000\n",
      "20/20 [==============================] - 1s 30ms/step - loss: 0.2230 - cross entropy: 0.2230 - Brier score: 0.0675 - tp: 17369.0000 - fp: 1122.0000 - tn: 19581.0000 - fn: 2888.0000 - accuracy: 0.9021 - precision: 0.9393 - recall: 0.8574 - auc: 0.9666 - prc: 0.9725 - val_loss: 0.1273 - val_cross entropy: 0.1273 - val_Brier score: 0.0246 - val_tp: 60.0000 - val_fp: 793.0000 - val_tn: 44710.0000 - val_fn: 6.0000 - val_accuracy: 0.9825 - val_precision: 0.0703 - val_recall: 0.9091 - val_auc: 0.9814 - val_prc: 0.7718\n",
      "Epoch 19/1000\n",
      "20/20 [==============================] - 1s 27ms/step - loss: 0.2141 - cross entropy: 0.2141 - Brier score: 0.0648 - tp: 17644.0000 - fp: 1053.0000 - tn: 19432.0000 - fn: 2831.0000 - accuracy: 0.9052 - precision: 0.9437 - recall: 0.8617 - auc: 0.9692 - prc: 0.9751 - val_loss: 0.1216 - val_cross entropy: 0.1216 - val_Brier score: 0.0234 - val_tp: 60.0000 - val_fp: 771.0000 - val_tn: 44732.0000 - val_fn: 6.0000 - val_accuracy: 0.9829 - val_precision: 0.0722 - val_recall: 0.9091 - val_auc: 0.9817 - val_prc: 0.7715\n",
      "Epoch 20/1000\n",
      "20/20 [==============================] - 1s 28ms/step - loss: 0.2094 - cross entropy: 0.2094 - Brier score: 0.0636 - tp: 17691.0000 - fp: 974.0000 - tn: 19450.0000 - fn: 2845.0000 - accuracy: 0.9068 - precision: 0.9478 - recall: 0.8615 - auc: 0.9709 - prc: 0.9762 - val_loss: 0.1175 - val_cross entropy: 0.1175 - val_Brier score: 0.0227 - val_tp: 60.0000 - val_fp: 774.0000 - val_tn: 44729.0000 - val_fn: 6.0000 - val_accuracy: 0.9829 - val_precision: 0.0719 - val_recall: 0.9091 - val_auc: 0.9819 - val_prc: 0.7738\n",
      "Epoch 21/1000\n",
      "20/20 [==============================] - 1s 32ms/step - loss: 0.2049 - cross entropy: 0.2049 - Brier score: 0.0621 - tp: 17720.0000 - fp: 1013.0000 - tn: 19474.0000 - fn: 2753.0000 - accuracy: 0.9081 - precision: 0.9459 - recall: 0.8655 - auc: 0.9724 - prc: 0.9770 - val_loss: 0.1129 - val_cross entropy: 0.1129 - val_Brier score: 0.0218 - val_tp: 60.0000 - val_fp: 751.0000 - val_tn: 44752.0000 - val_fn: 6.0000 - val_accuracy: 0.9834 - val_precision: 0.0740 - val_recall: 0.9091 - val_auc: 0.9825 - val_prc: 0.7514\n",
      "Epoch 22/1000\n",
      "20/20 [==============================] - 1s 28ms/step - loss: 0.1981 - cross entropy: 0.1981 - Brier score: 0.0602 - tp: 17587.0000 - fp: 962.0000 - tn: 19707.0000 - fn: 2704.0000 - accuracy: 0.9105 - precision: 0.9481 - recall: 0.8667 - auc: 0.9743 - prc: 0.9782 - val_loss: 0.1079 - val_cross entropy: 0.1079 - val_Brier score: 0.0208 - val_tp: 60.0000 - val_fp: 736.0000 - val_tn: 44767.0000 - val_fn: 6.0000 - val_accuracy: 0.9837 - val_precision: 0.0754 - val_recall: 0.9091 - val_auc: 0.9827 - val_prc: 0.7540\n",
      "Epoch 23/1000\n",
      "20/20 [==============================] - 1s 27ms/step - loss: 0.1953 - cross entropy: 0.1953 - Brier score: 0.0593 - tp: 17714.0000 - fp: 923.0000 - tn: 19589.0000 - fn: 2734.0000 - accuracy: 0.9107 - precision: 0.9505 - recall: 0.8663 - auc: 0.9750 - prc: 0.9791 - val_loss: 0.1041 - val_cross entropy: 0.1041 - val_Brier score: 0.0200 - val_tp: 60.0000 - val_fp: 715.0000 - val_tn: 44788.0000 - val_fn: 6.0000 - val_accuracy: 0.9842 - val_precision: 0.0774 - val_recall: 0.9091 - val_auc: 0.9826 - val_prc: 0.7454\n",
      "Epoch 24/1000\n",
      "20/20 [==============================] - 1s 28ms/step - loss: 0.1908 - cross entropy: 0.1908 - Brier score: 0.0581 - tp: 17689.0000 - fp: 922.0000 - tn: 19611.0000 - fn: 2738.0000 - accuracy: 0.9106 - precision: 0.9505 - recall: 0.8660 - auc: 0.9766 - prc: 0.9799 - val_loss: 0.1008 - val_cross entropy: 0.1008 - val_Brier score: 0.0194 - val_tp: 60.0000 - val_fp: 712.0000 - val_tn: 44791.0000 - val_fn: 6.0000 - val_accuracy: 0.9842 - val_precision: 0.0777 - val_recall: 0.9091 - val_auc: 0.9831 - val_prc: 0.7477\n",
      "Epoch 25/1000\n",
      "20/20 [==============================] - 1s 28ms/step - loss: 0.1910 - cross entropy: 0.1910 - Brier score: 0.0580 - tp: 17857.0000 - fp: 893.0000 - tn: 19441.0000 - fn: 2769.0000 - accuracy: 0.9106 - precision: 0.9524 - recall: 0.8658 - auc: 0.9767 - prc: 0.9803 - val_loss: 0.0976 - val_cross entropy: 0.0976 - val_Brier score: 0.0188 - val_tp: 60.0000 - val_fp: 691.0000 - val_tn: 44812.0000 - val_fn: 6.0000 - val_accuracy: 0.9847 - val_precision: 0.0799 - val_recall: 0.9091 - val_auc: 0.9833 - val_prc: 0.7481\n",
      "Epoch 26/1000\n",
      "20/20 [==============================] - 1s 27ms/step - loss: 0.1847 - cross entropy: 0.1847 - Brier score: 0.0561 - tp: 17931.0000 - fp: 835.0000 - tn: 19502.0000 - fn: 2692.0000 - accuracy: 0.9139 - precision: 0.9555 - recall: 0.8695 - auc: 0.9783 - prc: 0.9816 - val_loss: 0.0955 - val_cross entropy: 0.0955 - val_Brier score: 0.0186 - val_tp: 60.0000 - val_fp: 696.0000 - val_tn: 44807.0000 - val_fn: 6.0000 - val_accuracy: 0.9846 - val_precision: 0.0794 - val_recall: 0.9091 - val_auc: 0.9838 - val_prc: 0.7481\n",
      "Epoch 27/1000\n",
      "20/20 [==============================] - 1s 34ms/step - loss: 0.1828 - cross entropy: 0.1828 - Brier score: 0.0557 - tp: 17739.0000 - fp: 864.0000 - tn: 19755.0000 - fn: 2602.0000 - accuracy: 0.9154 - precision: 0.9536 - recall: 0.8721 - auc: 0.9786 - prc: 0.9814 - val_loss: 0.0928 - val_cross entropy: 0.0928 - val_Brier score: 0.0181 - val_tp: 60.0000 - val_fp: 687.0000 - val_tn: 44816.0000 - val_fn: 6.0000 - val_accuracy: 0.9848 - val_precision: 0.0803 - val_recall: 0.9091 - val_auc: 0.9845 - val_prc: 0.7485\n",
      "Epoch 28/1000\n",
      "20/20 [==============================] - 1s 34ms/step - loss: 0.1784 - cross entropy: 0.1784 - Brier score: 0.0547 - tp: 17863.0000 - fp: 834.0000 - tn: 19636.0000 - fn: 2627.0000 - accuracy: 0.9155 - precision: 0.9554 - recall: 0.8718 - auc: 0.9798 - prc: 0.9826 - val_loss: 0.0902 - val_cross entropy: 0.0902 - val_Brier score: 0.0176 - val_tp: 60.0000 - val_fp: 674.0000 - val_tn: 44829.0000 - val_fn: 6.0000 - val_accuracy: 0.9851 - val_precision: 0.0817 - val_recall: 0.9091 - val_auc: 0.9845 - val_prc: 0.7511\n",
      "Epoch 29/1000\n",
      "20/20 [==============================] - 1s 36ms/step - loss: 0.1763 - cross entropy: 0.1763 - Brier score: 0.0539 - tp: 17908.0000 - fp: 848.0000 - tn: 19616.0000 - fn: 2588.0000 - accuracy: 0.9161 - precision: 0.9548 - recall: 0.8737 - auc: 0.9803 - prc: 0.9829 - val_loss: 0.0877 - val_cross entropy: 0.0877 - val_Brier score: 0.0172 - val_tp: 60.0000 - val_fp: 666.0000 - val_tn: 44837.0000 - val_fn: 6.0000 - val_accuracy: 0.9853 - val_precision: 0.0826 - val_recall: 0.9091 - val_auc: 0.9851 - val_prc: 0.7512\n",
      "Epoch 30/1000\n",
      "20/20 [==============================] - ETA: 0s - loss: 0.1713 - cross entropy: 0.1713 - Brier score: 0.0521 - tp: 17802.0000 - fp: 741.0000 - tn: 19892.0000 - fn: 2525.0000 - accuracy: 0.9203 - precision: 0.9600 - recall: 0.8758 - auc: 0.9818 - prc: 0.9840Restoring model weights from the end of the best epoch: 20.\n",
      "20/20 [==============================] - 1s 38ms/step - loss: 0.1713 - cross entropy: 0.1713 - Brier score: 0.0521 - tp: 17802.0000 - fp: 741.0000 - tn: 19892.0000 - fn: 2525.0000 - accuracy: 0.9203 - precision: 0.9600 - recall: 0.8758 - auc: 0.9818 - prc: 0.9840 - val_loss: 0.0854 - val_cross entropy: 0.0854 - val_Brier score: 0.0167 - val_tp: 60.0000 - val_fp: 659.0000 - val_tn: 44844.0000 - val_fn: 6.0000 - val_accuracy: 0.9854 - val_precision: 0.0834 - val_recall: 0.9091 - val_auc: 0.9852 - val_prc: 0.7509\n"
     ]
    },
    {
     "name": "stdout",
     "output_type": "stream",
     "text": [
      "Epoch 30: early stopping\n"
     ]
    }
   ],
   "source": [
    "resampled_model = make_model()\n",
    "resampled_model.load_weights(initial_weights)\n",
    "\n",
    "# Reset the bias to zero, since this dataset is balanced.\n",
    "output_layer = resampled_model.layers[-1] \n",
    "output_layer.bias.assign([0])\n",
    "\n",
    "resampled_history = resampled_model.fit(\n",
    "    resampled_ds,\n",
    "    # These are not real epochs\n",
    "    steps_per_epoch=20,\n",
    "    epochs=10*EPOCHS,\n",
    "    callbacks=[early_stopping],\n",
    "    validation_data=(val_ds))"
   ]
  },
  {
   "cell_type": "markdown",
   "metadata": {
    "id": "UuJYKv0gpBK1"
   },
   "source": [
    "### Re-check training history"
   ]
  },
  {
   "cell_type": "code",
   "execution_count": 54,
   "metadata": {
    "execution": {
     "iopub.execute_input": "2023-07-27T04:54:45.914945Z",
     "iopub.status.busy": "2023-07-27T04:54:45.914683Z",
     "iopub.status.idle": "2023-07-27T04:54:46.584295Z",
     "shell.execute_reply": "2023-07-27T04:54:46.583638Z"
    },
    "id": "FMycrpJwn39w"
   },
   "outputs": [
    {
     "name": "stderr",
     "output_type": "stream",
     "text": [
      "<ipython-input-26-d9248335d864>:5: MatplotlibDeprecationWarning: Adding an axes using the same arguments as a previous axes currently reuses the earlier instance.  In a future version, a new instance will always be created and returned.  Meanwhile, this warning can be suppressed, and the future behavior ensured, by passing a unique label to each axes instance.\n",
      "  plt.subplot(2,2,n+1)\n"
     ]
    }
   ],
   "source": [
    "plot_metrics(resampled_history)"
   ]
  },
  {
   "cell_type": "markdown",
   "metadata": {
    "id": "bUuE5HOWZiwP"
   },
   "source": [
    "### Evaluate metrics"
   ]
  },
  {
   "cell_type": "code",
   "execution_count": 55,
   "metadata": {
    "execution": {
     "iopub.execute_input": "2023-07-27T04:54:46.588307Z",
     "iopub.status.busy": "2023-07-27T04:54:46.588058Z",
     "iopub.status.idle": "2023-07-27T04:54:47.001633Z",
     "shell.execute_reply": "2023-07-27T04:54:47.000947Z"
    },
    "id": "C0fmHSgXxFdW"
   },
   "outputs": [],
   "source": [
    "train_predictions_resampled = resampled_model.predict(train_features, batch_size=BATCH_SIZE)\n",
    "test_predictions_resampled = resampled_model.predict(test_features, batch_size=BATCH_SIZE)"
   ]
  },
  {
   "cell_type": "code",
   "execution_count": 56,
   "metadata": {},
   "outputs": [
    {
     "data": {
      "text/plain": [
       "array([ 1.04758778,  0.07727343, -1.19163758,  0.15449483,  0.50939678,\n",
       "       -0.21544273,  0.0763868 , -0.05938365,  0.16713332, -0.210343  ,\n",
       "        0.96802119,  1.00661902,  0.5056653 , -0.78658977, -0.52064647,\n",
       "        0.59231751,  0.16698334,  0.16424675,  0.47070943, -0.14539261,\n",
       "       -0.43723178, -1.13516723,  0.46752395,  0.23104206, -0.47393609,\n",
       "        0.36663968, -0.15312521, -0.13429526, -1.32857721])"
      ]
     },
     "execution_count": 56,
     "metadata": {},
     "output_type": "execute_result"
    }
   ],
   "source": [
    "train_features[0]"
   ]
  },
  {
   "cell_type": "code",
   "execution_count": 57,
   "metadata": {
    "execution": {
     "iopub.execute_input": "2023-07-27T04:54:47.005366Z",
     "iopub.status.busy": "2023-07-27T04:54:47.004711Z",
     "iopub.status.idle": "2023-07-27T04:54:47.776542Z",
     "shell.execute_reply": "2023-07-27T04:54:47.775926Z"
    },
    "id": "FO0mMOYUDWFk"
   },
   "outputs": [
    {
     "name": "stdout",
     "output_type": "stream",
     "text": [
      "loss :  0.1181606650352478\n",
      "cross entropy :  0.1181606650352478\n",
      "Brier score :  0.023037463426589966\n",
      "tp :  87.0\n",
      "fp :  1038.0\n",
      "tn :  55827.0\n",
      "fn :  10.0\n",
      "accuracy :  0.9816017746925354\n",
      "precision :  0.07733333110809326\n",
      "recall :  0.8969072103500366\n",
      "auc :  0.9815057516098022\n",
      "prc :  0.7676520943641663\n",
      "\n",
      "Legitimate Transactions Detected (True Negatives):  55827\n",
      "Legitimate Transactions Incorrectly Detected (False Positives):  1038\n",
      "Fraudulent Transactions Missed (False Negatives):  10\n",
      "Fraudulent Transactions Detected (True Positives):  87\n",
      "Total Fraudulent Transactions:  97\n"
     ]
    }
   ],
   "source": [
    "resampled_results = resampled_model.evaluate(test_features, test_labels,\n",
    "                                             batch_size=BATCH_SIZE, verbose=0)\n",
    "for name, value in zip(resampled_model.metrics_names, resampled_results):\n",
    "  print(name, ': ', value)\n",
    "print()\n",
    "plot_cm(test_labels, test_predictions_resampled)"
   ]
  },
  {
   "cell_type": "markdown",
   "metadata": {
    "id": "_xYozM1IIITq"
   },
   "source": [
    "### Plot the ROC"
   ]
  },
  {
   "cell_type": "code",
   "execution_count": 58,
   "metadata": {
    "execution": {
     "iopub.execute_input": "2023-07-27T04:54:47.779819Z",
     "iopub.status.busy": "2023-07-27T04:54:47.779578Z",
     "iopub.status.idle": "2023-07-27T04:54:48.160090Z",
     "shell.execute_reply": "2023-07-27T04:54:48.159442Z"
    },
    "id": "fye_CiuYrZ1U"
   },
   "outputs": [],
   "source": [
    "plot_roc(\"Train Baseline\", train_labels, train_predictions_baseline, color=colors[0])\n",
    "plot_roc(\"Test Baseline\", test_labels, test_predictions_baseline, color=colors[0], linestyle='--')\n",
    "plot_roc(\"Train Weighted\", train_labels, train_predictions_weighted, color=colors[1])\n",
    "plot_roc(\"Test Weighted\", test_labels, test_predictions_weighted, color=colors[1], linestyle='--')\n",
    "plot_roc(\"Train Resampled\", train_labels, train_predictions_resampled, color=colors[2])\n",
    "plot_roc(\"Test Resampled\", test_labels, test_predictions_resampled, color=colors[2], linestyle='--')\n",
    "plt.legend(loc='lower right');"
   ]
  },
  {
   "cell_type": "markdown",
   "metadata": {
    "id": "vayGnv0VOe_v"
   },
   "source": [
    "### Plot the AUPRC\n"
   ]
  },
  {
   "cell_type": "code",
   "execution_count": 59,
   "metadata": {
    "execution": {
     "iopub.execute_input": "2023-07-27T04:54:48.163919Z",
     "iopub.status.busy": "2023-07-27T04:54:48.163399Z",
     "iopub.status.idle": "2023-07-27T04:54:48.582548Z",
     "shell.execute_reply": "2023-07-27T04:54:48.581887Z"
    },
    "id": "wgWXQ8aeOhCZ"
   },
   "outputs": [],
   "source": [
    "plot_prc(\"Train Baseline\", train_labels, train_predictions_baseline, color=colors[0])\n",
    "plot_prc(\"Test Baseline\", test_labels, test_predictions_baseline, color=colors[0], linestyle='--')\n",
    "\n",
    "plot_prc(\"Train Weighted\", train_labels, train_predictions_weighted, color=colors[1])\n",
    "plot_prc(\"Test Weighted\", test_labels, test_predictions_weighted, color=colors[1], linestyle='--')\n",
    "\n",
    "plot_prc(\"Train Resampled\", train_labels, train_predictions_resampled, color=colors[2])\n",
    "plot_prc(\"Test Resampled\", test_labels, test_predictions_resampled, color=colors[2], linestyle='--')\n",
    "plt.legend(loc='lower right');"
   ]
  },
  {
   "cell_type": "code",
   "execution_count": 60,
   "metadata": {},
   "outputs": [
    {
     "name": "stdout",
     "output_type": "stream",
     "text": [
      "export_path = models\\1\n",
      "\n",
      "INFO:tensorflow:Assets written to: models\\1\\assets\n",
      "\n",
      "Saved model:\n"
     ]
    },
    {
     "name": "stderr",
     "output_type": "stream",
     "text": [
      "'ls' is not recognized as an internal or external command,\n",
      "operable program or batch file.\n"
     ]
    }
   ],
   "source": [
    "import tempfile\n",
    "\n",
    "MODEL_DIR = \"models\"\n",
    "version = 1\n",
    "export_path = os.path.join(MODEL_DIR, str(version))\n",
    "print('export_path = {}\\n'.format(export_path))\n",
    "\n",
    "tf.keras.models.save_model(\n",
    "    model,\n",
    "    export_path,\n",
    "    overwrite=True,\n",
    "    include_optimizer=True,\n",
    "    save_format=None,\n",
    "    signatures=None,\n",
    "    options=None\n",
    ")\n",
    "\n",
    "print('\\nSaved model:')\n",
    "!ls -l {export_path}"
   ]
  },
  {
   "cell_type": "markdown",
   "metadata": {
    "id": "3o3f0ywl8uqW"
   },
   "source": [
    "## Prediction"
   ]
  },
  {
   "cell_type": "code",
   "execution_count": 72,
   "metadata": {},
   "outputs": [
    {
     "name": "stdout",
     "output_type": "stream",
     "text": [
      "Data: {\"signature_name\": \"serving_default\", \"instances\": ... 05035318, 0.5593963793941588, -1.3285772065673767]]}\n",
      "<Response [200]>\n",
      "[[1.63317543e-06], [0.000104095539], [4.53663197e-05], [0.000200046663], [4.43129611e-05]]\n"
     ]
    }
   ],
   "source": [
    "import json\n",
    "import requests\n",
    "\n",
    "data = json.dumps({\"signature_name\": \"serving_default\", \"instances\": test_features[0:5].tolist()})\n",
    "print('Data: {} ... {}'.format(data[:50], data[len(data)-52:]))\n",
    "\n",
    "\n",
    "headers = {\"content-type\": \"application/json\"}\n",
    "json_response = requests.post('http://34.72.253.181:80/v1/models/fraud_classifier:predict', data=data, headers=headers)\n",
    "#json_response = requests.post('http://a723369bebfdc403da77ce94594d2bdf-939222270.us-east-1.elb.amazonaws.com/v1/models/fraud_classifier:predict', data=data, headers=headers)\n",
    "print(json_response)\n",
    "predictions = json.loads(json_response.text)['predictions']\n",
    "print(predictions)"
   ]
  },
  {
   "cell_type": "markdown",
   "metadata": {},
   "source": [
    "Data: {\"signature_name\": \"serving_default\", \"instances\": ... 83953721, -2.056875217682629, -0.7236977124683363]]}\n",
    "<Response [200]>\n",
    "[[0.000217781009], [1.49573561e-05], [0.000214387343], [8.73693125e-07], [2.68517852e-07]]"
   ]
  }
 ],
 "metadata": {
  "colab": {
   "collapsed_sections": [],
   "name": "imbalanced_data.ipynb",
   "toc_visible": true
  },
  "kernelspec": {
   "display_name": "Python 3",
   "language": "python",
   "name": "python3"
  },
  "language_info": {
   "codemirror_mode": {
    "name": "ipython",
    "version": 3
   },
   "file_extension": ".py",
   "mimetype": "text/x-python",
   "name": "python",
   "nbconvert_exporter": "python",
   "pygments_lexer": "ipython3",
   "version": "3.8.8"
  }
 },
 "nbformat": 4,
 "nbformat_minor": 1
}
